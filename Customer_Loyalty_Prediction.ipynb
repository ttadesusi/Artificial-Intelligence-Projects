{
  "nbformat": 4,
  "nbformat_minor": 0,
  "metadata": {
    "colab": {
      "provenance": [],
      "authorship_tag": "ABX9TyOkJgmXp/bGKNIo/URUT4Sz",
      "include_colab_link": true
    },
    "kernelspec": {
      "name": "python3",
      "display_name": "Python 3"
    },
    "language_info": {
      "name": "python"
    }
  },
  "cells": [
    {
      "cell_type": "markdown",
      "metadata": {
        "id": "view-in-github",
        "colab_type": "text"
      },
      "source": [
        "<a href=\"https://colab.research.google.com/github/ttadesusi/Artificial-Intelligence-Projects/blob/main/Customer_Loyalty_Prediction.ipynb\" target=\"_parent\"><img src=\"https://colab.research.google.com/assets/colab-badge.svg\" alt=\"Open In Colab\"/></a>"
      ]
    },
    {
      "cell_type": "markdown",
      "source": [
        "# **CUSTOMER LOYALTY SCORE PREDICTION**\n",
        "\n",
        "---\n",
        "\n",
        "## **Using Different Classifier Algorithms:**\n",
        "\n",
        "**1.   Polynomial Regression**\n",
        "\n",
        "**2.   Random Forest**\n",
        "\n",
        "**3.   K-Nearest Neigbour**\n",
        "\n",
        "**4.   Random Forest**\n",
        "\n",
        "**5.   Artificial Neural Network**\n"
      ],
      "metadata": {
        "id": "TXS3qWGUu9Wk"
      }
    },
    {
      "cell_type": "markdown",
      "source": [
        "## **DATA AQUISITION**"
      ],
      "metadata": {
        "id": "9tXNpaLIAMRa"
      }
    },
    {
      "cell_type": "code",
      "execution_count": 1,
      "metadata": {
        "id": "9bpLXTlcEJ_d"
      },
      "outputs": [],
      "source": [
        "# import dataframe and numpy package\n",
        "import pandas as pd\n",
        "import numpy as np"
      ]
    },
    {
      "cell_type": "code",
      "source": [
        "# read data from source\n",
        "data_link  = \"https://drive.google.com/uc?id=1kbIMjC1NrLece-igYu8HMBkTgWTHGHie\"\n",
        "df = pd.read_csv(data_link) \n",
        "df.head()"
      ],
      "metadata": {
        "colab": {
          "base_uri": "https://localhost:8080/",
          "height": 206
        },
        "id": "3q1Ng5PpToxi",
        "outputId": "c5a07f5f-9644-4b54-e6a4-07f6f47ae05a"
      },
      "execution_count": 2,
      "outputs": [
        {
          "output_type": "execute_result",
          "data": {
            "text/plain": [
              "   Age  Income  Num_Purchases  Average_Rating  Customer_Service_Rating  \\\n",
              "0   63    4528              1               1                        2   \n",
              "1   20    2482             14               1                        5   \n",
              "2   46    1316              1               4                        4   \n",
              "3   52    3024              4               4                        2   \n",
              "4   56    3327             18               4                        4   \n",
              "\n",
              "   Membership_Duration    Loyalty  \n",
              "0                    5      Loyal  \n",
              "1                    3      Loyal  \n",
              "2                    3      Loyal  \n",
              "3                    4  Non-Loyal  \n",
              "4                    8      Loyal  "
            ],
            "text/html": [
              "\n",
              "  <div id=\"df-6d8ef90e-1b7c-44f8-8057-d58d400729ac\">\n",
              "    <div class=\"colab-df-container\">\n",
              "      <div>\n",
              "<style scoped>\n",
              "    .dataframe tbody tr th:only-of-type {\n",
              "        vertical-align: middle;\n",
              "    }\n",
              "\n",
              "    .dataframe tbody tr th {\n",
              "        vertical-align: top;\n",
              "    }\n",
              "\n",
              "    .dataframe thead th {\n",
              "        text-align: right;\n",
              "    }\n",
              "</style>\n",
              "<table border=\"1\" class=\"dataframe\">\n",
              "  <thead>\n",
              "    <tr style=\"text-align: right;\">\n",
              "      <th></th>\n",
              "      <th>Age</th>\n",
              "      <th>Income</th>\n",
              "      <th>Num_Purchases</th>\n",
              "      <th>Average_Rating</th>\n",
              "      <th>Customer_Service_Rating</th>\n",
              "      <th>Membership_Duration</th>\n",
              "      <th>Loyalty</th>\n",
              "    </tr>\n",
              "  </thead>\n",
              "  <tbody>\n",
              "    <tr>\n",
              "      <th>0</th>\n",
              "      <td>63</td>\n",
              "      <td>4528</td>\n",
              "      <td>1</td>\n",
              "      <td>1</td>\n",
              "      <td>2</td>\n",
              "      <td>5</td>\n",
              "      <td>Loyal</td>\n",
              "    </tr>\n",
              "    <tr>\n",
              "      <th>1</th>\n",
              "      <td>20</td>\n",
              "      <td>2482</td>\n",
              "      <td>14</td>\n",
              "      <td>1</td>\n",
              "      <td>5</td>\n",
              "      <td>3</td>\n",
              "      <td>Loyal</td>\n",
              "    </tr>\n",
              "    <tr>\n",
              "      <th>2</th>\n",
              "      <td>46</td>\n",
              "      <td>1316</td>\n",
              "      <td>1</td>\n",
              "      <td>4</td>\n",
              "      <td>4</td>\n",
              "      <td>3</td>\n",
              "      <td>Loyal</td>\n",
              "    </tr>\n",
              "    <tr>\n",
              "      <th>3</th>\n",
              "      <td>52</td>\n",
              "      <td>3024</td>\n",
              "      <td>4</td>\n",
              "      <td>4</td>\n",
              "      <td>2</td>\n",
              "      <td>4</td>\n",
              "      <td>Non-Loyal</td>\n",
              "    </tr>\n",
              "    <tr>\n",
              "      <th>4</th>\n",
              "      <td>56</td>\n",
              "      <td>3327</td>\n",
              "      <td>18</td>\n",
              "      <td>4</td>\n",
              "      <td>4</td>\n",
              "      <td>8</td>\n",
              "      <td>Loyal</td>\n",
              "    </tr>\n",
              "  </tbody>\n",
              "</table>\n",
              "</div>\n",
              "      <button class=\"colab-df-convert\" onclick=\"convertToInteractive('df-6d8ef90e-1b7c-44f8-8057-d58d400729ac')\"\n",
              "              title=\"Convert this dataframe to an interactive table.\"\n",
              "              style=\"display:none;\">\n",
              "        \n",
              "  <svg xmlns=\"http://www.w3.org/2000/svg\" height=\"24px\"viewBox=\"0 0 24 24\"\n",
              "       width=\"24px\">\n",
              "    <path d=\"M0 0h24v24H0V0z\" fill=\"none\"/>\n",
              "    <path d=\"M18.56 5.44l.94 2.06.94-2.06 2.06-.94-2.06-.94-.94-2.06-.94 2.06-2.06.94zm-11 1L8.5 8.5l.94-2.06 2.06-.94-2.06-.94L8.5 2.5l-.94 2.06-2.06.94zm10 10l.94 2.06.94-2.06 2.06-.94-2.06-.94-.94-2.06-.94 2.06-2.06.94z\"/><path d=\"M17.41 7.96l-1.37-1.37c-.4-.4-.92-.59-1.43-.59-.52 0-1.04.2-1.43.59L10.3 9.45l-7.72 7.72c-.78.78-.78 2.05 0 2.83L4 21.41c.39.39.9.59 1.41.59.51 0 1.02-.2 1.41-.59l7.78-7.78 2.81-2.81c.8-.78.8-2.07 0-2.86zM5.41 20L4 18.59l7.72-7.72 1.47 1.35L5.41 20z\"/>\n",
              "  </svg>\n",
              "      </button>\n",
              "      \n",
              "  <style>\n",
              "    .colab-df-container {\n",
              "      display:flex;\n",
              "      flex-wrap:wrap;\n",
              "      gap: 12px;\n",
              "    }\n",
              "\n",
              "    .colab-df-convert {\n",
              "      background-color: #E8F0FE;\n",
              "      border: none;\n",
              "      border-radius: 50%;\n",
              "      cursor: pointer;\n",
              "      display: none;\n",
              "      fill: #1967D2;\n",
              "      height: 32px;\n",
              "      padding: 0 0 0 0;\n",
              "      width: 32px;\n",
              "    }\n",
              "\n",
              "    .colab-df-convert:hover {\n",
              "      background-color: #E2EBFA;\n",
              "      box-shadow: 0px 1px 2px rgba(60, 64, 67, 0.3), 0px 1px 3px 1px rgba(60, 64, 67, 0.15);\n",
              "      fill: #174EA6;\n",
              "    }\n",
              "\n",
              "    [theme=dark] .colab-df-convert {\n",
              "      background-color: #3B4455;\n",
              "      fill: #D2E3FC;\n",
              "    }\n",
              "\n",
              "    [theme=dark] .colab-df-convert:hover {\n",
              "      background-color: #434B5C;\n",
              "      box-shadow: 0px 1px 3px 1px rgba(0, 0, 0, 0.15);\n",
              "      filter: drop-shadow(0px 1px 2px rgba(0, 0, 0, 0.3));\n",
              "      fill: #FFFFFF;\n",
              "    }\n",
              "  </style>\n",
              "\n",
              "      <script>\n",
              "        const buttonEl =\n",
              "          document.querySelector('#df-6d8ef90e-1b7c-44f8-8057-d58d400729ac button.colab-df-convert');\n",
              "        buttonEl.style.display =\n",
              "          google.colab.kernel.accessAllowed ? 'block' : 'none';\n",
              "\n",
              "        async function convertToInteractive(key) {\n",
              "          const element = document.querySelector('#df-6d8ef90e-1b7c-44f8-8057-d58d400729ac');\n",
              "          const dataTable =\n",
              "            await google.colab.kernel.invokeFunction('convertToInteractive',\n",
              "                                                     [key], {});\n",
              "          if (!dataTable) return;\n",
              "\n",
              "          const docLinkHtml = 'Like what you see? Visit the ' +\n",
              "            '<a target=\"_blank\" href=https://colab.research.google.com/notebooks/data_table.ipynb>data table notebook</a>'\n",
              "            + ' to learn more about interactive tables.';\n",
              "          element.innerHTML = '';\n",
              "          dataTable['output_type'] = 'display_data';\n",
              "          await google.colab.output.renderOutput(dataTable, element);\n",
              "          const docLink = document.createElement('div');\n",
              "          docLink.innerHTML = docLinkHtml;\n",
              "          element.appendChild(docLink);\n",
              "        }\n",
              "      </script>\n",
              "    </div>\n",
              "  </div>\n",
              "  "
            ]
          },
          "metadata": {},
          "execution_count": 2
        }
      ]
    },
    {
      "cell_type": "markdown",
      "source": [
        "## **DATA DESCRIPTION**"
      ],
      "metadata": {
        "id": "VyTROczOdBBe"
      }
    },
    {
      "cell_type": "code",
      "source": [
        "# summary statistics\n",
        "df.describe().transpose()"
      ],
      "metadata": {
        "id": "rEwzgv0kTsIa",
        "colab": {
          "base_uri": "https://localhost:8080/",
          "height": 238
        },
        "outputId": "00f92f17-1b40-460d-a0d6-d827a975b365"
      },
      "execution_count": 3,
      "outputs": [
        {
          "output_type": "execute_result",
          "data": {
            "text/plain": [
              "                          count      mean          std    min     25%     50%  \\\n",
              "Age                      1000.0    41.624    13.500922   18.0    31.0    42.0   \n",
              "Income                   1000.0  2931.553  1218.241599  802.0  1951.0  2904.5   \n",
              "Num_Purchases            1000.0    10.238     5.481186    1.0     5.0    11.0   \n",
              "Average_Rating           1000.0     2.999     1.408184    1.0     2.0     3.0   \n",
              "Customer_Service_Rating  1000.0     2.978     1.397666    1.0     2.0     3.0   \n",
              "Membership_Duration      1000.0     4.917     2.554337    1.0     3.0     5.0   \n",
              "\n",
              "                             75%     max  \n",
              "Age                        53.00    64.0  \n",
              "Income                   4006.25  4998.0  \n",
              "Num_Purchases              15.00    19.0  \n",
              "Average_Rating              4.00     5.0  \n",
              "Customer_Service_Rating     4.00     5.0  \n",
              "Membership_Duration         7.00     9.0  "
            ],
            "text/html": [
              "\n",
              "  <div id=\"df-1784c943-b457-4c2e-8c45-513f7e4ca548\">\n",
              "    <div class=\"colab-df-container\">\n",
              "      <div>\n",
              "<style scoped>\n",
              "    .dataframe tbody tr th:only-of-type {\n",
              "        vertical-align: middle;\n",
              "    }\n",
              "\n",
              "    .dataframe tbody tr th {\n",
              "        vertical-align: top;\n",
              "    }\n",
              "\n",
              "    .dataframe thead th {\n",
              "        text-align: right;\n",
              "    }\n",
              "</style>\n",
              "<table border=\"1\" class=\"dataframe\">\n",
              "  <thead>\n",
              "    <tr style=\"text-align: right;\">\n",
              "      <th></th>\n",
              "      <th>count</th>\n",
              "      <th>mean</th>\n",
              "      <th>std</th>\n",
              "      <th>min</th>\n",
              "      <th>25%</th>\n",
              "      <th>50%</th>\n",
              "      <th>75%</th>\n",
              "      <th>max</th>\n",
              "    </tr>\n",
              "  </thead>\n",
              "  <tbody>\n",
              "    <tr>\n",
              "      <th>Age</th>\n",
              "      <td>1000.0</td>\n",
              "      <td>41.624</td>\n",
              "      <td>13.500922</td>\n",
              "      <td>18.0</td>\n",
              "      <td>31.0</td>\n",
              "      <td>42.0</td>\n",
              "      <td>53.00</td>\n",
              "      <td>64.0</td>\n",
              "    </tr>\n",
              "    <tr>\n",
              "      <th>Income</th>\n",
              "      <td>1000.0</td>\n",
              "      <td>2931.553</td>\n",
              "      <td>1218.241599</td>\n",
              "      <td>802.0</td>\n",
              "      <td>1951.0</td>\n",
              "      <td>2904.5</td>\n",
              "      <td>4006.25</td>\n",
              "      <td>4998.0</td>\n",
              "    </tr>\n",
              "    <tr>\n",
              "      <th>Num_Purchases</th>\n",
              "      <td>1000.0</td>\n",
              "      <td>10.238</td>\n",
              "      <td>5.481186</td>\n",
              "      <td>1.0</td>\n",
              "      <td>5.0</td>\n",
              "      <td>11.0</td>\n",
              "      <td>15.00</td>\n",
              "      <td>19.0</td>\n",
              "    </tr>\n",
              "    <tr>\n",
              "      <th>Average_Rating</th>\n",
              "      <td>1000.0</td>\n",
              "      <td>2.999</td>\n",
              "      <td>1.408184</td>\n",
              "      <td>1.0</td>\n",
              "      <td>2.0</td>\n",
              "      <td>3.0</td>\n",
              "      <td>4.00</td>\n",
              "      <td>5.0</td>\n",
              "    </tr>\n",
              "    <tr>\n",
              "      <th>Customer_Service_Rating</th>\n",
              "      <td>1000.0</td>\n",
              "      <td>2.978</td>\n",
              "      <td>1.397666</td>\n",
              "      <td>1.0</td>\n",
              "      <td>2.0</td>\n",
              "      <td>3.0</td>\n",
              "      <td>4.00</td>\n",
              "      <td>5.0</td>\n",
              "    </tr>\n",
              "    <tr>\n",
              "      <th>Membership_Duration</th>\n",
              "      <td>1000.0</td>\n",
              "      <td>4.917</td>\n",
              "      <td>2.554337</td>\n",
              "      <td>1.0</td>\n",
              "      <td>3.0</td>\n",
              "      <td>5.0</td>\n",
              "      <td>7.00</td>\n",
              "      <td>9.0</td>\n",
              "    </tr>\n",
              "  </tbody>\n",
              "</table>\n",
              "</div>\n",
              "      <button class=\"colab-df-convert\" onclick=\"convertToInteractive('df-1784c943-b457-4c2e-8c45-513f7e4ca548')\"\n",
              "              title=\"Convert this dataframe to an interactive table.\"\n",
              "              style=\"display:none;\">\n",
              "        \n",
              "  <svg xmlns=\"http://www.w3.org/2000/svg\" height=\"24px\"viewBox=\"0 0 24 24\"\n",
              "       width=\"24px\">\n",
              "    <path d=\"M0 0h24v24H0V0z\" fill=\"none\"/>\n",
              "    <path d=\"M18.56 5.44l.94 2.06.94-2.06 2.06-.94-2.06-.94-.94-2.06-.94 2.06-2.06.94zm-11 1L8.5 8.5l.94-2.06 2.06-.94-2.06-.94L8.5 2.5l-.94 2.06-2.06.94zm10 10l.94 2.06.94-2.06 2.06-.94-2.06-.94-.94-2.06-.94 2.06-2.06.94z\"/><path d=\"M17.41 7.96l-1.37-1.37c-.4-.4-.92-.59-1.43-.59-.52 0-1.04.2-1.43.59L10.3 9.45l-7.72 7.72c-.78.78-.78 2.05 0 2.83L4 21.41c.39.39.9.59 1.41.59.51 0 1.02-.2 1.41-.59l7.78-7.78 2.81-2.81c.8-.78.8-2.07 0-2.86zM5.41 20L4 18.59l7.72-7.72 1.47 1.35L5.41 20z\"/>\n",
              "  </svg>\n",
              "      </button>\n",
              "      \n",
              "  <style>\n",
              "    .colab-df-container {\n",
              "      display:flex;\n",
              "      flex-wrap:wrap;\n",
              "      gap: 12px;\n",
              "    }\n",
              "\n",
              "    .colab-df-convert {\n",
              "      background-color: #E8F0FE;\n",
              "      border: none;\n",
              "      border-radius: 50%;\n",
              "      cursor: pointer;\n",
              "      display: none;\n",
              "      fill: #1967D2;\n",
              "      height: 32px;\n",
              "      padding: 0 0 0 0;\n",
              "      width: 32px;\n",
              "    }\n",
              "\n",
              "    .colab-df-convert:hover {\n",
              "      background-color: #E2EBFA;\n",
              "      box-shadow: 0px 1px 2px rgba(60, 64, 67, 0.3), 0px 1px 3px 1px rgba(60, 64, 67, 0.15);\n",
              "      fill: #174EA6;\n",
              "    }\n",
              "\n",
              "    [theme=dark] .colab-df-convert {\n",
              "      background-color: #3B4455;\n",
              "      fill: #D2E3FC;\n",
              "    }\n",
              "\n",
              "    [theme=dark] .colab-df-convert:hover {\n",
              "      background-color: #434B5C;\n",
              "      box-shadow: 0px 1px 3px 1px rgba(0, 0, 0, 0.15);\n",
              "      filter: drop-shadow(0px 1px 2px rgba(0, 0, 0, 0.3));\n",
              "      fill: #FFFFFF;\n",
              "    }\n",
              "  </style>\n",
              "\n",
              "      <script>\n",
              "        const buttonEl =\n",
              "          document.querySelector('#df-1784c943-b457-4c2e-8c45-513f7e4ca548 button.colab-df-convert');\n",
              "        buttonEl.style.display =\n",
              "          google.colab.kernel.accessAllowed ? 'block' : 'none';\n",
              "\n",
              "        async function convertToInteractive(key) {\n",
              "          const element = document.querySelector('#df-1784c943-b457-4c2e-8c45-513f7e4ca548');\n",
              "          const dataTable =\n",
              "            await google.colab.kernel.invokeFunction('convertToInteractive',\n",
              "                                                     [key], {});\n",
              "          if (!dataTable) return;\n",
              "\n",
              "          const docLinkHtml = 'Like what you see? Visit the ' +\n",
              "            '<a target=\"_blank\" href=https://colab.research.google.com/notebooks/data_table.ipynb>data table notebook</a>'\n",
              "            + ' to learn more about interactive tables.';\n",
              "          element.innerHTML = '';\n",
              "          dataTable['output_type'] = 'display_data';\n",
              "          await google.colab.output.renderOutput(dataTable, element);\n",
              "          const docLink = document.createElement('div');\n",
              "          docLink.innerHTML = docLinkHtml;\n",
              "          element.appendChild(docLink);\n",
              "        }\n",
              "      </script>\n",
              "    </div>\n",
              "  </div>\n",
              "  "
            ]
          },
          "metadata": {},
          "execution_count": 3
        }
      ]
    },
    {
      "cell_type": "code",
      "source": [
        "# data info\n",
        "print(df.info(), \"\\n\")  # display attributes (column) data type and number of non-empty cells\n",
        "print(\"Number of rows (observations) is\", df.shape[0], \"and\", \"Number of columns (attributes) is\" , df.shape[1])  # Number of rows and column"
      ],
      "metadata": {
        "id": "4lgvir7-VhEK",
        "colab": {
          "base_uri": "https://localhost:8080/"
        },
        "outputId": "65e71c6b-b34a-4ae4-d1ec-faa23285c83a"
      },
      "execution_count": 4,
      "outputs": [
        {
          "output_type": "stream",
          "name": "stdout",
          "text": [
            "<class 'pandas.core.frame.DataFrame'>\n",
            "RangeIndex: 1000 entries, 0 to 999\n",
            "Data columns (total 7 columns):\n",
            " #   Column                   Non-Null Count  Dtype \n",
            "---  ------                   --------------  ----- \n",
            " 0   Age                      1000 non-null   int64 \n",
            " 1   Income                   1000 non-null   int64 \n",
            " 2   Num_Purchases            1000 non-null   int64 \n",
            " 3   Average_Rating           1000 non-null   int64 \n",
            " 4   Customer_Service_Rating  1000 non-null   int64 \n",
            " 5   Membership_Duration      1000 non-null   int64 \n",
            " 6   Loyalty                  1000 non-null   object\n",
            "dtypes: int64(6), object(1)\n",
            "memory usage: 54.8+ KB\n",
            "None \n",
            "\n",
            "Number of rows (observations) is 1000 and Number of columns (attributes) is 7\n"
          ]
        }
      ]
    },
    {
      "cell_type": "markdown",
      "source": [
        "## **DATA DISTRIBUTION**"
      ],
      "metadata": {
        "id": "YnHLRh3CvvmY"
      }
    },
    {
      "cell_type": "code",
      "source": [
        "# Features and Target\n",
        "features = df.drop(['Loyalty'], axis=1)\n",
        "target = df['Loyalty']"
      ],
      "metadata": {
        "id": "9GeIjj74wqOT"
      },
      "execution_count": 5,
      "outputs": []
    },
    {
      "cell_type": "code",
      "source": [
        "# Skewness and Kurtosis\n",
        "print('data skewness:\\n',features.skew(),'\\n')\n",
        "print('data kurtosis:\\n',features.kurtosis())"
      ],
      "metadata": {
        "id": "-fs_bQo9u1aU",
        "colab": {
          "base_uri": "https://localhost:8080/"
        },
        "outputId": "afb5d5ae-9be4-45b2-d45e-c64fc9f86597"
      },
      "execution_count": 6,
      "outputs": [
        {
          "output_type": "stream",
          "name": "stdout",
          "text": [
            "data skewness:\n",
            " Age                       -0.058771\n",
            "Income                    -0.014204\n",
            "Num_Purchases             -0.080040\n",
            "Average_Rating            -0.019776\n",
            "Customer_Service_Rating    0.026013\n",
            "Membership_Duration        0.035302\n",
            "dtype: float64 \n",
            "\n",
            "data kurtosis:\n",
            " Age                       -1.154897\n",
            "Income                    -1.162805\n",
            "Num_Purchases             -1.186772\n",
            "Average_Rating            -1.290931\n",
            "Customer_Service_Rating   -1.277736\n",
            "Membership_Duration       -1.180792\n",
            "dtype: float64\n"
          ]
        }
      ]
    },
    {
      "cell_type": "code",
      "source": [
        "# Visualize data distribution\n",
        "\n",
        "features.drop(['Income'], axis =1).plot.box(figsize=(10,6), vert = False, grid = False)"
      ],
      "metadata": {
        "id": "iI1x_DSNwi5h",
        "colab": {
          "base_uri": "https://localhost:8080/",
          "height": 539
        },
        "outputId": "c7fd042d-64a3-4c15-b8f6-8914dca7ec08"
      },
      "execution_count": 7,
      "outputs": [
        {
          "output_type": "execute_result",
          "data": {
            "text/plain": [
              "<Axes: >"
            ]
          },
          "metadata": {},
          "execution_count": 7
        },
        {
          "output_type": "display_data",
          "data": {
            "text/plain": [
              "<Figure size 1000x600 with 1 Axes>"
            ],
            "image/png": "[encoded data removed]"
          },
          "metadata": {}
        }
      ]
    },
    {
      "cell_type": "code",
      "source": [
        "# Visualize data distribution\n",
        "\n",
        "features['Income'].plot.box(figsize=(10,6), vert = False, grid = False)"
      ],
      "metadata": {
        "id": "abvln9yDzNeX",
        "colab": {
          "base_uri": "https://localhost:8080/",
          "height": 539
        },
        "outputId": "d3404506-40b5-4a0c-c7f0-f1051b15d4bb"
      },
      "execution_count": 8,
      "outputs": [
        {
          "output_type": "execute_result",
          "data": {
            "text/plain": [
              "<Axes: >"
            ]
          },
          "metadata": {},
          "execution_count": 8
        },
        {
          "output_type": "display_data",
          "data": {
            "text/plain": [
              "<Figure size 1000x600 with 1 Axes>"
            ],
            "image/png": "[encoded data removed]"
          },
          "metadata": {}
        }
      ]
    },
    {
      "cell_type": "markdown",
      "source": [
        "## **CORRELATION ANALYSIS**"
      ],
      "metadata": {
        "id": "ju67rYjG0LzL"
      }
    },
    {
      "cell_type": "code",
      "source": [
        "# Import package for Onehot Encoding\n",
        "from sklearn.preprocessing import LabelEncoder\n",
        "\n",
        "encoded_df = df.copy()"
      ],
      "metadata": {
        "id": "_hJcwPDdkxoG"
      },
      "execution_count": 9,
      "outputs": []
    },
    {
      "cell_type": "code",
      "source": [
        "# display the data values for categorical column\n",
        "for col in encoded_df.select_dtypes(include='object').columns:\n",
        "    print(f\"{col}:\\n{encoded_df[col].value_counts()}\\n\")"
      ],
      "metadata": {
        "id": "O9GSyEtGsGhb",
        "colab": {
          "base_uri": "https://localhost:8080/"
        },
        "outputId": "3924548d-0ee6-45db-fe79-2d3d81b45b51"
      },
      "execution_count": 10,
      "outputs": [
        {
          "output_type": "stream",
          "name": "stdout",
          "text": [
            "Loyalty:\n",
            "Non-Loyal    521\n",
            "Loyal        479\n",
            "Name: Loyalty, dtype: int64\n",
            "\n"
          ]
        }
      ]
    },
    {
      "cell_type": "code",
      "source": [
        "# Encode loyalty categorical column to binary values\n",
        "\n",
        "le_loyalty = LabelEncoder()\n",
        "le_loyalty.fit(['Non-Loyal','Loyal'])\n",
        "encoded_df['Loyalty'] = le_loyalty.transform(df['Loyalty']) \n",
        "\n",
        "encoded_df.head()"
      ],
      "metadata": {
        "id": "V1aQYUUSd_Ay",
        "colab": {
          "base_uri": "https://localhost:8080/",
          "height": 206
        },
        "outputId": "9e56404a-bcfb-4d0e-ab8b-f0238937fbfe"
      },
      "execution_count": 11,
      "outputs": [
        {
          "output_type": "execute_result",
          "data": {
            "text/plain": [
              "   Age  Income  Num_Purchases  Average_Rating  Customer_Service_Rating  \\\n",
              "0   63    4528              1               1                        2   \n",
              "1   20    2482             14               1                        5   \n",
              "2   46    1316              1               4                        4   \n",
              "3   52    3024              4               4                        2   \n",
              "4   56    3327             18               4                        4   \n",
              "\n",
              "   Membership_Duration  Loyalty  \n",
              "0                    5        0  \n",
              "1                    3        0  \n",
              "2                    3        0  \n",
              "3                    4        1  \n",
              "4                    8        0  "
            ],
            "text/html": [
              "\n",
              "  <div id=\"df-911477ee-6012-47c3-af2e-29961543f45c\">\n",
              "    <div class=\"colab-df-container\">\n",
              "      <div>\n",
              "<style scoped>\n",
              "    .dataframe tbody tr th:only-of-type {\n",
              "        vertical-align: middle;\n",
              "    }\n",
              "\n",
              "    .dataframe tbody tr th {\n",
              "        vertical-align: top;\n",
              "    }\n",
              "\n",
              "    .dataframe thead th {\n",
              "        text-align: right;\n",
              "    }\n",
              "</style>\n",
              "<table border=\"1\" class=\"dataframe\">\n",
              "  <thead>\n",
              "    <tr style=\"text-align: right;\">\n",
              "      <th></th>\n",
              "      <th>Age</th>\n",
              "      <th>Income</th>\n",
              "      <th>Num_Purchases</th>\n",
              "      <th>Average_Rating</th>\n",
              "      <th>Customer_Service_Rating</th>\n",
              "      <th>Membership_Duration</th>\n",
              "      <th>Loyalty</th>\n",
              "    </tr>\n",
              "  </thead>\n",
              "  <tbody>\n",
              "    <tr>\n",
              "      <th>0</th>\n",
              "      <td>63</td>\n",
              "      <td>4528</td>\n",
              "      <td>1</td>\n",
              "      <td>1</td>\n",
              "      <td>2</td>\n",
              "      <td>5</td>\n",
              "      <td>0</td>\n",
              "    </tr>\n",
              "    <tr>\n",
              "      <th>1</th>\n",
              "      <td>20</td>\n",
              "      <td>2482</td>\n",
              "      <td>14</td>\n",
              "      <td>1</td>\n",
              "      <td>5</td>\n",
              "      <td>3</td>\n",
              "      <td>0</td>\n",
              "    </tr>\n",
              "    <tr>\n",
              "      <th>2</th>\n",
              "      <td>46</td>\n",
              "      <td>1316</td>\n",
              "      <td>1</td>\n",
              "      <td>4</td>\n",
              "      <td>4</td>\n",
              "      <td>3</td>\n",
              "      <td>0</td>\n",
              "    </tr>\n",
              "    <tr>\n",
              "      <th>3</th>\n",
              "      <td>52</td>\n",
              "      <td>3024</td>\n",
              "      <td>4</td>\n",
              "      <td>4</td>\n",
              "      <td>2</td>\n",
              "      <td>4</td>\n",
              "      <td>1</td>\n",
              "    </tr>\n",
              "    <tr>\n",
              "      <th>4</th>\n",
              "      <td>56</td>\n",
              "      <td>3327</td>\n",
              "      <td>18</td>\n",
              "      <td>4</td>\n",
              "      <td>4</td>\n",
              "      <td>8</td>\n",
              "      <td>0</td>\n",
              "    </tr>\n",
              "  </tbody>\n",
              "</table>\n",
              "</div>\n",
              "      <button class=\"colab-df-convert\" onclick=\"convertToInteractive('df-911477ee-6012-47c3-af2e-29961543f45c')\"\n",
              "              title=\"Convert this dataframe to an interactive table.\"\n",
              "              style=\"display:none;\">\n",
              "        \n",
              "  <svg xmlns=\"http://www.w3.org/2000/svg\" height=\"24px\"viewBox=\"0 0 24 24\"\n",
              "       width=\"24px\">\n",
              "    <path d=\"M0 0h24v24H0V0z\" fill=\"none\"/>\n",
              "    <path d=\"M18.56 5.44l.94 2.06.94-2.06 2.06-.94-2.06-.94-.94-2.06-.94 2.06-2.06.94zm-11 1L8.5 8.5l.94-2.06 2.06-.94-2.06-.94L8.5 2.5l-.94 2.06-2.06.94zm10 10l.94 2.06.94-2.06 2.06-.94-2.06-.94-.94-2.06-.94 2.06-2.06.94z\"/><path d=\"M17.41 7.96l-1.37-1.37c-.4-.4-.92-.59-1.43-.59-.52 0-1.04.2-1.43.59L10.3 9.45l-7.72 7.72c-.78.78-.78 2.05 0 2.83L4 21.41c.39.39.9.59 1.41.59.51 0 1.02-.2 1.41-.59l7.78-7.78 2.81-2.81c.8-.78.8-2.07 0-2.86zM5.41 20L4 18.59l7.72-7.72 1.47 1.35L5.41 20z\"/>\n",
              "  </svg>\n",
              "      </button>\n",
              "      \n",
              "  <style>\n",
              "    .colab-df-container {\n",
              "      display:flex;\n",
              "      flex-wrap:wrap;\n",
              "      gap: 12px;\n",
              "    }\n",
              "\n",
              "    .colab-df-convert {\n",
              "      background-color: #E8F0FE;\n",
              "      border: none;\n",
              "      border-radius: 50%;\n",
              "      cursor: pointer;\n",
              "      display: none;\n",
              "      fill: #1967D2;\n",
              "      height: 32px;\n",
              "      padding: 0 0 0 0;\n",
              "      width: 32px;\n",
              "    }\n",
              "\n",
              "    .colab-df-convert:hover {\n",
              "      background-color: #E2EBFA;\n",
              "      box-shadow: 0px 1px 2px rgba(60, 64, 67, 0.3), 0px 1px 3px 1px rgba(60, 64, 67, 0.15);\n",
              "      fill: #174EA6;\n",
              "    }\n",
              "\n",
              "    [theme=dark] .colab-df-convert {\n",
              "      background-color: #3B4455;\n",
              "      fill: #D2E3FC;\n",
              "    }\n",
              "\n",
              "    [theme=dark] .colab-df-convert:hover {\n",
              "      background-color: #434B5C;\n",
              "      box-shadow: 0px 1px 3px 1px rgba(0, 0, 0, 0.15);\n",
              "      filter: drop-shadow(0px 1px 2px rgba(0, 0, 0, 0.3));\n",
              "      fill: #FFFFFF;\n",
              "    }\n",
              "  </style>\n",
              "\n",
              "      <script>\n",
              "        const buttonEl =\n",
              "          document.querySelector('#df-911477ee-6012-47c3-af2e-29961543f45c button.colab-df-convert');\n",
              "        buttonEl.style.display =\n",
              "          google.colab.kernel.accessAllowed ? 'block' : 'none';\n",
              "\n",
              "        async function convertToInteractive(key) {\n",
              "          const element = document.querySelector('#df-911477ee-6012-47c3-af2e-29961543f45c');\n",
              "          const dataTable =\n",
              "            await google.colab.kernel.invokeFunction('convertToInteractive',\n",
              "                                                     [key], {});\n",
              "          if (!dataTable) return;\n",
              "\n",
              "          const docLinkHtml = 'Like what you see? Visit the ' +\n",
              "            '<a target=\"_blank\" href=https://colab.research.google.com/notebooks/data_table.ipynb>data table notebook</a>'\n",
              "            + ' to learn more about interactive tables.';\n",
              "          element.innerHTML = '';\n",
              "          dataTable['output_type'] = 'display_data';\n",
              "          await google.colab.output.renderOutput(dataTable, element);\n",
              "          const docLink = document.createElement('div');\n",
              "          docLink.innerHTML = docLinkHtml;\n",
              "          element.appendChild(docLink);\n",
              "        }\n",
              "      </script>\n",
              "    </div>\n",
              "  </div>\n",
              "  "
            ]
          },
          "metadata": {},
          "execution_count": 11
        }
      ]
    },
    {
      "cell_type": "code",
      "source": [
        "# pearson correlation between dependent variables and dependent variable\n",
        "encoded_df.corr(method='pearson')"
      ],
      "metadata": {
        "id": "vRubUJAvluIB",
        "colab": {
          "base_uri": "https://localhost:8080/",
          "height": 269
        },
        "outputId": "27115e5b-8779-458b-9058-3fe7fd392653"
      },
      "execution_count": 12,
      "outputs": [
        {
          "output_type": "execute_result",
          "data": {
            "text/plain": [
              "                              Age    Income  Num_Purchases  Average_Rating  \\\n",
              "Age                      1.000000 -0.003990      -0.029022        0.085328   \n",
              "Income                  -0.003990  1.000000      -0.017587        0.024517   \n",
              "Num_Purchases           -0.029022 -0.017587       1.000000       -0.060663   \n",
              "Average_Rating           0.085328  0.024517      -0.060663        1.000000   \n",
              "Customer_Service_Rating -0.023833 -0.011829      -0.026494        0.005075   \n",
              "Membership_Duration     -0.017654 -0.005222      -0.009598        0.008326   \n",
              "Loyalty                  0.006215  0.000823       0.029232        0.033452   \n",
              "\n",
              "                         Customer_Service_Rating  Membership_Duration  \\\n",
              "Age                                    -0.023833            -0.017654   \n",
              "Income                                 -0.011829            -0.005222   \n",
              "Num_Purchases                          -0.026494            -0.009598   \n",
              "Average_Rating                          0.005075             0.008326   \n",
              "Customer_Service_Rating                 1.000000             0.039863   \n",
              "Membership_Duration                     0.039863             1.000000   \n",
              "Loyalty                                -0.020832            -0.011570   \n",
              "\n",
              "                          Loyalty  \n",
              "Age                      0.006215  \n",
              "Income                   0.000823  \n",
              "Num_Purchases            0.029232  \n",
              "Average_Rating           0.033452  \n",
              "Customer_Service_Rating -0.020832  \n",
              "Membership_Duration     -0.011570  \n",
              "Loyalty                  1.000000  "
            ],
            "text/html": [
              "\n",
              "  <div id=\"df-02ce5d60-3133-436d-9daa-cba926ba0916\">\n",
              "    <div class=\"colab-df-container\">\n",
              "      <div>\n",
              "<style scoped>\n",
              "    .dataframe tbody tr th:only-of-type {\n",
              "        vertical-align: middle;\n",
              "    }\n",
              "\n",
              "    .dataframe tbody tr th {\n",
              "        vertical-align: top;\n",
              "    }\n",
              "\n",
              "    .dataframe thead th {\n",
              "        text-align: right;\n",
              "    }\n",
              "</style>\n",
              "<table border=\"1\" class=\"dataframe\">\n",
              "  <thead>\n",
              "    <tr style=\"text-align: right;\">\n",
              "      <th></th>\n",
              "      <th>Age</th>\n",
              "      <th>Income</th>\n",
              "      <th>Num_Purchases</th>\n",
              "      <th>Average_Rating</th>\n",
              "      <th>Customer_Service_Rating</th>\n",
              "      <th>Membership_Duration</th>\n",
              "      <th>Loyalty</th>\n",
              "    </tr>\n",
              "  </thead>\n",
              "  <tbody>\n",
              "    <tr>\n",
              "      <th>Age</th>\n",
              "      <td>1.000000</td>\n",
              "      <td>-0.003990</td>\n",
              "      <td>-0.029022</td>\n",
              "      <td>0.085328</td>\n",
              "      <td>-0.023833</td>\n",
              "      <td>-0.017654</td>\n",
              "      <td>0.006215</td>\n",
              "    </tr>\n",
              "    <tr>\n",
              "      <th>Income</th>\n",
              "      <td>-0.003990</td>\n",
              "      <td>1.000000</td>\n",
              "      <td>-0.017587</td>\n",
              "      <td>0.024517</td>\n",
              "      <td>-0.011829</td>\n",
              "      <td>-0.005222</td>\n",
              "      <td>0.000823</td>\n",
              "    </tr>\n",
              "    <tr>\n",
              "      <th>Num_Purchases</th>\n",
              "      <td>-0.029022</td>\n",
              "      <td>-0.017587</td>\n",
              "      <td>1.000000</td>\n",
              "      <td>-0.060663</td>\n",
              "      <td>-0.026494</td>\n",
              "      <td>-0.009598</td>\n",
              "      <td>0.029232</td>\n",
              "    </tr>\n",
              "    <tr>\n",
              "      <th>Average_Rating</th>\n",
              "      <td>0.085328</td>\n",
              "      <td>0.024517</td>\n",
              "      <td>-0.060663</td>\n",
              "      <td>1.000000</td>\n",
              "      <td>0.005075</td>\n",
              "      <td>0.008326</td>\n",
              "      <td>0.033452</td>\n",
              "    </tr>\n",
              "    <tr>\n",
              "      <th>Customer_Service_Rating</th>\n",
              "      <td>-0.023833</td>\n",
              "      <td>-0.011829</td>\n",
              "      <td>-0.026494</td>\n",
              "      <td>0.005075</td>\n",
              "      <td>1.000000</td>\n",
              "      <td>0.039863</td>\n",
              "      <td>-0.020832</td>\n",
              "    </tr>\n",
              "    <tr>\n",
              "      <th>Membership_Duration</th>\n",
              "      <td>-0.017654</td>\n",
              "      <td>-0.005222</td>\n",
              "      <td>-0.009598</td>\n",
              "      <td>0.008326</td>\n",
              "      <td>0.039863</td>\n",
              "      <td>1.000000</td>\n",
              "      <td>-0.011570</td>\n",
              "    </tr>\n",
              "    <tr>\n",
              "      <th>Loyalty</th>\n",
              "      <td>0.006215</td>\n",
              "      <td>0.000823</td>\n",
              "      <td>0.029232</td>\n",
              "      <td>0.033452</td>\n",
              "      <td>-0.020832</td>\n",
              "      <td>-0.011570</td>\n",
              "      <td>1.000000</td>\n",
              "    </tr>\n",
              "  </tbody>\n",
              "</table>\n",
              "</div>\n",
              "      <button class=\"colab-df-convert\" onclick=\"convertToInteractive('df-02ce5d60-3133-436d-9daa-cba926ba0916')\"\n",
              "              title=\"Convert this dataframe to an interactive table.\"\n",
              "              style=\"display:none;\">\n",
              "        \n",
              "  <svg xmlns=\"http://www.w3.org/2000/svg\" height=\"24px\"viewBox=\"0 0 24 24\"\n",
              "       width=\"24px\">\n",
              "    <path d=\"M0 0h24v24H0V0z\" fill=\"none\"/>\n",
              "    <path d=\"M18.56 5.44l.94 2.06.94-2.06 2.06-.94-2.06-.94-.94-2.06-.94 2.06-2.06.94zm-11 1L8.5 8.5l.94-2.06 2.06-.94-2.06-.94L8.5 2.5l-.94 2.06-2.06.94zm10 10l.94 2.06.94-2.06 2.06-.94-2.06-.94-.94-2.06-.94 2.06-2.06.94z\"/><path d=\"M17.41 7.96l-1.37-1.37c-.4-.4-.92-.59-1.43-.59-.52 0-1.04.2-1.43.59L10.3 9.45l-7.72 7.72c-.78.78-.78 2.05 0 2.83L4 21.41c.39.39.9.59 1.41.59.51 0 1.02-.2 1.41-.59l7.78-7.78 2.81-2.81c.8-.78.8-2.07 0-2.86zM5.41 20L4 18.59l7.72-7.72 1.47 1.35L5.41 20z\"/>\n",
              "  </svg>\n",
              "      </button>\n",
              "      \n",
              "  <style>\n",
              "    .colab-df-container {\n",
              "      display:flex;\n",
              "      flex-wrap:wrap;\n",
              "      gap: 12px;\n",
              "    }\n",
              "\n",
              "    .colab-df-convert {\n",
              "      background-color: #E8F0FE;\n",
              "      border: none;\n",
              "      border-radius: 50%;\n",
              "      cursor: pointer;\n",
              "      display: none;\n",
              "      fill: #1967D2;\n",
              "      height: 32px;\n",
              "      padding: 0 0 0 0;\n",
              "      width: 32px;\n",
              "    }\n",
              "\n",
              "    .colab-df-convert:hover {\n",
              "      background-color: #E2EBFA;\n",
              "      box-shadow: 0px 1px 2px rgba(60, 64, 67, 0.3), 0px 1px 3px 1px rgba(60, 64, 67, 0.15);\n",
              "      fill: #174EA6;\n",
              "    }\n",
              "\n",
              "    [theme=dark] .colab-df-convert {\n",
              "      background-color: #3B4455;\n",
              "      fill: #D2E3FC;\n",
              "    }\n",
              "\n",
              "    [theme=dark] .colab-df-convert:hover {\n",
              "      background-color: #434B5C;\n",
              "      box-shadow: 0px 1px 3px 1px rgba(0, 0, 0, 0.15);\n",
              "      filter: drop-shadow(0px 1px 2px rgba(0, 0, 0, 0.3));\n",
              "      fill: #FFFFFF;\n",
              "    }\n",
              "  </style>\n",
              "\n",
              "      <script>\n",
              "        const buttonEl =\n",
              "          document.querySelector('#df-02ce5d60-3133-436d-9daa-cba926ba0916 button.colab-df-convert');\n",
              "        buttonEl.style.display =\n",
              "          google.colab.kernel.accessAllowed ? 'block' : 'none';\n",
              "\n",
              "        async function convertToInteractive(key) {\n",
              "          const element = document.querySelector('#df-02ce5d60-3133-436d-9daa-cba926ba0916');\n",
              "          const dataTable =\n",
              "            await google.colab.kernel.invokeFunction('convertToInteractive',\n",
              "                                                     [key], {});\n",
              "          if (!dataTable) return;\n",
              "\n",
              "          const docLinkHtml = 'Like what you see? Visit the ' +\n",
              "            '<a target=\"_blank\" href=https://colab.research.google.com/notebooks/data_table.ipynb>data table notebook</a>'\n",
              "            + ' to learn more about interactive tables.';\n",
              "          element.innerHTML = '';\n",
              "          dataTable['output_type'] = 'display_data';\n",
              "          await google.colab.output.renderOutput(dataTable, element);\n",
              "          const docLink = document.createElement('div');\n",
              "          docLink.innerHTML = docLinkHtml;\n",
              "          element.appendChild(docLink);\n",
              "        }\n",
              "      </script>\n",
              "    </div>\n",
              "  </div>\n",
              "  "
            ]
          },
          "metadata": {},
          "execution_count": 12
        }
      ]
    },
    {
      "cell_type": "code",
      "source": [
        "# spearman correlation between dependent variables and dependent variable\n",
        "encoded_df.corr(method='spearman')"
      ],
      "metadata": {
        "id": "W98E3fUzc_dS",
        "colab": {
          "base_uri": "https://localhost:8080/",
          "height": 269
        },
        "outputId": "cf4fc57d-672f-4306-b5d1-98da927014a9"
      },
      "execution_count": 13,
      "outputs": [
        {
          "output_type": "execute_result",
          "data": {
            "text/plain": [
              "                              Age    Income  Num_Purchases  Average_Rating  \\\n",
              "Age                      1.000000 -0.002097      -0.030469        0.087123   \n",
              "Income                  -0.002097  1.000000      -0.017944        0.025549   \n",
              "Num_Purchases           -0.030469 -0.017944       1.000000       -0.059932   \n",
              "Average_Rating           0.087123  0.025549      -0.059932        1.000000   \n",
              "Customer_Service_Rating -0.021735 -0.011769      -0.025415        0.005678   \n",
              "Membership_Duration     -0.017125 -0.005357      -0.012478        0.008239   \n",
              "Loyalty                  0.006818  0.000978       0.029475        0.033153   \n",
              "\n",
              "                         Customer_Service_Rating  Membership_Duration  \\\n",
              "Age                                    -0.021735            -0.017125   \n",
              "Income                                 -0.011769            -0.005357   \n",
              "Num_Purchases                          -0.025415            -0.012478   \n",
              "Average_Rating                          0.005678             0.008239   \n",
              "Customer_Service_Rating                 1.000000             0.038841   \n",
              "Membership_Duration                     0.038841             1.000000   \n",
              "Loyalty                                -0.021043            -0.011588   \n",
              "\n",
              "                          Loyalty  \n",
              "Age                      0.006818  \n",
              "Income                   0.000978  \n",
              "Num_Purchases            0.029475  \n",
              "Average_Rating           0.033153  \n",
              "Customer_Service_Rating -0.021043  \n",
              "Membership_Duration     -0.011588  \n",
              "Loyalty                  1.000000  "
            ],
            "text/html": [
              "\n",
              "  <div id=\"df-85721043-deeb-46ab-a589-8f908e9cd65b\">\n",
              "    <div class=\"colab-df-container\">\n",
              "      <div>\n",
              "<style scoped>\n",
              "    .dataframe tbody tr th:only-of-type {\n",
              "        vertical-align: middle;\n",
              "    }\n",
              "\n",
              "    .dataframe tbody tr th {\n",
              "        vertical-align: top;\n",
              "    }\n",
              "\n",
              "    .dataframe thead th {\n",
              "        text-align: right;\n",
              "    }\n",
              "</style>\n",
              "<table border=\"1\" class=\"dataframe\">\n",
              "  <thead>\n",
              "    <tr style=\"text-align: right;\">\n",
              "      <th></th>\n",
              "      <th>Age</th>\n",
              "      <th>Income</th>\n",
              "      <th>Num_Purchases</th>\n",
              "      <th>Average_Rating</th>\n",
              "      <th>Customer_Service_Rating</th>\n",
              "      <th>Membership_Duration</th>\n",
              "      <th>Loyalty</th>\n",
              "    </tr>\n",
              "  </thead>\n",
              "  <tbody>\n",
              "    <tr>\n",
              "      <th>Age</th>\n",
              "      <td>1.000000</td>\n",
              "      <td>-0.002097</td>\n",
              "      <td>-0.030469</td>\n",
              "      <td>0.087123</td>\n",
              "      <td>-0.021735</td>\n",
              "      <td>-0.017125</td>\n",
              "      <td>0.006818</td>\n",
              "    </tr>\n",
              "    <tr>\n",
              "      <th>Income</th>\n",
              "      <td>-0.002097</td>\n",
              "      <td>1.000000</td>\n",
              "      <td>-0.017944</td>\n",
              "      <td>0.025549</td>\n",
              "      <td>-0.011769</td>\n",
              "      <td>-0.005357</td>\n",
              "      <td>0.000978</td>\n",
              "    </tr>\n",
              "    <tr>\n",
              "      <th>Num_Purchases</th>\n",
              "      <td>-0.030469</td>\n",
              "      <td>-0.017944</td>\n",
              "      <td>1.000000</td>\n",
              "      <td>-0.059932</td>\n",
              "      <td>-0.025415</td>\n",
              "      <td>-0.012478</td>\n",
              "      <td>0.029475</td>\n",
              "    </tr>\n",
              "    <tr>\n",
              "      <th>Average_Rating</th>\n",
              "      <td>0.087123</td>\n",
              "      <td>0.025549</td>\n",
              "      <td>-0.059932</td>\n",
              "      <td>1.000000</td>\n",
              "      <td>0.005678</td>\n",
              "      <td>0.008239</td>\n",
              "      <td>0.033153</td>\n",
              "    </tr>\n",
              "    <tr>\n",
              "      <th>Customer_Service_Rating</th>\n",
              "      <td>-0.021735</td>\n",
              "      <td>-0.011769</td>\n",
              "      <td>-0.025415</td>\n",
              "      <td>0.005678</td>\n",
              "      <td>1.000000</td>\n",
              "      <td>0.038841</td>\n",
              "      <td>-0.021043</td>\n",
              "    </tr>\n",
              "    <tr>\n",
              "      <th>Membership_Duration</th>\n",
              "      <td>-0.017125</td>\n",
              "      <td>-0.005357</td>\n",
              "      <td>-0.012478</td>\n",
              "      <td>0.008239</td>\n",
              "      <td>0.038841</td>\n",
              "      <td>1.000000</td>\n",
              "      <td>-0.011588</td>\n",
              "    </tr>\n",
              "    <tr>\n",
              "      <th>Loyalty</th>\n",
              "      <td>0.006818</td>\n",
              "      <td>0.000978</td>\n",
              "      <td>0.029475</td>\n",
              "      <td>0.033153</td>\n",
              "      <td>-0.021043</td>\n",
              "      <td>-0.011588</td>\n",
              "      <td>1.000000</td>\n",
              "    </tr>\n",
              "  </tbody>\n",
              "</table>\n",
              "</div>\n",
              "      <button class=\"colab-df-convert\" onclick=\"convertToInteractive('df-85721043-deeb-46ab-a589-8f908e9cd65b')\"\n",
              "              title=\"Convert this dataframe to an interactive table.\"\n",
              "              style=\"display:none;\">\n",
              "        \n",
              "  <svg xmlns=\"http://www.w3.org/2000/svg\" height=\"24px\"viewBox=\"0 0 24 24\"\n",
              "       width=\"24px\">\n",
              "    <path d=\"M0 0h24v24H0V0z\" fill=\"none\"/>\n",
              "    <path d=\"M18.56 5.44l.94 2.06.94-2.06 2.06-.94-2.06-.94-.94-2.06-.94 2.06-2.06.94zm-11 1L8.5 8.5l.94-2.06 2.06-.94-2.06-.94L8.5 2.5l-.94 2.06-2.06.94zm10 10l.94 2.06.94-2.06 2.06-.94-2.06-.94-.94-2.06-.94 2.06-2.06.94z\"/><path d=\"M17.41 7.96l-1.37-1.37c-.4-.4-.92-.59-1.43-.59-.52 0-1.04.2-1.43.59L10.3 9.45l-7.72 7.72c-.78.78-.78 2.05 0 2.83L4 21.41c.39.39.9.59 1.41.59.51 0 1.02-.2 1.41-.59l7.78-7.78 2.81-2.81c.8-.78.8-2.07 0-2.86zM5.41 20L4 18.59l7.72-7.72 1.47 1.35L5.41 20z\"/>\n",
              "  </svg>\n",
              "      </button>\n",
              "      \n",
              "  <style>\n",
              "    .colab-df-container {\n",
              "      display:flex;\n",
              "      flex-wrap:wrap;\n",
              "      gap: 12px;\n",
              "    }\n",
              "\n",
              "    .colab-df-convert {\n",
              "      background-color: #E8F0FE;\n",
              "      border: none;\n",
              "      border-radius: 50%;\n",
              "      cursor: pointer;\n",
              "      display: none;\n",
              "      fill: #1967D2;\n",
              "      height: 32px;\n",
              "      padding: 0 0 0 0;\n",
              "      width: 32px;\n",
              "    }\n",
              "\n",
              "    .colab-df-convert:hover {\n",
              "      background-color: #E2EBFA;\n",
              "      box-shadow: 0px 1px 2px rgba(60, 64, 67, 0.3), 0px 1px 3px 1px rgba(60, 64, 67, 0.15);\n",
              "      fill: #174EA6;\n",
              "    }\n",
              "\n",
              "    [theme=dark] .colab-df-convert {\n",
              "      background-color: #3B4455;\n",
              "      fill: #D2E3FC;\n",
              "    }\n",
              "\n",
              "    [theme=dark] .colab-df-convert:hover {\n",
              "      background-color: #434B5C;\n",
              "      box-shadow: 0px 1px 3px 1px rgba(0, 0, 0, 0.15);\n",
              "      filter: drop-shadow(0px 1px 2px rgba(0, 0, 0, 0.3));\n",
              "      fill: #FFFFFF;\n",
              "    }\n",
              "  </style>\n",
              "\n",
              "      <script>\n",
              "        const buttonEl =\n",
              "          document.querySelector('#df-85721043-deeb-46ab-a589-8f908e9cd65b button.colab-df-convert');\n",
              "        buttonEl.style.display =\n",
              "          google.colab.kernel.accessAllowed ? 'block' : 'none';\n",
              "\n",
              "        async function convertToInteractive(key) {\n",
              "          const element = document.querySelector('#df-85721043-deeb-46ab-a589-8f908e9cd65b');\n",
              "          const dataTable =\n",
              "            await google.colab.kernel.invokeFunction('convertToInteractive',\n",
              "                                                     [key], {});\n",
              "          if (!dataTable) return;\n",
              "\n",
              "          const docLinkHtml = 'Like what you see? Visit the ' +\n",
              "            '<a target=\"_blank\" href=https://colab.research.google.com/notebooks/data_table.ipynb>data table notebook</a>'\n",
              "            + ' to learn more about interactive tables.';\n",
              "          element.innerHTML = '';\n",
              "          dataTable['output_type'] = 'display_data';\n",
              "          await google.colab.output.renderOutput(dataTable, element);\n",
              "          const docLink = document.createElement('div');\n",
              "          docLink.innerHTML = docLinkHtml;\n",
              "          element.appendChild(docLink);\n",
              "        }\n",
              "      </script>\n",
              "    </div>\n",
              "  </div>\n",
              "  "
            ]
          },
          "metadata": {},
          "execution_count": 13
        }
      ]
    },
    {
      "cell_type": "code",
      "source": [
        "# kendall tau correlation between dependent variables and dependent variable\n",
        "encoded_df.corr(method='kendall')"
      ],
      "metadata": {
        "id": "bIUlrV_ophtk",
        "colab": {
          "base_uri": "https://localhost:8080/",
          "height": 269
        },
        "outputId": "7ee5b5e2-8723-453e-80d4-fdecaca244dd"
      },
      "execution_count": 14,
      "outputs": [
        {
          "output_type": "execute_result",
          "data": {
            "text/plain": [
              "                              Age    Income  Num_Purchases  Average_Rating  \\\n",
              "Age                      1.000000 -0.001656      -0.020948        0.064497   \n",
              "Income                  -0.001656  1.000000      -0.011977        0.018863   \n",
              "Num_Purchases           -0.020948 -0.011977       1.000000       -0.044732   \n",
              "Average_Rating           0.064497  0.018863      -0.044732        1.000000   \n",
              "Customer_Service_Rating -0.015593 -0.008768      -0.019171        0.005202   \n",
              "Membership_Duration     -0.011995 -0.003425      -0.008916        0.006445   \n",
              "Loyalty                  0.005628  0.000799       0.024699        0.029655   \n",
              "\n",
              "                         Customer_Service_Rating  Membership_Duration  \\\n",
              "Age                                    -0.015593            -0.011995   \n",
              "Income                                 -0.008768            -0.003425   \n",
              "Num_Purchases                          -0.019171            -0.008916   \n",
              "Average_Rating                          0.005202             0.006445   \n",
              "Customer_Service_Rating                 1.000000             0.029146   \n",
              "Membership_Duration                     0.029146             1.000000   \n",
              "Loyalty                                -0.018823            -0.009976   \n",
              "\n",
              "                          Loyalty  \n",
              "Age                      0.005628  \n",
              "Income                   0.000799  \n",
              "Num_Purchases            0.024699  \n",
              "Average_Rating           0.029655  \n",
              "Customer_Service_Rating -0.018823  \n",
              "Membership_Duration     -0.009976  \n",
              "Loyalty                  1.000000  "
            ],
            "text/html": [
              "\n",
              "  <div id=\"df-f9f7894a-5e05-4d60-b798-9070d27c8223\">\n",
              "    <div class=\"colab-df-container\">\n",
              "      <div>\n",
              "<style scoped>\n",
              "    .dataframe tbody tr th:only-of-type {\n",
              "        vertical-align: middle;\n",
              "    }\n",
              "\n",
              "    .dataframe tbody tr th {\n",
              "        vertical-align: top;\n",
              "    }\n",
              "\n",
              "    .dataframe thead th {\n",
              "        text-align: right;\n",
              "    }\n",
              "</style>\n",
              "<table border=\"1\" class=\"dataframe\">\n",
              "  <thead>\n",
              "    <tr style=\"text-align: right;\">\n",
              "      <th></th>\n",
              "      <th>Age</th>\n",
              "      <th>Income</th>\n",
              "      <th>Num_Purchases</th>\n",
              "      <th>Average_Rating</th>\n",
              "      <th>Customer_Service_Rating</th>\n",
              "      <th>Membership_Duration</th>\n",
              "      <th>Loyalty</th>\n",
              "    </tr>\n",
              "  </thead>\n",
              "  <tbody>\n",
              "    <tr>\n",
              "      <th>Age</th>\n",
              "      <td>1.000000</td>\n",
              "      <td>-0.001656</td>\n",
              "      <td>-0.020948</td>\n",
              "      <td>0.064497</td>\n",
              "      <td>-0.015593</td>\n",
              "      <td>-0.011995</td>\n",
              "      <td>0.005628</td>\n",
              "    </tr>\n",
              "    <tr>\n",
              "      <th>Income</th>\n",
              "      <td>-0.001656</td>\n",
              "      <td>1.000000</td>\n",
              "      <td>-0.011977</td>\n",
              "      <td>0.018863</td>\n",
              "      <td>-0.008768</td>\n",
              "      <td>-0.003425</td>\n",
              "      <td>0.000799</td>\n",
              "    </tr>\n",
              "    <tr>\n",
              "      <th>Num_Purchases</th>\n",
              "      <td>-0.020948</td>\n",
              "      <td>-0.011977</td>\n",
              "      <td>1.000000</td>\n",
              "      <td>-0.044732</td>\n",
              "      <td>-0.019171</td>\n",
              "      <td>-0.008916</td>\n",
              "      <td>0.024699</td>\n",
              "    </tr>\n",
              "    <tr>\n",
              "      <th>Average_Rating</th>\n",
              "      <td>0.064497</td>\n",
              "      <td>0.018863</td>\n",
              "      <td>-0.044732</td>\n",
              "      <td>1.000000</td>\n",
              "      <td>0.005202</td>\n",
              "      <td>0.006445</td>\n",
              "      <td>0.029655</td>\n",
              "    </tr>\n",
              "    <tr>\n",
              "      <th>Customer_Service_Rating</th>\n",
              "      <td>-0.015593</td>\n",
              "      <td>-0.008768</td>\n",
              "      <td>-0.019171</td>\n",
              "      <td>0.005202</td>\n",
              "      <td>1.000000</td>\n",
              "      <td>0.029146</td>\n",
              "      <td>-0.018823</td>\n",
              "    </tr>\n",
              "    <tr>\n",
              "      <th>Membership_Duration</th>\n",
              "      <td>-0.011995</td>\n",
              "      <td>-0.003425</td>\n",
              "      <td>-0.008916</td>\n",
              "      <td>0.006445</td>\n",
              "      <td>0.029146</td>\n",
              "      <td>1.000000</td>\n",
              "      <td>-0.009976</td>\n",
              "    </tr>\n",
              "    <tr>\n",
              "      <th>Loyalty</th>\n",
              "      <td>0.005628</td>\n",
              "      <td>0.000799</td>\n",
              "      <td>0.024699</td>\n",
              "      <td>0.029655</td>\n",
              "      <td>-0.018823</td>\n",
              "      <td>-0.009976</td>\n",
              "      <td>1.000000</td>\n",
              "    </tr>\n",
              "  </tbody>\n",
              "</table>\n",
              "</div>\n",
              "      <button class=\"colab-df-convert\" onclick=\"convertToInteractive('df-f9f7894a-5e05-4d60-b798-9070d27c8223')\"\n",
              "              title=\"Convert this dataframe to an interactive table.\"\n",
              "              style=\"display:none;\">\n",
              "        \n",
              "  <svg xmlns=\"http://www.w3.org/2000/svg\" height=\"24px\"viewBox=\"0 0 24 24\"\n",
              "       width=\"24px\">\n",
              "    <path d=\"M0 0h24v24H0V0z\" fill=\"none\"/>\n",
              "    <path d=\"M18.56 5.44l.94 2.06.94-2.06 2.06-.94-2.06-.94-.94-2.06-.94 2.06-2.06.94zm-11 1L8.5 8.5l.94-2.06 2.06-.94-2.06-.94L8.5 2.5l-.94 2.06-2.06.94zm10 10l.94 2.06.94-2.06 2.06-.94-2.06-.94-.94-2.06-.94 2.06-2.06.94z\"/><path d=\"M17.41 7.96l-1.37-1.37c-.4-.4-.92-.59-1.43-.59-.52 0-1.04.2-1.43.59L10.3 9.45l-7.72 7.72c-.78.78-.78 2.05 0 2.83L4 21.41c.39.39.9.59 1.41.59.51 0 1.02-.2 1.41-.59l7.78-7.78 2.81-2.81c.8-.78.8-2.07 0-2.86zM5.41 20L4 18.59l7.72-7.72 1.47 1.35L5.41 20z\"/>\n",
              "  </svg>\n",
              "      </button>\n",
              "      \n",
              "  <style>\n",
              "    .colab-df-container {\n",
              "      display:flex;\n",
              "      flex-wrap:wrap;\n",
              "      gap: 12px;\n",
              "    }\n",
              "\n",
              "    .colab-df-convert {\n",
              "      background-color: #E8F0FE;\n",
              "      border: none;\n",
              "      border-radius: 50%;\n",
              "      cursor: pointer;\n",
              "      display: none;\n",
              "      fill: #1967D2;\n",
              "      height: 32px;\n",
              "      padding: 0 0 0 0;\n",
              "      width: 32px;\n",
              "    }\n",
              "\n",
              "    .colab-df-convert:hover {\n",
              "      background-color: #E2EBFA;\n",
              "      box-shadow: 0px 1px 2px rgba(60, 64, 67, 0.3), 0px 1px 3px 1px rgba(60, 64, 67, 0.15);\n",
              "      fill: #174EA6;\n",
              "    }\n",
              "\n",
              "    [theme=dark] .colab-df-convert {\n",
              "      background-color: #3B4455;\n",
              "      fill: #D2E3FC;\n",
              "    }\n",
              "\n",
              "    [theme=dark] .colab-df-convert:hover {\n",
              "      background-color: #434B5C;\n",
              "      box-shadow: 0px 1px 3px 1px rgba(0, 0, 0, 0.15);\n",
              "      filter: drop-shadow(0px 1px 2px rgba(0, 0, 0, 0.3));\n",
              "      fill: #FFFFFF;\n",
              "    }\n",
              "  </style>\n",
              "\n",
              "      <script>\n",
              "        const buttonEl =\n",
              "          document.querySelector('#df-f9f7894a-5e05-4d60-b798-9070d27c8223 button.colab-df-convert');\n",
              "        buttonEl.style.display =\n",
              "          google.colab.kernel.accessAllowed ? 'block' : 'none';\n",
              "\n",
              "        async function convertToInteractive(key) {\n",
              "          const element = document.querySelector('#df-f9f7894a-5e05-4d60-b798-9070d27c8223');\n",
              "          const dataTable =\n",
              "            await google.colab.kernel.invokeFunction('convertToInteractive',\n",
              "                                                     [key], {});\n",
              "          if (!dataTable) return;\n",
              "\n",
              "          const docLinkHtml = 'Like what you see? Visit the ' +\n",
              "            '<a target=\"_blank\" href=https://colab.research.google.com/notebooks/data_table.ipynb>data table notebook</a>'\n",
              "            + ' to learn more about interactive tables.';\n",
              "          element.innerHTML = '';\n",
              "          dataTable['output_type'] = 'display_data';\n",
              "          await google.colab.output.renderOutput(dataTable, element);\n",
              "          const docLink = document.createElement('div');\n",
              "          docLink.innerHTML = docLinkHtml;\n",
              "          element.appendChild(docLink);\n",
              "        }\n",
              "      </script>\n",
              "    </div>\n",
              "  </div>\n",
              "  "
            ]
          },
          "metadata": {},
          "execution_count": 14
        }
      ]
    },
    {
      "cell_type": "markdown",
      "source": [
        "## **FEATURES SELECTION AND DATA STANDARDIZATION**"
      ],
      "metadata": {
        "id": "mfi-LqsZuZxK"
      }
    },
    {
      "cell_type": "code",
      "source": [
        "# Importing split package\n",
        "from sklearn.model_selection import train_test_split  "
      ],
      "metadata": {
        "id": "G2phCpSky0Al"
      },
      "execution_count": 15,
      "outputs": []
    },
    {
      "cell_type": "markdown",
      "source": [
        "### **Features(X) and Target(y) Selection**"
      ],
      "metadata": {
        "id": "xGpTUZJXuvJo"
      }
    },
    {
      "cell_type": "code",
      "source": [
        "# select X and y and standardize X\n",
        "X = encoded_df.drop(['Loyalty'], axis=1)\n",
        "y = encoded_df['Loyalty']"
      ],
      "metadata": {
        "id": "m9y24RLtv98s"
      },
      "execution_count": 16,
      "outputs": []
    },
    {
      "cell_type": "markdown",
      "source": [
        "### **Data Split**"
      ],
      "metadata": {
        "id": "Qvd3l5SIyO6D"
      }
    },
    {
      "cell_type": "code",
      "source": [
        "# Splitting dataset\n",
        "X_train, X_test, y_train, y_test = train_test_split(X, y, test_size=0.2, random_state=50)  \n",
        "\n",
        "print(\"Number of X train samples:\",X_train.shape[0], \"and number of X test samples :\", X_test.shape[0])"
      ],
      "metadata": {
        "id": "YEGa-mtWyOEK",
        "colab": {
          "base_uri": "https://localhost:8080/"
        },
        "outputId": "d9d29ec9-33b4-47da-e8c9-8be234009110"
      },
      "execution_count": 17,
      "outputs": [
        {
          "output_type": "stream",
          "name": "stdout",
          "text": [
            "Number of X train samples: 800 and number of X test samples : 200\n"
          ]
        }
      ]
    },
    {
      "cell_type": "markdown",
      "source": [
        "### **Data Stardardization**"
      ],
      "metadata": {
        "id": "eEpyM9MAqAX3"
      }
    },
    {
      "cell_type": "code",
      "source": [
        "# import data scaling package\n",
        "from sklearn.preprocessing import RobustScaler\n",
        "scaler = RobustScaler()"
      ],
      "metadata": {
        "id": "5dLKQ1wxuake"
      },
      "execution_count": 18,
      "outputs": []
    },
    {
      "cell_type": "code",
      "source": [
        "scaled_X_train = scaler.fit(X_train).transform(X_train)\n",
        "scaled_X_test = scaler.fit(X_test).transform(X_test)"
      ],
      "metadata": {
        "id": "TIYe0kDiqYuZ"
      },
      "execution_count": 19,
      "outputs": []
    },
    {
      "cell_type": "markdown",
      "source": [
        "## **MODEL BUILDING AND ACCURACY EVALUATION**"
      ],
      "metadata": {
        "id": "teczy_2OqRla"
      }
    },
    {
      "cell_type": "code",
      "source": [
        "# import visualization package\n",
        "import matplotlib.pyplot as plt\n",
        "import seaborn as sns\n",
        "\n",
        "# import hyperparameters tuning package\n",
        "from sklearn.model_selection import GridSearchCV\n",
        "\n",
        "# import model evaluation metrics\n",
        "from sklearn.metrics import classification_report, confusion_matrix, f1_score, jaccard_score,\\\n",
        "                            mean_squared_error, r2_score"
      ],
      "metadata": {
        "id": "UM4uWLNE6PPj"
      },
      "execution_count": 20,
      "outputs": []
    },
    {
      "cell_type": "markdown",
      "source": [
        "### **LOGISTICS REGRESSION**"
      ],
      "metadata": {
        "id": "Xyj289ALp8HA"
      }
    },
    {
      "cell_type": "code",
      "source": [
        "# import logistics regression package \n",
        "from sklearn.linear_model import LogisticRegression\n",
        "LR = LogisticRegression()"
      ],
      "metadata": {
        "id": "JTWY3MJmp7bM"
      },
      "execution_count": 21,
      "outputs": []
    },
    {
      "cell_type": "markdown",
      "source": [
        "### **Logistics Regression Hyperparameters Tuning With GridSearch**"
      ],
      "metadata": {
        "id": "0XTFIPadiaiJ"
      }
    },
    {
      "cell_type": "code",
      "source": [
        "# define hyparameters for logistic regression\n",
        "\n",
        "hyperparameters = {'solver': ['liblinear', 'lbfgs', 'newton-cg'],\n",
        "                  'C': [0.01, 0.1, 1.0]\n",
        "                  }\n",
        "GS_LR = GridSearchCV(LR, hyperparameters, cv=5)"
      ],
      "metadata": {
        "id": "Ljjgj91hkdBE"
      },
      "execution_count": 22,
      "outputs": []
    },
    {
      "cell_type": "code",
      "source": [
        "# fitting the data\n",
        "GS_LR.fit(scaled_X_train, y_train)\n",
        "\n",
        "# display best hyparameters for logistic regression\n",
        "best_LR = GS_LR.best_estimator_\n",
        "print(GS_LR.best_params_, '\\n') \n",
        "\n",
        "# predicting the test data with the best hyperparameters\n",
        "y_pred_LR = best_LR.predict(scaled_X_test)\n",
        "\n",
        "print('Predicted y values:   ', y_pred_LR[0:20])\n",
        "print('Actual y test values: ', y_test[0:20].values)"
      ],
      "metadata": {
        "id": "pzOimSGu4gCD",
        "colab": {
          "base_uri": "https://localhost:8080/"
        },
        "outputId": "61c8f596-fc6c-4301-de98-fcd9d86fae31"
      },
      "execution_count": 23,
      "outputs": [
        {
          "output_type": "stream",
          "name": "stdout",
          "text": [
            "{'C': 0.01, 'solver': 'lbfgs'} \n",
            "\n",
            "Predicted y values:    [1 1 1 0 0 1 1 1 1 1 0 1 0 1 1 1 1 1 1 0]\n",
            "Actual y test values:  [1 1 1 0 1 1 0 0 1 1 1 1 0 1 0 0 1 0 1 0]\n"
          ]
        }
      ]
    },
    {
      "cell_type": "markdown",
      "source": [
        "### **Logistic Regression Model Accuracy Evaluation**"
      ],
      "metadata": {
        "id": "35O6MlLOqHvD"
      }
    },
    {
      "cell_type": "code",
      "source": [
        "# plot confusion matrix\n",
        "ax=sns.heatmap(confusion_matrix(y_test, y_pred_LR), annot=True, cmap=\"Blues\")\n",
        "ax.set(xlabel='Predicted label', ylabel='True label', title=\"Confusion Matrix\")\n",
        "print(classification_report(y_test, y_pred_LR))\n",
        "\n",
        "# modelaccuracy score: f1-score and jaccard score\n",
        "F1_LR = f1_score(y_test, y_pred_LR, average='weighted').round(2)\n",
        "J_LR = jaccard_score(y_test, y_pred_LR).round(2)\n",
        "\n",
        "# print model accuracy scores\n",
        "print('f1 score:', F1_LR)\n",
        "print('jaccard score:', J_LR,'\\n')"
      ],
      "metadata": {
        "id": "545laMr8yC0D",
        "colab": {
          "base_uri": "https://localhost:8080/",
          "height": 680
        },
        "outputId": "ebee7290-bc34-4ea8-e0ba-34d7382854b4"
      },
      "execution_count": 24,
      "outputs": [
        {
          "output_type": "stream",
          "name": "stdout",
          "text": [
            "              precision    recall  f1-score   support\n",
            "\n",
            "           0       0.47      0.21      0.29        89\n",
            "           1       0.56      0.81      0.66       111\n",
            "\n",
            "    accuracy                           0.55       200\n",
            "   macro avg       0.52      0.51      0.48       200\n",
            "weighted avg       0.52      0.55      0.50       200\n",
            "\n",
            "f1 score: 0.5\n",
            "jaccard score: 0.5 \n",
            "\n"
          ]
        },
        {
          "output_type": "display_data",
          "data": {
            "text/plain": [
              "<Figure size 640x480 with 2 Axes>"
            ],
            "image/png": "[encoded data removed]"
          },
          "metadata": {}
        }
      ]
    },
    {
      "cell_type": "markdown",
      "source": [
        "### **Importance of Each Feature in the Logistic Regression Model**"
      ],
      "metadata": {
        "id": "oVbBzagPBGi3"
      }
    },
    {
      "cell_type": "code",
      "source": [
        "# display the importance of each feature\n",
        "\n",
        "importances = abs(pd.Series(best_LR.coef_[0], index=X_train.columns))\n",
        "importances.plot(kind='barh')\n",
        "print(importances,'\\n')"
      ],
      "metadata": {
        "id": "amXi5JED95TY",
        "colab": {
          "base_uri": "https://localhost:8080/",
          "height": 569
        },
        "outputId": "d10850c3-3063-4172-f30d-888c557e88e6"
      },
      "execution_count": 25,
      "outputs": [
        {
          "output_type": "stream",
          "name": "stdout",
          "text": [
            "Age                        0.025429\n",
            "Income                     0.003828\n",
            "Num_Purchases              0.016940\n",
            "Average_Rating             0.068178\n",
            "Customer_Service_Rating    0.004194\n",
            "Membership_Duration        0.004233\n",
            "dtype: float64 \n",
            "\n"
          ]
        },
        {
          "output_type": "display_data",
          "data": {
            "text/plain": [
              "<Figure size 640x480 with 1 Axes>"
            ],
            "image/png": "[encoded data removed]"
          },
          "metadata": {}
        }
      ]
    },
    {
      "cell_type": "markdown",
      "source": [
        "### **SUPPORT VECTOR MACHINE (SVM)**"
      ],
      "metadata": {
        "id": "xyzAmHwvFNLK"
      }
    },
    {
      "cell_type": "code",
      "source": [
        "# import support vector machine package \n",
        "from sklearn import svm\n",
        "SVM = svm.SVC()"
      ],
      "metadata": {
        "id": "WfUbp1iTFNLL"
      },
      "execution_count": 26,
      "outputs": []
    },
    {
      "cell_type": "markdown",
      "source": [
        "### **SVM Hyperparameters Tuning With GridSearch**"
      ],
      "metadata": {
        "id": "NHuzGUBwFNLM"
      }
    },
    {
      "cell_type": "code",
      "source": [
        "# define hyparameters for SVM\n",
        "\n",
        "hyperparameters = {'kernel': ['linear', 'poly', 'rbf'],\n",
        "                  'C': [0.01, 0.1, 1.0],\n",
        "                  'gamma': [0.01,0.1,1.0]\n",
        "                  }\n",
        "GS_SVM = GridSearchCV(SVM, hyperparameters, cv=5)"
      ],
      "metadata": {
        "id": "kTDI-KdDFNLM"
      },
      "execution_count": 27,
      "outputs": []
    },
    {
      "cell_type": "code",
      "source": [
        "# fitting the data\n",
        "GS_SVM.fit(scaled_X_train, y_train)\n",
        "\n",
        "# display best hyparameters for support vector machine\n",
        "best_SVM = GS_SVM.best_estimator_\n",
        "print(best_SVM, '\\n') \n",
        "\n",
        "# predicting the test data with the best hyperparameters\n",
        "y_pred_SVM = best_SVM.predict(scaled_X_test)\n",
        "\n",
        "print('Predicted y values:   ', y_pred_SVM[0:20])\n",
        "print('Actual y test values: ', y_test[0:20].values)"
      ],
      "metadata": {
        "id": "bUMkQtjOFNLN",
        "colab": {
          "base_uri": "https://localhost:8080/"
        },
        "outputId": "611adff0-3d31-48d0-8349-3d0cb55d61f1"
      },
      "execution_count": 28,
      "outputs": [
        {
          "output_type": "stream",
          "name": "stdout",
          "text": [
            "SVC(C=0.01, gamma=0.01, kernel='linear') \n",
            "\n",
            "Predicted y values:    [1 1 1 1 1 1 1 1 1 1 1 1 1 1 1 1 1 1 1 1]\n",
            "Actual y test values:  [1 1 1 0 1 1 0 0 1 1 1 1 0 1 0 0 1 0 1 0]\n"
          ]
        }
      ]
    },
    {
      "cell_type": "markdown",
      "source": [
        "### **SVM Model Accuracy Evaluation**"
      ],
      "metadata": {
        "id": "BOQtRe0VEuCy"
      }
    },
    {
      "cell_type": "code",
      "source": [
        "# plot confusion matrix\n",
        "ax=sns.heatmap(confusion_matrix(y_test, y_pred_SVM), annot=True, cmap=\"Blues\")\n",
        "ax.set(xlabel='Predicted label', ylabel='True label', title=\"Confusion Matrix\")\n",
        "print(classification_report(y_test, y_pred_SVM))\n",
        "\n",
        "# modelaccuracy score: f1-score and jaccard score\n",
        "F1_SVM = f1_score(y_test, y_pred_SVM, average='weighted').round(2)\n",
        "J_SVM = jaccard_score(y_test, y_pred_SVM).round(2)\n",
        "\n",
        "# print model accuracy scores\n",
        "print('f1 score:', F1_SVM)\n",
        "print('jaccard score:', J_SVM,'\\n')"
      ],
      "metadata": {
        "id": "tz64U4TZEuCz",
        "colab": {
          "base_uri": "https://localhost:8080/",
          "height": 804
        },
        "outputId": "b3247301-287c-417a-d46a-2e0a13335059"
      },
      "execution_count": 29,
      "outputs": [
        {
          "output_type": "stream",
          "name": "stderr",
          "text": [
            "/usr/local/lib/python3.9/dist-packages/sklearn/metrics/_classification.py:1344: UndefinedMetricWarning: Precision and F-score are ill-defined and being set to 0.0 in labels with no predicted samples. Use `zero_division` parameter to control this behavior.\n",
            "  _warn_prf(average, modifier, msg_start, len(result))\n",
            "/usr/local/lib/python3.9/dist-packages/sklearn/metrics/_classification.py:1344: UndefinedMetricWarning: Precision and F-score are ill-defined and being set to 0.0 in labels with no predicted samples. Use `zero_division` parameter to control this behavior.\n",
            "  _warn_prf(average, modifier, msg_start, len(result))\n",
            "/usr/local/lib/python3.9/dist-packages/sklearn/metrics/_classification.py:1344: UndefinedMetricWarning: Precision and F-score are ill-defined and being set to 0.0 in labels with no predicted samples. Use `zero_division` parameter to control this behavior.\n",
            "  _warn_prf(average, modifier, msg_start, len(result))\n"
          ]
        },
        {
          "output_type": "stream",
          "name": "stdout",
          "text": [
            "              precision    recall  f1-score   support\n",
            "\n",
            "           0       0.00      0.00      0.00        89\n",
            "           1       0.56      1.00      0.71       111\n",
            "\n",
            "    accuracy                           0.56       200\n",
            "   macro avg       0.28      0.50      0.36       200\n",
            "weighted avg       0.31      0.56      0.40       200\n",
            "\n",
            "f1 score: 0.4\n",
            "jaccard score: 0.56 \n",
            "\n"
          ]
        },
        {
          "output_type": "display_data",
          "data": {
            "text/plain": [
              "<Figure size 640x480 with 2 Axes>"
            ],
            "image/png": "[encoded data removed]"
          },
          "metadata": {}
        }
      ]
    },
    {
      "cell_type": "markdown",
      "source": [
        "### **Importance of Each Feature in the Logistic Regression Model**"
      ],
      "metadata": {
        "id": "JqWDC0itEuC0"
      }
    },
    {
      "cell_type": "code",
      "source": [
        "# display the importance of each feature\n",
        "\n",
        "importances = abs(pd.Series(best_SVM.coef_[0], index=X_train.columns))\n",
        "importances.plot(kind='barh')\n",
        "print(importances,'\\n')"
      ],
      "metadata": {
        "id": "ciY5OgBaEuC0",
        "colab": {
          "base_uri": "https://localhost:8080/",
          "height": 569
        },
        "outputId": "091279b9-3a03-411a-a246-453766cff704"
      },
      "execution_count": 30,
      "outputs": [
        {
          "output_type": "stream",
          "name": "stdout",
          "text": [
            "Age                        0.000224\n",
            "Income                     0.000134\n",
            "Num_Purchases              0.000296\n",
            "Average_Rating             0.070000\n",
            "Customer_Service_Rating    0.000063\n",
            "Membership_Duration        0.000169\n",
            "dtype: float64 \n",
            "\n"
          ]
        },
        {
          "output_type": "display_data",
          "data": {
            "text/plain": [
              "<Figure size 640x480 with 1 Axes>"
            ],
            "image/png": "[encoded data removed]"
          },
          "metadata": {}
        }
      ]
    },
    {
      "cell_type": "markdown",
      "source": [
        "### **K-NEAREST NEIGHBOUR (KNN)**"
      ],
      "metadata": {
        "id": "HDZxsaDewkJb"
      }
    },
    {
      "cell_type": "code",
      "source": [
        "# import K-Nearest Neigbour package \n",
        "from sklearn.neighbors import KNeighborsClassifier\n",
        "KNN = KNeighborsClassifier()"
      ],
      "metadata": {
        "id": "b9ZaZMNbwkJl"
      },
      "execution_count": 31,
      "outputs": []
    },
    {
      "cell_type": "markdown",
      "source": [
        "### **KNN Hyperparameters Tuning With GridSearch**"
      ],
      "metadata": {
        "id": "oBTdbb2vwkJl"
      }
    },
    {
      "cell_type": "code",
      "source": [
        "# define hyparameters for KNN\n",
        "\n",
        "hyperparameters = {'n_neighbors': list(range(1,10,2)),\n",
        "                  'weights': ['uniform', 'distance']\n",
        "                  }\n",
        "GS_KNN = GridSearchCV(KNN, hyperparameters, cv=5)"
      ],
      "metadata": {
        "id": "XXg_3NoswkJl"
      },
      "execution_count": 32,
      "outputs": []
    },
    {
      "cell_type": "code",
      "source": [
        "# fitting the data\n",
        "GS_KNN.fit(scaled_X_train, y_train)\n",
        "\n",
        "# display best hyparameters for KNN\n",
        "best_KNN = GS_KNN.best_estimator_\n",
        "print(best_KNN, '\\n') \n",
        "\n",
        "# predicting the test data with the best hyperparameters\n",
        "y_pred_KNN = best_KNN.predict(scaled_X_test)\n",
        "\n",
        "print('Predicted y values:   ', y_pred_KNN[0:20])\n",
        "print('Actual y test values: ', y_test[0:20].values)"
      ],
      "metadata": {
        "id": "TDZeCp9swkJl",
        "colab": {
          "base_uri": "https://localhost:8080/"
        },
        "outputId": "802b7a1c-2922-458e-b1c8-32fbc433d557"
      },
      "execution_count": 33,
      "outputs": [
        {
          "output_type": "stream",
          "name": "stdout",
          "text": [
            "KNeighborsClassifier(n_neighbors=3, weights='distance') \n",
            "\n",
            "Predicted y values:    [1 0 0 1 1 0 1 0 1 1 0 0 0 1 1 0 1 1 1 0]\n",
            "Actual y test values:  [1 1 1 0 1 1 0 0 1 1 1 1 0 1 0 0 1 0 1 0]\n"
          ]
        }
      ]
    },
    {
      "cell_type": "code",
      "source": [
        "# plot confusion matrix\n",
        "ax=sns.heatmap(confusion_matrix(y_test, y_pred_KNN), annot=True, cmap=\"Blues\")\n",
        "ax.set(xlabel='Predicted label', ylabel='True label', title=\"Confusion Matrix\")\n",
        "print(classification_report(y_test, y_pred_KNN))\n",
        "\n",
        "# modelaccuracy score: f1-score and jaccard score\n",
        "F1_KNN = f1_score(y_test, y_pred_KNN, average='weighted').round(2)\n",
        "J_KNN = jaccard_score(y_test, y_pred_KNN).round(2)\n",
        "\n",
        "# print model accuracy scores\n",
        "print('f1 score:', F1_KNN)\n",
        "print('jaccard score:', J_KNN,'\\n')"
      ],
      "metadata": {
        "id": "1hJqoPaxwkJm",
        "colab": {
          "base_uri": "https://localhost:8080/",
          "height": 680
        },
        "outputId": "8bc97a71-ddbf-4a0d-dd8a-99769a829ff8"
      },
      "execution_count": 34,
      "outputs": [
        {
          "output_type": "stream",
          "name": "stdout",
          "text": [
            "              precision    recall  f1-score   support\n",
            "\n",
            "           0       0.47      0.54      0.50        89\n",
            "           1       0.58      0.50      0.54       111\n",
            "\n",
            "    accuracy                           0.52       200\n",
            "   macro avg       0.52      0.52      0.52       200\n",
            "weighted avg       0.53      0.52      0.52       200\n",
            "\n",
            "f1 score: 0.52\n",
            "jaccard score: 0.37 \n",
            "\n"
          ]
        },
        {
          "output_type": "display_data",
          "data": {
            "text/plain": [
              "<Figure size 640x480 with 2 Axes>"
            ],
            "image/png": "[encoded data removed]"
          },
          "metadata": {}
        }
      ]
    },
    {
      "cell_type": "markdown",
      "source": [
        "### **RANDOM FOREST**"
      ],
      "metadata": {
        "id": "lzm-19kmDL0c"
      }
    },
    {
      "cell_type": "code",
      "source": [
        "# import support random forest classifier package \n",
        "from sklearn.ensemble import RandomForestClassifier\n",
        "RF = RandomForestClassifier()"
      ],
      "metadata": {
        "id": "um7dGI0eDL0m"
      },
      "execution_count": 35,
      "outputs": []
    },
    {
      "cell_type": "markdown",
      "source": [
        "### **Random Forest Hyperparameters Tuning With GridSearch**"
      ],
      "metadata": {
        "id": "1An8i1AhDL0m"
      }
    },
    {
      "cell_type": "code",
      "source": [
        "# define hyparameters for random forest classifier\n",
        "\n",
        "hyperparameters = {'n_estimators': list(range(50,100,10)),\n",
        "                   'criterion': ['gini', 'entropy'],\n",
        "                   'max_depth': list(range(10,20,1))\n",
        "                  }\n",
        "GS_RF = GridSearchCV(RF, hyperparameters, cv=5)"
      ],
      "metadata": {
        "id": "JvdNNMFmDL0m"
      },
      "execution_count": 36,
      "outputs": []
    },
    {
      "cell_type": "code",
      "source": [
        "# fitting the data\n",
        "GS_RF.fit(scaled_X_train, y_train)\n",
        "\n",
        "# display best hyparameters for random forest classifier\n",
        "best_RF = GS_RF.best_estimator_\n",
        "print(best_RF, '\\n') \n",
        "\n",
        "# predicting the test data with the best hyperparameters\n",
        "y_pred_RF = best_RF.predict(scaled_X_test)\n",
        "\n",
        "print('Predicted y values:   ', y_pred_RF[0:20])\n",
        "print('Actual y test values: ', y_test[0:20].values)"
      ],
      "metadata": {
        "id": "iWDpoyDWDL0m",
        "colab": {
          "base_uri": "https://localhost:8080/"
        },
        "outputId": "52ebf5f1-a68a-41dc-a828-36d3faaae43d"
      },
      "execution_count": 37,
      "outputs": [
        {
          "output_type": "stream",
          "name": "stdout",
          "text": [
            "RandomForestClassifier(criterion='entropy', max_depth=11, n_estimators=60) \n",
            "\n",
            "Predicted y values:    [1 0 0 0 1 1 1 0 1 1 1 0 0 1 1 0 0 1 1 0]\n",
            "Actual y test values:  [1 1 1 0 1 1 0 0 1 1 1 1 0 1 0 0 1 0 1 0]\n"
          ]
        }
      ]
    },
    {
      "cell_type": "markdown",
      "source": [
        "### **Random Forest Classifier Accuracy Evaluation**"
      ],
      "metadata": {
        "id": "YBJ8_MEXDL0n"
      }
    },
    {
      "cell_type": "code",
      "source": [
        "# plot confusion matrix\n",
        "ax=sns.heatmap(confusion_matrix(y_test, y_pred_RF), annot=True, cmap=\"Blues\")\n",
        "ax.set(xlabel='Predicted label', ylabel='True label', title=\"Confusion Matrix\")\n",
        "print(classification_report(y_test, y_pred_RF))\n",
        "\n",
        "# modelaccuracy score: f1-score and jaccard score\n",
        "F1_RF = f1_score(y_test, y_pred_RF, average='weighted').round(2)\n",
        "J_RF = jaccard_score(y_test, y_pred_RF).round(2)\n",
        "\n",
        "# print model accuracy scores\n",
        "print('f1 score:', F1_RF)\n",
        "print('jaccard score:', J_RF,'\\n')"
      ],
      "metadata": {
        "id": "RfF58esRDL0n",
        "colab": {
          "base_uri": "https://localhost:8080/",
          "height": 680
        },
        "outputId": "da55c9c8-6004-4a06-91f6-5b2b13557b31"
      },
      "execution_count": 38,
      "outputs": [
        {
          "output_type": "stream",
          "name": "stdout",
          "text": [
            "              precision    recall  f1-score   support\n",
            "\n",
            "           0       0.46      0.52      0.49        89\n",
            "           1       0.57      0.52      0.55       111\n",
            "\n",
            "    accuracy                           0.52       200\n",
            "   macro avg       0.52      0.52      0.52       200\n",
            "weighted avg       0.53      0.52      0.52       200\n",
            "\n",
            "f1 score: 0.52\n",
            "jaccard score: 0.38 \n",
            "\n"
          ]
        },
        {
          "output_type": "display_data",
          "data": {
            "text/plain": [
              "<Figure size 640x480 with 2 Axes>"
            ],
            "image/png": "[encoded data removed]"
          },
          "metadata": {}
        }
      ]
    },
    {
      "cell_type": "markdown",
      "source": [
        "### **Importance of Each Feature in the Random Forest Classifier**"
      ],
      "metadata": {
        "id": "BQx5VXTMDL0n"
      }
    },
    {
      "cell_type": "code",
      "source": [
        "# display the importance of each feature\n",
        "\n",
        "importances = abs(pd.Series(best_RF.feature_importances_, index=X_train.columns))\n",
        "importances.plot(kind='barh')\n",
        "print(importances,'\\n')"
      ],
      "metadata": {
        "id": "3x-HSl_vDL0n",
        "colab": {
          "base_uri": "https://localhost:8080/",
          "height": 569
        },
        "outputId": "c24ef172-4844-4e39-8db4-e8bf6ea483dc"
      },
      "execution_count": 39,
      "outputs": [
        {
          "output_type": "stream",
          "name": "stdout",
          "text": [
            "Age                        0.214518\n",
            "Income                     0.292100\n",
            "Num_Purchases              0.177643\n",
            "Average_Rating             0.090256\n",
            "Customer_Service_Rating    0.093042\n",
            "Membership_Duration        0.132441\n",
            "dtype: float64 \n",
            "\n"
          ]
        },
        {
          "output_type": "display_data",
          "data": {
            "text/plain": [
              "<Figure size 640x480 with 1 Axes>"
            ],
            "image/png": "[encoded data removed]"
          },
          "metadata": {}
        }
      ]
    },
    {
      "cell_type": "markdown",
      "source": [
        "### **ARTIFICAL NEURAL NETWORK(ANN)**"
      ],
      "metadata": {
        "id": "DR5yaiP7uDLN"
      }
    },
    {
      "cell_type": "code",
      "source": [
        "# install sckikeras library\n",
        "!pip install scikeras"
      ],
      "metadata": {
        "colab": {
          "base_uri": "https://localhost:8080/"
        },
        "id": "vrV7BG2RHOfK",
        "outputId": "86d3c37c-aea8-436a-a595-a6f2477f2fb8"
      },
      "execution_count": 40,
      "outputs": [
        {
          "output_type": "stream",
          "name": "stdout",
          "text": [
            "Looking in indexes: https://pypi.org/simple, https://us-python.pkg.dev/colab-wheels/public/simple/\n",
            "Collecting scikeras\n",
            "  Downloading scikeras-0.10.0-py3-none-any.whl (27 kB)\n",
            "Requirement already satisfied: packaging>=0.21 in /usr/local/lib/python3.9/dist-packages (from scikeras) (23.0)\n",
            "Requirement already satisfied: scikit-learn>=1.0.0 in /usr/local/lib/python3.9/dist-packages (from scikeras) (1.2.2)\n",
            "Requirement already satisfied: joblib>=1.1.1 in /usr/local/lib/python3.9/dist-packages (from scikit-learn>=1.0.0->scikeras) (1.1.1)\n",
            "Requirement already satisfied: threadpoolctl>=2.0.0 in /usr/local/lib/python3.9/dist-packages (from scikit-learn>=1.0.0->scikeras) (3.1.0)\n",
            "Requirement already satisfied: scipy>=1.3.2 in /usr/local/lib/python3.9/dist-packages (from scikit-learn>=1.0.0->scikeras) (1.10.1)\n",
            "Requirement already satisfied: numpy>=1.17.3 in /usr/local/lib/python3.9/dist-packages (from scikit-learn>=1.0.0->scikeras) (1.22.4)\n",
            "Installing collected packages: scikeras\n",
            "Successfully installed scikeras-0.10.0\n"
          ]
        }
      ]
    },
    {
      "cell_type": "code",
      "source": [
        "# import ANN algorithm package\n",
        "import scikeras as sk\n",
        "from keras.models import Sequential\n",
        "from keras.layers import Dense\n",
        "from keras.callbacks import EarlyStopping\n",
        "from scikeras.wrappers import KerasClassifier, KerasRegressor"
      ],
      "metadata": {
        "id": "AXXFR_ciuDLY"
      },
      "execution_count": 41,
      "outputs": []
    },
    {
      "cell_type": "code",
      "source": [
        "# define ANN model architecture\n",
        "def create_ANN():\n",
        "    ANN = Sequential()\n",
        "    ANN.add(Dense(32, activation='relu', input_dim=scaled_X_train.shape[1]))\n",
        "    ANN.add(Dense(16, activation='relu'))\n",
        "    ANN.add(Dense(1, activation='sigmoid'))\n",
        "    ANN.compile(loss='binary_crossentropy', optimizer='adam', metrics=['accuracy'])\n",
        "    return ANN\n",
        "\n",
        "# create the model\n",
        "ANN = KerasClassifier(model=create_ANN, verbose=0)\n",
        "#print(ANN)"
      ],
      "metadata": {
        "id": "oKq0fQxf8_fA"
      },
      "execution_count": 42,
      "outputs": []
    },
    {
      "cell_type": "markdown",
      "source": [
        "### **ANN Hyperparameters Tuning With GridSearch**"
      ],
      "metadata": {
        "id": "D38B8z6WuDLY"
      }
    },
    {
      "cell_type": "code",
      "source": [
        "# define hyparameters for ANN\n",
        "\n",
        "hyperparameters = {'batch_size': [32, 64],\n",
        "                   'epochs': [50, 100],\n",
        "                   'optimizer': ['adam', 'sgd']\n",
        "                  }\n",
        "GS_ANN = GridSearchCV(ANN, hyperparameters, cv=5, n_jobs=-1)"
      ],
      "metadata": {
        "id": "iRsbJjgAuDLY"
      },
      "execution_count": 43,
      "outputs": []
    },
    {
      "cell_type": "code",
      "source": [
        "# fitting the data\n",
        "GS_ANN.fit(scaled_X_train, y_train)\n",
        "\n",
        "# print the best hyperparameters\n",
        "print(GS_ANN.best_params_) \n",
        "best_ANN = GS_ANN.best_estimator_ \n",
        "\n",
        "# predicting the test data with the best hyperparameters\n",
        "y_pred_ANN = best_ANN.predict(scaled_X_test)\n",
        "\n",
        "print('Predicted y values:   ', y_pred_ANN[0:5].round(2))\n",
        "print('Actual y test values: ', y_test[0:5].values)"
      ],
      "metadata": {
        "id": "pCTPhz4muDLY",
        "colab": {
          "base_uri": "https://localhost:8080/"
        },
        "outputId": "6f7c56f6-6ff5-4a25-e896-41531e3972da"
      },
      "execution_count": 44,
      "outputs": [
        {
          "output_type": "stream",
          "name": "stdout",
          "text": [
            "{'batch_size': 32, 'epochs': 100, 'optimizer': 'adam'}\n",
            "Predicted y values:    [1 1 1 0 1]\n",
            "Actual y test values:  [1 1 1 0 1]\n"
          ]
        }
      ]
    },
    {
      "cell_type": "markdown",
      "source": [
        "### **ANN Model Accuracy Evaluation**"
      ],
      "metadata": {
        "id": "zb-p1U4yuDLZ"
      }
    },
    {
      "cell_type": "code",
      "source": [
        "# plot confusion matrix\n",
        "ax=sns.heatmap(confusion_matrix(y_test, y_pred_ANN), annot=True, cmap=\"Blues\")\n",
        "ax.set(xlabel='Predicted label', ylabel='True label', title=\"Confusion Matrix\")\n",
        "print(classification_report(y_test, y_pred_ANN))\n",
        "\n",
        "# modelaccuracy score: f1-score and jaccard score\n",
        "F1_ANN = f1_score(y_test, y_pred_ANN, average='weighted').round(2)\n",
        "J_ANN = jaccard_score(y_test, y_pred_ANN).round(2)\n",
        "\n",
        "# print model accuracy scores\n",
        "print('f1 score:', F1_ANN)\n",
        "print('jaccard score:', J_ANN,'\\n')"
      ],
      "metadata": {
        "colab": {
          "base_uri": "https://localhost:8080/",
          "height": 680
        },
        "outputId": "0d6733d8-8d20-410e-86be-eaaf95baf311",
        "id": "FuNxapq0_6Ro"
      },
      "execution_count": 45,
      "outputs": [
        {
          "output_type": "stream",
          "name": "stdout",
          "text": [
            "              precision    recall  f1-score   support\n",
            "\n",
            "           0       0.51      0.54      0.52        89\n",
            "           1       0.61      0.59      0.60       111\n",
            "\n",
            "    accuracy                           0.56       200\n",
            "   macro avg       0.56      0.56      0.56       200\n",
            "weighted avg       0.57      0.56      0.57       200\n",
            "\n",
            "f1 score: 0.57\n",
            "jaccard score: 0.43 \n",
            "\n"
          ]
        },
        {
          "output_type": "display_data",
          "data": {
            "text/plain": [
              "<Figure size 640x480 with 2 Axes>"
            ],
            "image/png": "[encoded data removed]"
          },
          "metadata": {}
        }
      ]
    },
    {
      "cell_type": "markdown",
      "source": [
        "### **Importance of Each Feature in the Artificial Neural Network Model**"
      ],
      "metadata": {
        "id": "mgulNv03_6Rp"
      }
    },
    {
      "cell_type": "code",
      "source": [
        "# display the importance of each feature\n",
        "\n",
        "importance = y_pred_ANN\n",
        "importance = np.squeeze(importance)\n",
        "feature_names = X_train.columns\n",
        "feature_importance = dict(zip(feature_names, importance))\n",
        "sorted_importance = sorted(feature_importance.items(), key=lambda kv: abs(kv[1]), reverse=True)\n",
        "\n",
        "for feature, importance in sorted_importance:\n",
        "    print(f\"{feature}: {abs(importance)}\")\n",
        "\n",
        "importance_values = [abs(kv[1]) for kv in sorted_importance]\n",
        "#print(importance_values)\n",
        "feature_names = [kv[0] for kv in sorted_importance]\n",
        "#print(feature_names)\n",
        "\n",
        "plt.barh(range(len(importance_values)), importance_values, align='center')\n",
        "plt.yticks(range(len(feature_names)), feature_names)\n",
        "plt.xlabel(\"Importance\")\n",
        "plt.ylabel(\"Feature\")\n",
        "plt.title(\"Feature Importance\")\n",
        "plt.show()"
      ],
      "metadata": {
        "id": "wQ0g9XqHuDLZ",
        "colab": {
          "base_uri": "https://localhost:8080/",
          "height": 576
        },
        "outputId": "804c6f34-5472-4a36-9adf-81f5585f35c1"
      },
      "execution_count": 46,
      "outputs": [
        {
          "output_type": "stream",
          "name": "stdout",
          "text": [
            "Age: 1\n",
            "Income: 1\n",
            "Num_Purchases: 1\n",
            "Customer_Service_Rating: 1\n",
            "Membership_Duration: 1\n",
            "Average_Rating: 0\n"
          ]
        },
        {
          "output_type": "display_data",
          "data": {
            "text/plain": [
              "<Figure size 640x480 with 1 Axes>"
            ],
            "image/png": "[encoded data removed]"
          },
          "metadata": {}
        }
      ]
    },
    {
      "cell_type": "markdown",
      "source": [
        "## **MODELS ACCURACY REPORT**"
      ],
      "metadata": {
        "id": "E17VlKr-KEF7"
      }
    },
    {
      "cell_type": "code",
      "source": [
        "# Models accuracy report\n",
        "\n",
        "metrics = [['Logistic Regression', F1_LR, J_LR], \n",
        "           ['Support Vector Machine', F1_SVM, J_SVM], \n",
        "           ['K-Nearest Neigbour', F1_KNN,J_KNN],\n",
        "           ['Random Forest', F1_RF, J_RF],\n",
        "           ['Artificial Neural Network', F1_ANN, J_ANN]]\n",
        "\n",
        "metrics_df = pd.DataFrame(metrics, columns = ['Algorithm','F1-score','Jaccard']).round(2)\n",
        "metrics_df.set_index('Algorithm', inplace =  True)\n",
        "metrics_df.sort_values('F1-score', ascending=False, inplace=True)\n",
        "\n",
        "metrics_df"
      ],
      "metadata": {
        "id": "8BXz9AVmIzLU",
        "colab": {
          "base_uri": "https://localhost:8080/",
          "height": 238
        },
        "outputId": "d74014fa-075c-438b-b427-7ed78a3ec517"
      },
      "execution_count": 47,
      "outputs": [
        {
          "output_type": "execute_result",
          "data": {
            "text/plain": [
              "                           F1-score  Jaccard\n",
              "Algorithm                                   \n",
              "Artificial Neural Network      0.57     0.43\n",
              "K-Nearest Neigbour             0.52     0.37\n",
              "Random Forest                  0.52     0.38\n",
              "Logistic Regression            0.50     0.50\n",
              "Support Vector Machine         0.40     0.56"
            ],
            "text/html": [
              "\n",
              "  <div id=\"df-7fb0af24-c8af-490a-9b89-6d63f6464826\">\n",
              "    <div class=\"colab-df-container\">\n",
              "      <div>\n",
              "<style scoped>\n",
              "    .dataframe tbody tr th:only-of-type {\n",
              "        vertical-align: middle;\n",
              "    }\n",
              "\n",
              "    .dataframe tbody tr th {\n",
              "        vertical-align: top;\n",
              "    }\n",
              "\n",
              "    .dataframe thead th {\n",
              "        text-align: right;\n",
              "    }\n",
              "</style>\n",
              "<table border=\"1\" class=\"dataframe\">\n",
              "  <thead>\n",
              "    <tr style=\"text-align: right;\">\n",
              "      <th></th>\n",
              "      <th>F1-score</th>\n",
              "      <th>Jaccard</th>\n",
              "    </tr>\n",
              "    <tr>\n",
              "      <th>Algorithm</th>\n",
              "      <th></th>\n",
              "      <th></th>\n",
              "    </tr>\n",
              "  </thead>\n",
              "  <tbody>\n",
              "    <tr>\n",
              "      <th>Artificial Neural Network</th>\n",
              "      <td>0.57</td>\n",
              "      <td>0.43</td>\n",
              "    </tr>\n",
              "    <tr>\n",
              "      <th>K-Nearest Neigbour</th>\n",
              "      <td>0.52</td>\n",
              "      <td>0.37</td>\n",
              "    </tr>\n",
              "    <tr>\n",
              "      <th>Random Forest</th>\n",
              "      <td>0.52</td>\n",
              "      <td>0.38</td>\n",
              "    </tr>\n",
              "    <tr>\n",
              "      <th>Logistic Regression</th>\n",
              "      <td>0.50</td>\n",
              "      <td>0.50</td>\n",
              "    </tr>\n",
              "    <tr>\n",
              "      <th>Support Vector Machine</th>\n",
              "      <td>0.40</td>\n",
              "      <td>0.56</td>\n",
              "    </tr>\n",
              "  </tbody>\n",
              "</table>\n",
              "</div>\n",
              "      <button class=\"colab-df-convert\" onclick=\"convertToInteractive('df-7fb0af24-c8af-490a-9b89-6d63f6464826')\"\n",
              "              title=\"Convert this dataframe to an interactive table.\"\n",
              "              style=\"display:none;\">\n",
              "        \n",
              "  <svg xmlns=\"http://www.w3.org/2000/svg\" height=\"24px\"viewBox=\"0 0 24 24\"\n",
              "       width=\"24px\">\n",
              "    <path d=\"M0 0h24v24H0V0z\" fill=\"none\"/>\n",
              "    <path d=\"M18.56 5.44l.94 2.06.94-2.06 2.06-.94-2.06-.94-.94-2.06-.94 2.06-2.06.94zm-11 1L8.5 8.5l.94-2.06 2.06-.94-2.06-.94L8.5 2.5l-.94 2.06-2.06.94zm10 10l.94 2.06.94-2.06 2.06-.94-2.06-.94-.94-2.06-.94 2.06-2.06.94z\"/><path d=\"M17.41 7.96l-1.37-1.37c-.4-.4-.92-.59-1.43-.59-.52 0-1.04.2-1.43.59L10.3 9.45l-7.72 7.72c-.78.78-.78 2.05 0 2.83L4 21.41c.39.39.9.59 1.41.59.51 0 1.02-.2 1.41-.59l7.78-7.78 2.81-2.81c.8-.78.8-2.07 0-2.86zM5.41 20L4 18.59l7.72-7.72 1.47 1.35L5.41 20z\"/>\n",
              "  </svg>\n",
              "      </button>\n",
              "      \n",
              "  <style>\n",
              "    .colab-df-container {\n",
              "      display:flex;\n",
              "      flex-wrap:wrap;\n",
              "      gap: 12px;\n",
              "    }\n",
              "\n",
              "    .colab-df-convert {\n",
              "      background-color: #E8F0FE;\n",
              "      border: none;\n",
              "      border-radius: 50%;\n",
              "      cursor: pointer;\n",
              "      display: none;\n",
              "      fill: #1967D2;\n",
              "      height: 32px;\n",
              "      padding: 0 0 0 0;\n",
              "      width: 32px;\n",
              "    }\n",
              "\n",
              "    .colab-df-convert:hover {\n",
              "      background-color: #E2EBFA;\n",
              "      box-shadow: 0px 1px 2px rgba(60, 64, 67, 0.3), 0px 1px 3px 1px rgba(60, 64, 67, 0.15);\n",
              "      fill: #174EA6;\n",
              "    }\n",
              "\n",
              "    [theme=dark] .colab-df-convert {\n",
              "      background-color: #3B4455;\n",
              "      fill: #D2E3FC;\n",
              "    }\n",
              "\n",
              "    [theme=dark] .colab-df-convert:hover {\n",
              "      background-color: #434B5C;\n",
              "      box-shadow: 0px 1px 3px 1px rgba(0, 0, 0, 0.15);\n",
              "      filter: drop-shadow(0px 1px 2px rgba(0, 0, 0, 0.3));\n",
              "      fill: #FFFFFF;\n",
              "    }\n",
              "  </style>\n",
              "\n",
              "      <script>\n",
              "        const buttonEl =\n",
              "          document.querySelector('#df-7fb0af24-c8af-490a-9b89-6d63f6464826 button.colab-df-convert');\n",
              "        buttonEl.style.display =\n",
              "          google.colab.kernel.accessAllowed ? 'block' : 'none';\n",
              "\n",
              "        async function convertToInteractive(key) {\n",
              "          const element = document.querySelector('#df-7fb0af24-c8af-490a-9b89-6d63f6464826');\n",
              "          const dataTable =\n",
              "            await google.colab.kernel.invokeFunction('convertToInteractive',\n",
              "                                                     [key], {});\n",
              "          if (!dataTable) return;\n",
              "\n",
              "          const docLinkHtml = 'Like what you see? Visit the ' +\n",
              "            '<a target=\"_blank\" href=https://colab.research.google.com/notebooks/data_table.ipynb>data table notebook</a>'\n",
              "            + ' to learn more about interactive tables.';\n",
              "          element.innerHTML = '';\n",
              "          dataTable['output_type'] = 'display_data';\n",
              "          await google.colab.output.renderOutput(dataTable, element);\n",
              "          const docLink = document.createElement('div');\n",
              "          docLink.innerHTML = docLinkHtml;\n",
              "          element.appendChild(docLink);\n",
              "        }\n",
              "      </script>\n",
              "    </div>\n",
              "  </div>\n",
              "  "
            ]
          },
          "metadata": {},
          "execution_count": 47
        }
      ]
    },
    {
      "cell_type": "code",
      "source": [],
      "metadata": {
        "id": "tXfhkPWkT7Wb"
      },
      "execution_count": 47,
      "outputs": []
    }
  ]
}