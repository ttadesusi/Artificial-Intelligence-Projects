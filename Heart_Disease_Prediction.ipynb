{
  "nbformat": 4,
  "nbformat_minor": 0,
  "metadata": {
    "colab": {
      "provenance": [],
      "authorship_tag": "ABX9TyNAtltzeWDaL4IeZuckiI2C",
      "include_colab_link": true
    },
    "kernelspec": {
      "name": "python3",
      "display_name": "Python 3"
    },
    "language_info": {
      "name": "python"
    }
  },
  "cells": [
    {
      "cell_type": "markdown",
      "metadata": {
        "id": "view-in-github",
        "colab_type": "text"
      },
      "source": [
        "<a href=\"https://colab.research.google.com/github/ttadesusi/Artificial-Intelligence-Projects/blob/main/Heart_Disease_Prediction.ipynb\" target=\"_parent\"><img src=\"https://colab.research.google.com/assets/colab-badge.svg\" alt=\"Open In Colab\"/></a>"
      ]
    },
    {
      "cell_type": "markdown",
      "source": [
        "# **HEART DISEASE PREDICTION**\n",
        "\n",
        "---"
      ],
      "metadata": {
        "id": "xi2LzemeLWKF"
      }
    },
    {
      "cell_type": "markdown",
      "source": [
        "## **DATA UNDERSTANDING**\n",
        "\n",
        "The Heart disease dataset contains 303 observations and 14 attributes. This anonymized dataset was retrieved from the University of California (UC) Irvine machine learning repository.\n",
        "\n",
        "Attributes:\n",
        "1. age: in years       \n",
        "2. sex: `1 = male; 0 = female`       \n",
        "3. cp: chest pain type\n",
        "```\n",
        "      1: typical angina, \n",
        "      2: atypical angina, \n",
        "      3: non-anginal pain, \n",
        "      4: asymptomatic\n",
        "```\n",
        "\n",
        "        \n",
        "4. trestbps: resting blood pressure (in mm Hg on admission to the hospital)  \n",
        "5. chol: serum cholestoral in mg/dl      \n",
        "6. fbs: fasting blood sugar > 120 mg/dl `1 = true; 0 = false`       \n",
        "7. restecg: restecg: resting electrocardiographic results \n",
        "```\n",
        "      0: normal, \n",
        "      1: having ST-T wave abnormality (T wave inversions and/or ST elevation or depression of > 0.05 mV), \n",
        "      2: showing probable or definite left ventricular hypertrophy by Estes' criteria   \n",
        "```\n",
        "8. thalach: maximum heart rate achieved   \n",
        "9. exang: exercise induced angina `1 = yes; 0 = no`     \n",
        "10. oldpeak: ST depression induced by exercise relative to rest   \n",
        "11. slope: the slope of the peak exercise ST segment \n",
        " ```           \n",
        "      1: upsloping\n",
        "      2: flat\n",
        "      3: downsloping \n",
        "```    \n",
        "12. ca: number of major vessels (`0-3`) colored by flourosopy        \n",
        "13. thal: `3 = normal; 6 = fixed defect; 7 = reversable defect`      \n",
        "14. num: diagnosis of heart disease (angiographic disease status)\n",
        " ```         \n",
        "      0: < 50% diameter narrowing\n",
        "      1: > 50% diameter narrowing    \n",
        "```"
      ],
      "metadata": {
        "id": "AJIbAjJiLytb"
      }
    },
    {
      "cell_type": "markdown",
      "metadata": {
        "id": "9tXNpaLIAMRa"
      },
      "source": [
        "## **DATA AQUISITION**"
      ]
    },
    {
      "cell_type": "code",
      "execution_count": 1,
      "metadata": {
        "id": "7lsTgJRuPjl3"
      },
      "outputs": [],
      "source": [
        "# import pandas dataframe and numpy packages\n",
        "import pandas as pd\n",
        "import numpy as np\n",
        "\n",
        "# import visualization package\n",
        "import matplotlib.pyplot as plt\n",
        "import seaborn as sns"
      ]
    },
    {
      "cell_type": "code",
      "source": [
        "# read data from web into dataframe\n",
        "link= 'https://archive.ics.uci.edu/ml/machine-learning-databases/heart-disease/processed.cleveland.data'\n",
        "df= pd.read_csv(link, names=['age','sex','cp','trestbps','chol','fbs','restecg','thalach','exang','oldpeak','slope','ca','thal','num'])\n",
        "\n",
        "df.head()"
      ],
      "metadata": {
        "colab": {
          "base_uri": "https://localhost:8080/",
          "height": 206
        },
        "id": "pFTaqxAmPrlk",
        "outputId": "5f31f7ea-502b-4906-c130-a1d83d958e40"
      },
      "execution_count": 2,
      "outputs": [
        {
          "output_type": "execute_result",
          "data": {
            "text/plain": [
              "    age  sex   cp  trestbps   chol  fbs  restecg  thalach  exang  oldpeak  \\\n",
              "0  63.0  1.0  1.0     145.0  233.0  1.0      2.0    150.0    0.0      2.3   \n",
              "1  67.0  1.0  4.0     160.0  286.0  0.0      2.0    108.0    1.0      1.5   \n",
              "2  67.0  1.0  4.0     120.0  229.0  0.0      2.0    129.0    1.0      2.6   \n",
              "3  37.0  1.0  3.0     130.0  250.0  0.0      0.0    187.0    0.0      3.5   \n",
              "4  41.0  0.0  2.0     130.0  204.0  0.0      2.0    172.0    0.0      1.4   \n",
              "\n",
              "   slope   ca thal  num  \n",
              "0    3.0  0.0  6.0    0  \n",
              "1    2.0  3.0  3.0    2  \n",
              "2    2.0  2.0  7.0    1  \n",
              "3    3.0  0.0  3.0    0  \n",
              "4    1.0  0.0  3.0    0  "
            ],
            "text/html": [
              "\n",
              "  <div id=\"df-72e13ce2-92f8-4315-99a9-6ac82b395070\">\n",
              "    <div class=\"colab-df-container\">\n",
              "      <div>\n",
              "<style scoped>\n",
              "    .dataframe tbody tr th:only-of-type {\n",
              "        vertical-align: middle;\n",
              "    }\n",
              "\n",
              "    .dataframe tbody tr th {\n",
              "        vertical-align: top;\n",
              "    }\n",
              "\n",
              "    .dataframe thead th {\n",
              "        text-align: right;\n",
              "    }\n",
              "</style>\n",
              "<table border=\"1\" class=\"dataframe\">\n",
              "  <thead>\n",
              "    <tr style=\"text-align: right;\">\n",
              "      <th></th>\n",
              "      <th>age</th>\n",
              "      <th>sex</th>\n",
              "      <th>cp</th>\n",
              "      <th>trestbps</th>\n",
              "      <th>chol</th>\n",
              "      <th>fbs</th>\n",
              "      <th>restecg</th>\n",
              "      <th>thalach</th>\n",
              "      <th>exang</th>\n",
              "      <th>oldpeak</th>\n",
              "      <th>slope</th>\n",
              "      <th>ca</th>\n",
              "      <th>thal</th>\n",
              "      <th>num</th>\n",
              "    </tr>\n",
              "  </thead>\n",
              "  <tbody>\n",
              "    <tr>\n",
              "      <th>0</th>\n",
              "      <td>63.0</td>\n",
              "      <td>1.0</td>\n",
              "      <td>1.0</td>\n",
              "      <td>145.0</td>\n",
              "      <td>233.0</td>\n",
              "      <td>1.0</td>\n",
              "      <td>2.0</td>\n",
              "      <td>150.0</td>\n",
              "      <td>0.0</td>\n",
              "      <td>2.3</td>\n",
              "      <td>3.0</td>\n",
              "      <td>0.0</td>\n",
              "      <td>6.0</td>\n",
              "      <td>0</td>\n",
              "    </tr>\n",
              "    <tr>\n",
              "      <th>1</th>\n",
              "      <td>67.0</td>\n",
              "      <td>1.0</td>\n",
              "      <td>4.0</td>\n",
              "      <td>160.0</td>\n",
              "      <td>286.0</td>\n",
              "      <td>0.0</td>\n",
              "      <td>2.0</td>\n",
              "      <td>108.0</td>\n",
              "      <td>1.0</td>\n",
              "      <td>1.5</td>\n",
              "      <td>2.0</td>\n",
              "      <td>3.0</td>\n",
              "      <td>3.0</td>\n",
              "      <td>2</td>\n",
              "    </tr>\n",
              "    <tr>\n",
              "      <th>2</th>\n",
              "      <td>67.0</td>\n",
              "      <td>1.0</td>\n",
              "      <td>4.0</td>\n",
              "      <td>120.0</td>\n",
              "      <td>229.0</td>\n",
              "      <td>0.0</td>\n",
              "      <td>2.0</td>\n",
              "      <td>129.0</td>\n",
              "      <td>1.0</td>\n",
              "      <td>2.6</td>\n",
              "      <td>2.0</td>\n",
              "      <td>2.0</td>\n",
              "      <td>7.0</td>\n",
              "      <td>1</td>\n",
              "    </tr>\n",
              "    <tr>\n",
              "      <th>3</th>\n",
              "      <td>37.0</td>\n",
              "      <td>1.0</td>\n",
              "      <td>3.0</td>\n",
              "      <td>130.0</td>\n",
              "      <td>250.0</td>\n",
              "      <td>0.0</td>\n",
              "      <td>0.0</td>\n",
              "      <td>187.0</td>\n",
              "      <td>0.0</td>\n",
              "      <td>3.5</td>\n",
              "      <td>3.0</td>\n",
              "      <td>0.0</td>\n",
              "      <td>3.0</td>\n",
              "      <td>0</td>\n",
              "    </tr>\n",
              "    <tr>\n",
              "      <th>4</th>\n",
              "      <td>41.0</td>\n",
              "      <td>0.0</td>\n",
              "      <td>2.0</td>\n",
              "      <td>130.0</td>\n",
              "      <td>204.0</td>\n",
              "      <td>0.0</td>\n",
              "      <td>2.0</td>\n",
              "      <td>172.0</td>\n",
              "      <td>0.0</td>\n",
              "      <td>1.4</td>\n",
              "      <td>1.0</td>\n",
              "      <td>0.0</td>\n",
              "      <td>3.0</td>\n",
              "      <td>0</td>\n",
              "    </tr>\n",
              "  </tbody>\n",
              "</table>\n",
              "</div>\n",
              "      <button class=\"colab-df-convert\" onclick=\"convertToInteractive('df-72e13ce2-92f8-4315-99a9-6ac82b395070')\"\n",
              "              title=\"Convert this dataframe to an interactive table.\"\n",
              "              style=\"display:none;\">\n",
              "        \n",
              "  <svg xmlns=\"http://www.w3.org/2000/svg\" height=\"24px\"viewBox=\"0 0 24 24\"\n",
              "       width=\"24px\">\n",
              "    <path d=\"M0 0h24v24H0V0z\" fill=\"none\"/>\n",
              "    <path d=\"M18.56 5.44l.94 2.06.94-2.06 2.06-.94-2.06-.94-.94-2.06-.94 2.06-2.06.94zm-11 1L8.5 8.5l.94-2.06 2.06-.94-2.06-.94L8.5 2.5l-.94 2.06-2.06.94zm10 10l.94 2.06.94-2.06 2.06-.94-2.06-.94-.94-2.06-.94 2.06-2.06.94z\"/><path d=\"M17.41 7.96l-1.37-1.37c-.4-.4-.92-.59-1.43-.59-.52 0-1.04.2-1.43.59L10.3 9.45l-7.72 7.72c-.78.78-.78 2.05 0 2.83L4 21.41c.39.39.9.59 1.41.59.51 0 1.02-.2 1.41-.59l7.78-7.78 2.81-2.81c.8-.78.8-2.07 0-2.86zM5.41 20L4 18.59l7.72-7.72 1.47 1.35L5.41 20z\"/>\n",
              "  </svg>\n",
              "      </button>\n",
              "      \n",
              "  <style>\n",
              "    .colab-df-container {\n",
              "      display:flex;\n",
              "      flex-wrap:wrap;\n",
              "      gap: 12px;\n",
              "    }\n",
              "\n",
              "    .colab-df-convert {\n",
              "      background-color: #E8F0FE;\n",
              "      border: none;\n",
              "      border-radius: 50%;\n",
              "      cursor: pointer;\n",
              "      display: none;\n",
              "      fill: #1967D2;\n",
              "      height: 32px;\n",
              "      padding: 0 0 0 0;\n",
              "      width: 32px;\n",
              "    }\n",
              "\n",
              "    .colab-df-convert:hover {\n",
              "      background-color: #E2EBFA;\n",
              "      box-shadow: 0px 1px 2px rgba(60, 64, 67, 0.3), 0px 1px 3px 1px rgba(60, 64, 67, 0.15);\n",
              "      fill: #174EA6;\n",
              "    }\n",
              "\n",
              "    [theme=dark] .colab-df-convert {\n",
              "      background-color: #3B4455;\n",
              "      fill: #D2E3FC;\n",
              "    }\n",
              "\n",
              "    [theme=dark] .colab-df-convert:hover {\n",
              "      background-color: #434B5C;\n",
              "      box-shadow: 0px 1px 3px 1px rgba(0, 0, 0, 0.15);\n",
              "      filter: drop-shadow(0px 1px 2px rgba(0, 0, 0, 0.3));\n",
              "      fill: #FFFFFF;\n",
              "    }\n",
              "  </style>\n",
              "\n",
              "      <script>\n",
              "        const buttonEl =\n",
              "          document.querySelector('#df-72e13ce2-92f8-4315-99a9-6ac82b395070 button.colab-df-convert');\n",
              "        buttonEl.style.display =\n",
              "          google.colab.kernel.accessAllowed ? 'block' : 'none';\n",
              "\n",
              "        async function convertToInteractive(key) {\n",
              "          const element = document.querySelector('#df-72e13ce2-92f8-4315-99a9-6ac82b395070');\n",
              "          const dataTable =\n",
              "            await google.colab.kernel.invokeFunction('convertToInteractive',\n",
              "                                                     [key], {});\n",
              "          if (!dataTable) return;\n",
              "\n",
              "          const docLinkHtml = 'Like what you see? Visit the ' +\n",
              "            '<a target=\"_blank\" href=https://colab.research.google.com/notebooks/data_table.ipynb>data table notebook</a>'\n",
              "            + ' to learn more about interactive tables.';\n",
              "          element.innerHTML = '';\n",
              "          dataTable['output_type'] = 'display_data';\n",
              "          await google.colab.output.renderOutput(dataTable, element);\n",
              "          const docLink = document.createElement('div');\n",
              "          docLink.innerHTML = docLinkHtml;\n",
              "          element.appendChild(docLink);\n",
              "        }\n",
              "      </script>\n",
              "    </div>\n",
              "  </div>\n",
              "  "
            ]
          },
          "metadata": {},
          "execution_count": 2
        }
      ]
    },
    {
      "cell_type": "markdown",
      "metadata": {
        "id": "y8K_CJCJpgzR"
      },
      "source": [
        "## **DATA EXPLORATION AND PREPARATION**"
      ]
    },
    {
      "cell_type": "code",
      "execution_count": 3,
      "metadata": {
        "colab": {
          "base_uri": "https://localhost:8080/"
        },
        "id": "4lgvir7-VhEK",
        "outputId": "c1c65e73-b097-4d9e-82fe-f32f067dcdaf"
      },
      "outputs": [
        {
          "output_type": "stream",
          "name": "stdout",
          "text": [
            "<class 'pandas.core.frame.DataFrame'>\n",
            "RangeIndex: 303 entries, 0 to 302\n",
            "Data columns (total 14 columns):\n",
            " #   Column    Non-Null Count  Dtype  \n",
            "---  ------    --------------  -----  \n",
            " 0   age       303 non-null    float64\n",
            " 1   sex       303 non-null    float64\n",
            " 2   cp        303 non-null    float64\n",
            " 3   trestbps  303 non-null    float64\n",
            " 4   chol      303 non-null    float64\n",
            " 5   fbs       303 non-null    float64\n",
            " 6   restecg   303 non-null    float64\n",
            " 7   thalach   303 non-null    float64\n",
            " 8   exang     303 non-null    float64\n",
            " 9   oldpeak   303 non-null    float64\n",
            " 10  slope     303 non-null    float64\n",
            " 11  ca        303 non-null    object \n",
            " 12  thal      303 non-null    object \n",
            " 13  num       303 non-null    int64  \n",
            "dtypes: float64(11), int64(1), object(2)\n",
            "memory usage: 33.3+ KB\n",
            "None \n",
            "\n",
            "Number of rows (observations) is 303 and Number of columns (attributes) is 14\n"
          ]
        }
      ],
      "source": [
        "# data info\n",
        "print(df.info(), \"\\n\")  # display attributes (column) data type and number of non-empty cells\n",
        "print(\"Number of rows (observations) is\", df.shape[0], \"and\", \"Number of columns (attributes) is\" , df.shape[1])  # Number of rows and column"
      ]
    },
    {
      "cell_type": "code",
      "source": [
        "# check error values in the data\n",
        "for col in df.select_dtypes(include=['object','int']).columns:\n",
        "  print(f\"{col}:\\n{df[col].value_counts()}\\n\")"
      ],
      "metadata": {
        "colab": {
          "base_uri": "https://localhost:8080/"
        },
        "id": "sABAOLbWx7Fo",
        "outputId": "a694d607-b4c7-4be4-b842-2fc695ada8a5"
      },
      "execution_count": 4,
      "outputs": [
        {
          "output_type": "stream",
          "name": "stdout",
          "text": [
            "ca:\n",
            "0.0    176\n",
            "1.0     65\n",
            "2.0     38\n",
            "3.0     20\n",
            "?        4\n",
            "Name: ca, dtype: int64\n",
            "\n",
            "thal:\n",
            "3.0    166\n",
            "7.0    117\n",
            "6.0     18\n",
            "?        2\n",
            "Name: thal, dtype: int64\n",
            "\n",
            "num:\n",
            "0    164\n",
            "1     55\n",
            "2     36\n",
            "3     35\n",
            "4     13\n",
            "Name: num, dtype: int64\n",
            "\n"
          ]
        }
      ]
    },
    {
      "cell_type": "code",
      "source": [
        "# replace label column values (0,1,2,3,4) to just 0 and 1 (0: no heart disease, 1:heart disease)\n",
        "df['num'].replace({2:1,3:1,4:1}, inplace=True)\n",
        "\n",
        "#df.replace(\"?\", np.nan, inplace = True)\n",
        "print(f\"{'num'}:\\n{df.num.value_counts()}\")"
      ],
      "metadata": {
        "colab": {
          "base_uri": "https://localhost:8080/"
        },
        "id": "8rrFuy6ajLk6",
        "outputId": "a11c62b7-e9f0-45d8-f8c8-47bb08ad98e4"
      },
      "execution_count": 5,
      "outputs": [
        {
          "output_type": "stream",
          "name": "stdout",
          "text": [
            "num:\n",
            "0    164\n",
            "1    139\n",
            "Name: num, dtype: int64\n"
          ]
        }
      ]
    },
    {
      "cell_type": "code",
      "source": [
        "# Delete data errors\n",
        "for col in df.select_dtypes('object').columns:\n",
        "  df=df[df[col]!='?']\n",
        "  print(f\"{col}:\\n{df[col].value_counts()}\\n\")\n",
        "\n",
        "# convert attributes with data type-object to float\n",
        "df = df.astype({'ca':'float','thal':'float'})\n",
        "\n",
        "df.info()"
      ],
      "metadata": {
        "colab": {
          "base_uri": "https://localhost:8080/"
        },
        "id": "KUUGPc_25NCt",
        "outputId": "d943434d-caf3-4be2-fbdd-58ac344033b1"
      },
      "execution_count": 6,
      "outputs": [
        {
          "output_type": "stream",
          "name": "stdout",
          "text": [
            "ca:\n",
            "0.0    176\n",
            "1.0     65\n",
            "2.0     38\n",
            "3.0     20\n",
            "Name: ca, dtype: int64\n",
            "\n",
            "thal:\n",
            "3.0    164\n",
            "7.0    115\n",
            "6.0     18\n",
            "Name: thal, dtype: int64\n",
            "\n",
            "<class 'pandas.core.frame.DataFrame'>\n",
            "Int64Index: 297 entries, 0 to 301\n",
            "Data columns (total 14 columns):\n",
            " #   Column    Non-Null Count  Dtype  \n",
            "---  ------    --------------  -----  \n",
            " 0   age       297 non-null    float64\n",
            " 1   sex       297 non-null    float64\n",
            " 2   cp        297 non-null    float64\n",
            " 3   trestbps  297 non-null    float64\n",
            " 4   chol      297 non-null    float64\n",
            " 5   fbs       297 non-null    float64\n",
            " 6   restecg   297 non-null    float64\n",
            " 7   thalach   297 non-null    float64\n",
            " 8   exang     297 non-null    float64\n",
            " 9   oldpeak   297 non-null    float64\n",
            " 10  slope     297 non-null    float64\n",
            " 11  ca        297 non-null    float64\n",
            " 12  thal      297 non-null    float64\n",
            " 13  num       297 non-null    int64  \n",
            "dtypes: float64(13), int64(1)\n",
            "memory usage: 34.8 KB\n"
          ]
        }
      ]
    },
    {
      "cell_type": "markdown",
      "metadata": {
        "id": "VyTROczOdBBe"
      },
      "source": [
        "## **DATA DESCRIPTIVE STATISTICS**"
      ]
    },
    {
      "cell_type": "code",
      "execution_count": 7,
      "metadata": {
        "colab": {
          "base_uri": "https://localhost:8080/",
          "height": 488
        },
        "id": "rEwzgv0kTsIa",
        "outputId": "ac8392e8-4b4d-40e0-e0de-970773af9a84"
      },
      "outputs": [
        {
          "output_type": "execute_result",
          "data": {
            "text/plain": [
              "          count        mean        std    min    25%    50%    75%    max\n",
              "age       297.0   54.542088   9.049736   29.0   48.0   56.0   61.0   77.0\n",
              "sex       297.0    0.676768   0.468500    0.0    0.0    1.0    1.0    1.0\n",
              "cp        297.0    3.158249   0.964859    1.0    3.0    3.0    4.0    4.0\n",
              "trestbps  297.0  131.693603  17.762806   94.0  120.0  130.0  140.0  200.0\n",
              "chol      297.0  247.350168  51.997583  126.0  211.0  243.0  276.0  564.0\n",
              "fbs       297.0    0.144781   0.352474    0.0    0.0    0.0    0.0    1.0\n",
              "restecg   297.0    0.996633   0.994914    0.0    0.0    1.0    2.0    2.0\n",
              "thalach   297.0  149.599327  22.941562   71.0  133.0  153.0  166.0  202.0\n",
              "exang     297.0    0.326599   0.469761    0.0    0.0    0.0    1.0    1.0\n",
              "oldpeak   297.0    1.055556   1.166123    0.0    0.0    0.8    1.6    6.2\n",
              "slope     297.0    1.602694   0.618187    1.0    1.0    2.0    2.0    3.0\n",
              "ca        297.0    0.676768   0.938965    0.0    0.0    0.0    1.0    3.0\n",
              "thal      297.0    4.730640   1.938629    3.0    3.0    3.0    7.0    7.0\n",
              "num       297.0    0.461279   0.499340    0.0    0.0    0.0    1.0    1.0"
            ],
            "text/html": [
              "\n",
              "  <div id=\"df-812dace6-4ef6-415b-ac2b-88e6da6e6504\">\n",
              "    <div class=\"colab-df-container\">\n",
              "      <div>\n",
              "<style scoped>\n",
              "    .dataframe tbody tr th:only-of-type {\n",
              "        vertical-align: middle;\n",
              "    }\n",
              "\n",
              "    .dataframe tbody tr th {\n",
              "        vertical-align: top;\n",
              "    }\n",
              "\n",
              "    .dataframe thead th {\n",
              "        text-align: right;\n",
              "    }\n",
              "</style>\n",
              "<table border=\"1\" class=\"dataframe\">\n",
              "  <thead>\n",
              "    <tr style=\"text-align: right;\">\n",
              "      <th></th>\n",
              "      <th>count</th>\n",
              "      <th>mean</th>\n",
              "      <th>std</th>\n",
              "      <th>min</th>\n",
              "      <th>25%</th>\n",
              "      <th>50%</th>\n",
              "      <th>75%</th>\n",
              "      <th>max</th>\n",
              "    </tr>\n",
              "  </thead>\n",
              "  <tbody>\n",
              "    <tr>\n",
              "      <th>age</th>\n",
              "      <td>297.0</td>\n",
              "      <td>54.542088</td>\n",
              "      <td>9.049736</td>\n",
              "      <td>29.0</td>\n",
              "      <td>48.0</td>\n",
              "      <td>56.0</td>\n",
              "      <td>61.0</td>\n",
              "      <td>77.0</td>\n",
              "    </tr>\n",
              "    <tr>\n",
              "      <th>sex</th>\n",
              "      <td>297.0</td>\n",
              "      <td>0.676768</td>\n",
              "      <td>0.468500</td>\n",
              "      <td>0.0</td>\n",
              "      <td>0.0</td>\n",
              "      <td>1.0</td>\n",
              "      <td>1.0</td>\n",
              "      <td>1.0</td>\n",
              "    </tr>\n",
              "    <tr>\n",
              "      <th>cp</th>\n",
              "      <td>297.0</td>\n",
              "      <td>3.158249</td>\n",
              "      <td>0.964859</td>\n",
              "      <td>1.0</td>\n",
              "      <td>3.0</td>\n",
              "      <td>3.0</td>\n",
              "      <td>4.0</td>\n",
              "      <td>4.0</td>\n",
              "    </tr>\n",
              "    <tr>\n",
              "      <th>trestbps</th>\n",
              "      <td>297.0</td>\n",
              "      <td>131.693603</td>\n",
              "      <td>17.762806</td>\n",
              "      <td>94.0</td>\n",
              "      <td>120.0</td>\n",
              "      <td>130.0</td>\n",
              "      <td>140.0</td>\n",
              "      <td>200.0</td>\n",
              "    </tr>\n",
              "    <tr>\n",
              "      <th>chol</th>\n",
              "      <td>297.0</td>\n",
              "      <td>247.350168</td>\n",
              "      <td>51.997583</td>\n",
              "      <td>126.0</td>\n",
              "      <td>211.0</td>\n",
              "      <td>243.0</td>\n",
              "      <td>276.0</td>\n",
              "      <td>564.0</td>\n",
              "    </tr>\n",
              "    <tr>\n",
              "      <th>fbs</th>\n",
              "      <td>297.0</td>\n",
              "      <td>0.144781</td>\n",
              "      <td>0.352474</td>\n",
              "      <td>0.0</td>\n",
              "      <td>0.0</td>\n",
              "      <td>0.0</td>\n",
              "      <td>0.0</td>\n",
              "      <td>1.0</td>\n",
              "    </tr>\n",
              "    <tr>\n",
              "      <th>restecg</th>\n",
              "      <td>297.0</td>\n",
              "      <td>0.996633</td>\n",
              "      <td>0.994914</td>\n",
              "      <td>0.0</td>\n",
              "      <td>0.0</td>\n",
              "      <td>1.0</td>\n",
              "      <td>2.0</td>\n",
              "      <td>2.0</td>\n",
              "    </tr>\n",
              "    <tr>\n",
              "      <th>thalach</th>\n",
              "      <td>297.0</td>\n",
              "      <td>149.599327</td>\n",
              "      <td>22.941562</td>\n",
              "      <td>71.0</td>\n",
              "      <td>133.0</td>\n",
              "      <td>153.0</td>\n",
              "      <td>166.0</td>\n",
              "      <td>202.0</td>\n",
              "    </tr>\n",
              "    <tr>\n",
              "      <th>exang</th>\n",
              "      <td>297.0</td>\n",
              "      <td>0.326599</td>\n",
              "      <td>0.469761</td>\n",
              "      <td>0.0</td>\n",
              "      <td>0.0</td>\n",
              "      <td>0.0</td>\n",
              "      <td>1.0</td>\n",
              "      <td>1.0</td>\n",
              "    </tr>\n",
              "    <tr>\n",
              "      <th>oldpeak</th>\n",
              "      <td>297.0</td>\n",
              "      <td>1.055556</td>\n",
              "      <td>1.166123</td>\n",
              "      <td>0.0</td>\n",
              "      <td>0.0</td>\n",
              "      <td>0.8</td>\n",
              "      <td>1.6</td>\n",
              "      <td>6.2</td>\n",
              "    </tr>\n",
              "    <tr>\n",
              "      <th>slope</th>\n",
              "      <td>297.0</td>\n",
              "      <td>1.602694</td>\n",
              "      <td>0.618187</td>\n",
              "      <td>1.0</td>\n",
              "      <td>1.0</td>\n",
              "      <td>2.0</td>\n",
              "      <td>2.0</td>\n",
              "      <td>3.0</td>\n",
              "    </tr>\n",
              "    <tr>\n",
              "      <th>ca</th>\n",
              "      <td>297.0</td>\n",
              "      <td>0.676768</td>\n",
              "      <td>0.938965</td>\n",
              "      <td>0.0</td>\n",
              "      <td>0.0</td>\n",
              "      <td>0.0</td>\n",
              "      <td>1.0</td>\n",
              "      <td>3.0</td>\n",
              "    </tr>\n",
              "    <tr>\n",
              "      <th>thal</th>\n",
              "      <td>297.0</td>\n",
              "      <td>4.730640</td>\n",
              "      <td>1.938629</td>\n",
              "      <td>3.0</td>\n",
              "      <td>3.0</td>\n",
              "      <td>3.0</td>\n",
              "      <td>7.0</td>\n",
              "      <td>7.0</td>\n",
              "    </tr>\n",
              "    <tr>\n",
              "      <th>num</th>\n",
              "      <td>297.0</td>\n",
              "      <td>0.461279</td>\n",
              "      <td>0.499340</td>\n",
              "      <td>0.0</td>\n",
              "      <td>0.0</td>\n",
              "      <td>0.0</td>\n",
              "      <td>1.0</td>\n",
              "      <td>1.0</td>\n",
              "    </tr>\n",
              "  </tbody>\n",
              "</table>\n",
              "</div>\n",
              "      <button class=\"colab-df-convert\" onclick=\"convertToInteractive('df-812dace6-4ef6-415b-ac2b-88e6da6e6504')\"\n",
              "              title=\"Convert this dataframe to an interactive table.\"\n",
              "              style=\"display:none;\">\n",
              "        \n",
              "  <svg xmlns=\"http://www.w3.org/2000/svg\" height=\"24px\"viewBox=\"0 0 24 24\"\n",
              "       width=\"24px\">\n",
              "    <path d=\"M0 0h24v24H0V0z\" fill=\"none\"/>\n",
              "    <path d=\"M18.56 5.44l.94 2.06.94-2.06 2.06-.94-2.06-.94-.94-2.06-.94 2.06-2.06.94zm-11 1L8.5 8.5l.94-2.06 2.06-.94-2.06-.94L8.5 2.5l-.94 2.06-2.06.94zm10 10l.94 2.06.94-2.06 2.06-.94-2.06-.94-.94-2.06-.94 2.06-2.06.94z\"/><path d=\"M17.41 7.96l-1.37-1.37c-.4-.4-.92-.59-1.43-.59-.52 0-1.04.2-1.43.59L10.3 9.45l-7.72 7.72c-.78.78-.78 2.05 0 2.83L4 21.41c.39.39.9.59 1.41.59.51 0 1.02-.2 1.41-.59l7.78-7.78 2.81-2.81c.8-.78.8-2.07 0-2.86zM5.41 20L4 18.59l7.72-7.72 1.47 1.35L5.41 20z\"/>\n",
              "  </svg>\n",
              "      </button>\n",
              "      \n",
              "  <style>\n",
              "    .colab-df-container {\n",
              "      display:flex;\n",
              "      flex-wrap:wrap;\n",
              "      gap: 12px;\n",
              "    }\n",
              "\n",
              "    .colab-df-convert {\n",
              "      background-color: #E8F0FE;\n",
              "      border: none;\n",
              "      border-radius: 50%;\n",
              "      cursor: pointer;\n",
              "      display: none;\n",
              "      fill: #1967D2;\n",
              "      height: 32px;\n",
              "      padding: 0 0 0 0;\n",
              "      width: 32px;\n",
              "    }\n",
              "\n",
              "    .colab-df-convert:hover {\n",
              "      background-color: #E2EBFA;\n",
              "      box-shadow: 0px 1px 2px rgba(60, 64, 67, 0.3), 0px 1px 3px 1px rgba(60, 64, 67, 0.15);\n",
              "      fill: #174EA6;\n",
              "    }\n",
              "\n",
              "    [theme=dark] .colab-df-convert {\n",
              "      background-color: #3B4455;\n",
              "      fill: #D2E3FC;\n",
              "    }\n",
              "\n",
              "    [theme=dark] .colab-df-convert:hover {\n",
              "      background-color: #434B5C;\n",
              "      box-shadow: 0px 1px 3px 1px rgba(0, 0, 0, 0.15);\n",
              "      filter: drop-shadow(0px 1px 2px rgba(0, 0, 0, 0.3));\n",
              "      fill: #FFFFFF;\n",
              "    }\n",
              "  </style>\n",
              "\n",
              "      <script>\n",
              "        const buttonEl =\n",
              "          document.querySelector('#df-812dace6-4ef6-415b-ac2b-88e6da6e6504 button.colab-df-convert');\n",
              "        buttonEl.style.display =\n",
              "          google.colab.kernel.accessAllowed ? 'block' : 'none';\n",
              "\n",
              "        async function convertToInteractive(key) {\n",
              "          const element = document.querySelector('#df-812dace6-4ef6-415b-ac2b-88e6da6e6504');\n",
              "          const dataTable =\n",
              "            await google.colab.kernel.invokeFunction('convertToInteractive',\n",
              "                                                     [key], {});\n",
              "          if (!dataTable) return;\n",
              "\n",
              "          const docLinkHtml = 'Like what you see? Visit the ' +\n",
              "            '<a target=\"_blank\" href=https://colab.research.google.com/notebooks/data_table.ipynb>data table notebook</a>'\n",
              "            + ' to learn more about interactive tables.';\n",
              "          element.innerHTML = '';\n",
              "          dataTable['output_type'] = 'display_data';\n",
              "          await google.colab.output.renderOutput(dataTable, element);\n",
              "          const docLink = document.createElement('div');\n",
              "          docLink.innerHTML = docLinkHtml;\n",
              "          element.appendChild(docLink);\n",
              "        }\n",
              "      </script>\n",
              "    </div>\n",
              "  </div>\n",
              "  "
            ]
          },
          "metadata": {},
          "execution_count": 7
        }
      ],
      "source": [
        "# summary statistics for numerical values\n",
        "df.describe().transpose()"
      ]
    },
    {
      "cell_type": "markdown",
      "metadata": {
        "id": "YnHLRh3CvvmY"
      },
      "source": [
        "## **DATA DISTRIBUTION**"
      ]
    },
    {
      "cell_type": "code",
      "execution_count": 8,
      "metadata": {
        "colab": {
          "base_uri": "https://localhost:8080/",
          "height": 973
        },
        "id": "9GeIjj74wqOT",
        "outputId": "08f7fe93-b1c3-440d-e549-c62a2f0d6751"
      },
      "outputs": [
        {
          "output_type": "stream",
          "name": "stdout",
          "text": [
            "data skewness:\n",
            " sex       -0.759727\n",
            "cp        -0.844412\n",
            "fbs        2.029240\n",
            "restecg    0.006768\n",
            "exang      0.743256\n",
            "oldpeak    1.247131\n",
            "slope      0.510444\n",
            "ca         1.179548\n",
            "thal       0.247772\n",
            "num        0.156138\n",
            "dtype: float64 \n",
            "\n",
            "data kurtosis:\n",
            " sex       -1.432507\n",
            "cp        -0.410925\n",
            "fbs        2.132128\n",
            "restecg   -1.999674\n",
            "exang     -1.457431\n",
            "oldpeak    1.510972\n",
            "slope     -0.627303\n",
            "ca         0.235233\n",
            "thal      -1.915684\n",
            "num       -1.989061\n",
            "dtype: float64\n"
          ]
        },
        {
          "output_type": "execute_result",
          "data": {
            "text/plain": [
              "<Axes: >"
            ]
          },
          "metadata": {},
          "execution_count": 8
        },
        {
          "output_type": "display_data",
          "data": {
            "text/plain": [
              "<Figure size 1000x600 with 1 Axes>"
            ],
            "image/png": "[encoded data removed]"
          },
          "metadata": {}
        }
      ],
      "source": [
        "# numeric variables distibution\n",
        "df1= df.drop(['age','trestbps','chol','thalach'], axis=1)\n",
        "print('data skewness:\\n',df1.skew(),'\\n')\n",
        "print('data kurtosis:\\n',df1.kurtosis())\n",
        "df1.plot.box(figsize=(10,6), vert = False, grid = False)"
      ]
    },
    {
      "cell_type": "code",
      "source": [
        "# numeric variables distibution\n",
        "df2= df[['age','trestbps','chol','thalach']]\n",
        "print('data skewness:\\n',df1.skew(),'\\n')\n",
        "print('data kurtosis:\\n',df1.kurtosis())\n",
        "df2.plot.box(figsize=(10,6), vert = False, grid = False)"
      ],
      "metadata": {
        "colab": {
          "base_uri": "https://localhost:8080/",
          "height": 973
        },
        "id": "y4uemN1xslTn",
        "outputId": "cc93977c-9169-415e-fa81-0f6953cc8ad0"
      },
      "execution_count": 9,
      "outputs": [
        {
          "output_type": "stream",
          "name": "stdout",
          "text": [
            "data skewness:\n",
            " sex       -0.759727\n",
            "cp        -0.844412\n",
            "fbs        2.029240\n",
            "restecg    0.006768\n",
            "exang      0.743256\n",
            "oldpeak    1.247131\n",
            "slope      0.510444\n",
            "ca         1.179548\n",
            "thal       0.247772\n",
            "num        0.156138\n",
            "dtype: float64 \n",
            "\n",
            "data kurtosis:\n",
            " sex       -1.432507\n",
            "cp        -0.410925\n",
            "fbs        2.132128\n",
            "restecg   -1.999674\n",
            "exang     -1.457431\n",
            "oldpeak    1.510972\n",
            "slope     -0.627303\n",
            "ca         0.235233\n",
            "thal      -1.915684\n",
            "num       -1.989061\n",
            "dtype: float64\n"
          ]
        },
        {
          "output_type": "execute_result",
          "data": {
            "text/plain": [
              "<Axes: >"
            ]
          },
          "metadata": {},
          "execution_count": 9
        },
        {
          "output_type": "display_data",
          "data": {
            "text/plain": [
              "<Figure size 1000x600 with 1 Axes>"
            ],
            "image/png": "[encoded data removed]"
          },
          "metadata": {}
        }
      ]
    },
    {
      "cell_type": "markdown",
      "metadata": {
        "id": "mfi-LqsZuZxK"
      },
      "source": [
        "## **FEATURES SELECTION AND DATA STANDARDIZATION**"
      ]
    },
    {
      "cell_type": "code",
      "execution_count": 10,
      "metadata": {
        "id": "G2phCpSky0Al"
      },
      "outputs": [],
      "source": [
        "# import split package\n",
        "from sklearn.model_selection import train_test_split  "
      ]
    },
    {
      "cell_type": "markdown",
      "metadata": {
        "id": "xGpTUZJXuvJo"
      },
      "source": [
        "### **Features(X) and Target(y) Selection**"
      ]
    },
    {
      "cell_type": "code",
      "source": [
        "\n",
        "X = df.drop(['num'], axis=1)\n",
        "y = df['num']"
      ],
      "metadata": {
        "id": "Jx5i3IB1wLNQ"
      },
      "execution_count": 11,
      "outputs": []
    },
    {
      "cell_type": "markdown",
      "metadata": {
        "id": "eEpyM9MAqAX3"
      },
      "source": [
        "### **Data Stardardization**"
      ]
    },
    {
      "cell_type": "code",
      "execution_count": 12,
      "metadata": {
        "id": "5dLKQ1wxuake"
      },
      "outputs": [],
      "source": [
        "# import data scaling package\n",
        "from sklearn.preprocessing import StandardScaler\n",
        "scaler= StandardScaler()\n",
        "scaled_X_train=scaler.fit_transform(X)"
      ]
    },
    {
      "cell_type": "markdown",
      "metadata": {
        "id": "Qvd3l5SIyO6D"
      },
      "source": [
        "### **Data Split**"
      ]
    },
    {
      "cell_type": "code",
      "execution_count": 13,
      "metadata": {
        "colab": {
          "base_uri": "https://localhost:8080/"
        },
        "id": "YEGa-mtWyOEK",
        "outputId": "ad45dfab-05d3-4144-9f55-4f79cd11e869"
      },
      "outputs": [
        {
          "output_type": "stream",
          "name": "stdout",
          "text": [
            "Number of X train samples: 237 and number of X test samples : 60\n",
            "Number of y train samples: 237 and number of y test samples : 60\n"
          ]
        }
      ],
      "source": [
        "# Splitting dataset\n",
        "X_train, X_test, y_train, y_test = train_test_split(scaled_X_train, y, test_size=0.2, random_state=50)  \n",
        "\n",
        "print(\"Number of X train samples:\",X_train.shape[0], \"and number of X test samples :\", X_test.shape[0])\n",
        "print(\"Number of y train samples:\",y_train.shape[0], \"and number of y test samples :\", y_test.shape[0])"
      ]
    },
    {
      "cell_type": "markdown",
      "metadata": {
        "id": "teczy_2OqRla"
      },
      "source": [
        "## **MODEL BUILDING AND ACCURACY EVALUATION**"
      ]
    },
    {
      "cell_type": "code",
      "execution_count": 14,
      "metadata": {
        "id": "UM4uWLNE6PPj"
      },
      "outputs": [],
      "source": [
        "# import hyperparameters tuning package\n",
        "from sklearn.model_selection import GridSearchCV\n",
        "\n",
        "# import feature importance package\n",
        "from sklearn.inspection import permutation_importance\n",
        "\n",
        "# import model evaluation metrics\n",
        "from sklearn.metrics import classification_report, confusion_matrix, f1_score,\\\n",
        "                            mean_squared_error, r2_score"
      ]
    },
    {
      "cell_type": "markdown",
      "metadata": {
        "id": "Xyj289ALp8HA"
      },
      "source": [
        "### **LOGISTICS REGRESSION (LR)**"
      ]
    },
    {
      "cell_type": "code",
      "execution_count": 15,
      "metadata": {
        "id": "JTWY3MJmp7bM"
      },
      "outputs": [],
      "source": [
        "# import logistics regression package \n",
        "from sklearn.linear_model import LogisticRegression\n",
        "LR = LogisticRegression(random_state=100)"
      ]
    },
    {
      "cell_type": "markdown",
      "metadata": {
        "id": "0XTFIPadiaiJ"
      },
      "source": [
        "### **Logistics Regression Hyperparameters Tuning With GridSearch**"
      ]
    },
    {
      "cell_type": "code",
      "execution_count": 16,
      "metadata": {
        "id": "Ljjgj91hkdBE"
      },
      "outputs": [],
      "source": [
        "# define hyparameters for logistic regression\n",
        "hyperparameters = {'solver': ['liblinear', 'lbfgs'],\n",
        "                   'C': [0.01, 0.1, 1.0]\n",
        "                  }\n",
        "# Create the grid search object \n",
        "GS_LR = GridSearchCV(LR, hyperparameters, cv=5, scoring='accuracy')"
      ]
    },
    {
      "cell_type": "code",
      "execution_count": 17,
      "metadata": {
        "colab": {
          "base_uri": "https://localhost:8080/"
        },
        "id": "pzOimSGu4gCD",
        "outputId": "00e2f5d1-3485-40e3-f11d-a23254a7cf55"
      },
      "outputs": [
        {
          "output_type": "stream",
          "name": "stdout",
          "text": [
            "{'C': 0.01, 'solver': 'liblinear'} \n",
            "\n",
            "Predicted y values:    [1 0 1 0 1 0 0 1 1 1]\n",
            "Actual y test values:  [1 0 1 0 1 0 0 1 1 1]\n"
          ]
        }
      ],
      "source": [
        "# fitting the data\n",
        "GS_LR.fit(X_train, y_train)\n",
        "\n",
        "# display best hyparameters for logistic regression\n",
        "best_LR = GS_LR.best_estimator_\n",
        "print(GS_LR.best_params_, '\\n') \n",
        "\n",
        "# predicting the test data with the best hyperparameters\n",
        "y_pred_LR = best_LR.predict(X_test)\n",
        "\n",
        "print('Predicted y values:   ', y_pred_LR[0:10])\n",
        "print('Actual y test values: ', y_test[0:10].values)"
      ]
    },
    {
      "cell_type": "markdown",
      "metadata": {
        "id": "35O6MlLOqHvD"
      },
      "source": [
        "### **Logistic Regression Model Accuracy Evaluation**"
      ]
    },
    {
      "cell_type": "code",
      "execution_count": 18,
      "metadata": {
        "colab": {
          "base_uri": "https://localhost:8080/",
          "height": 646
        },
        "id": "545laMr8yC0D",
        "outputId": "203584fa-7d2c-457b-e08f-a6be0ccc3e76"
      },
      "outputs": [
        {
          "output_type": "stream",
          "name": "stdout",
          "text": [
            "              precision    recall  f1-score   support\n",
            "\n",
            "           0       0.86      0.91      0.89        34\n",
            "           1       0.88      0.81      0.84        26\n",
            "\n",
            "    accuracy                           0.87        60\n",
            "   macro avg       0.87      0.86      0.86        60\n",
            "weighted avg       0.87      0.87      0.87        60\n",
            "\n",
            "f1 score: 0.87\n"
          ]
        },
        {
          "output_type": "display_data",
          "data": {
            "text/plain": [
              "<Figure size 640x480 with 2 Axes>"
            ],
            "image/png": "[encoded data removed]"
          },
          "metadata": {}
        }
      ],
      "source": [
        "# plot confusion matrix\n",
        "ax=sns.heatmap(confusion_matrix(y_test, y_pred_LR), annot=True, cmap=\"Blues\")\n",
        "ax.set(xlabel='Predicted label', ylabel='True label', title=\"Confusion Matrix\")\n",
        "print(classification_report(y_test, y_pred_LR))\n",
        "\n",
        "# modelaccuracy score: f1-score and jaccard score\n",
        "F1_LR = f1_score(y_test, y_pred_LR, average='weighted').round(2)\n",
        "\n",
        "# print model accuracy scores\n",
        "print('f1 score:', F1_LR)"
      ]
    },
    {
      "cell_type": "markdown",
      "metadata": {
        "id": "oVbBzagPBGi3"
      },
      "source": [
        "### **Importance of Each Feature in the Logistic Regression Model**"
      ]
    },
    {
      "cell_type": "code",
      "execution_count": 19,
      "metadata": {
        "colab": {
          "base_uri": "https://localhost:8080/",
          "height": 593
        },
        "id": "VU9tNrfaIqp2",
        "outputId": "8444cf53-15f4-4012-9b20-13c11b49f258"
      },
      "outputs": [
        {
          "output_type": "stream",
          "name": "stdout",
          "text": [
            "thal        0.253324\n",
            "ca          0.248097\n",
            "exang       0.200745\n",
            "cp          0.198585\n",
            "thalach     0.187237\n",
            "oldpeak     0.165514\n",
            "sex         0.136547\n",
            "slope       0.122798\n",
            "chol        0.086521\n",
            "trestbps    0.082539\n",
            "age         0.072394\n",
            "restecg     0.068214\n",
            "fbs         0.023802\n",
            "dtype: float64\n"
          ]
        },
        {
          "output_type": "execute_result",
          "data": {
            "text/plain": [
              "Text(0.5, 1.0, 'Feature Importance')"
            ]
          },
          "metadata": {},
          "execution_count": 19
        },
        {
          "output_type": "display_data",
          "data": {
            "text/plain": [
              "<Figure size 500x300 with 1 Axes>"
            ],
            "image/png": "[encoded data removed]"
          },
          "metadata": {}
        }
      ],
      "source": [
        "# Map feature importance values to feature names\n",
        "feature_names = X.columns\n",
        "feature_importances = pd.Series(abs(best_LR.coef_[0]), index=feature_names)\n",
        "\n",
        "# Print the feature importance values\n",
        "print(feature_importances.sort_values(ascending=False))\n",
        "\n",
        "# Sort feature importance values in descending order\n",
        "feature_importances = feature_importances.sort_values(ascending=True)\n",
        "\n",
        "# Plot feature importance barh chart\n",
        "plt.figure(figsize=(5, 3))\n",
        "plt.barh(feature_importances.index, feature_importances.values)\n",
        "plt.xlabel('Importance')\n",
        "plt.ylabel('Feature')\n",
        "plt.title('Feature Importance')"
      ]
    },
    {
      "cell_type": "markdown",
      "metadata": {
        "id": "lzm-19kmDL0c"
      },
      "source": [
        "### **RANDOM FOREST (RF)**"
      ]
    },
    {
      "cell_type": "code",
      "execution_count": 20,
      "metadata": {
        "id": "um7dGI0eDL0m"
      },
      "outputs": [],
      "source": [
        "# import support random forest classifier package \n",
        "from sklearn.ensemble import RandomForestClassifier\n",
        "RF = RandomForestClassifier(random_state=100)"
      ]
    },
    {
      "cell_type": "markdown",
      "metadata": {
        "id": "1An8i1AhDL0m"
      },
      "source": [
        "### **Random Forest Hyperparameters Tuning With GridSearch**"
      ]
    },
    {
      "cell_type": "code",
      "execution_count": 21,
      "metadata": {
        "id": "JvdNNMFmDL0m"
      },
      "outputs": [],
      "source": [
        "# define hyparameters for random forest classifier\n",
        "hyperparameters = {'n_estimators': list(range(70,100,10)),\n",
        "                   'criterion': ['gini','entropy'],\n",
        "                   'min_samples_leaf': list(range(2,8,2)),\n",
        "                   'max_depth':list(range(2,8,2))         \n",
        "                  }\n",
        "# Create the grid search object \n",
        "GS_RF = GridSearchCV(RF, hyperparameters, cv=5, scoring='accuracy')"
      ]
    },
    {
      "cell_type": "code",
      "execution_count": 22,
      "metadata": {
        "colab": {
          "base_uri": "https://localhost:8080/"
        },
        "id": "iWDpoyDWDL0m",
        "outputId": "095aa407-7d66-4ad3-f853-a95de755ba74"
      },
      "outputs": [
        {
          "output_type": "stream",
          "name": "stdout",
          "text": [
            "RandomForestClassifier(max_depth=4, min_samples_leaf=4, n_estimators=70,\n",
            "                       random_state=100) \n",
            "\n",
            "Predicted y values:    [1 0 1 0 1 0 0 0 1 1]\n",
            "Actual y test values:  [1 0 1 0 1 0 0 1 1 1]\n"
          ]
        }
      ],
      "source": [
        "# fitting the data\n",
        "GS_RF.fit(X_train, y_train)\n",
        "\n",
        "# display best hyparameters for random forest classifier\n",
        "best_RF = GS_RF.best_estimator_\n",
        "print(best_RF, '\\n') \n",
        "\n",
        "# predicting the test data with the best hyperparameters\n",
        "y_pred_RF = best_RF.predict(X_test)\n",
        "\n",
        "print('Predicted y values:   ', y_pred_RF[0:10])\n",
        "print('Actual y test values: ', y_test[0:10].values)"
      ]
    },
    {
      "cell_type": "markdown",
      "metadata": {
        "id": "YBJ8_MEXDL0n"
      },
      "source": [
        "### **Random Forest Classifier Accuracy Evaluation**"
      ]
    },
    {
      "cell_type": "code",
      "execution_count": 23,
      "metadata": {
        "colab": {
          "base_uri": "https://localhost:8080/",
          "height": 646
        },
        "id": "RfF58esRDL0n",
        "outputId": "c5a96274-f4b0-40b6-a577-7e55d851a38c"
      },
      "outputs": [
        {
          "output_type": "stream",
          "name": "stdout",
          "text": [
            "              precision    recall  f1-score   support\n",
            "\n",
            "           0       0.87      0.97      0.92        34\n",
            "           1       0.95      0.81      0.88        26\n",
            "\n",
            "    accuracy                           0.90        60\n",
            "   macro avg       0.91      0.89      0.90        60\n",
            "weighted avg       0.91      0.90      0.90        60\n",
            "\n",
            "f1 score: 0.9\n"
          ]
        },
        {
          "output_type": "display_data",
          "data": {
            "text/plain": [
              "<Figure size 640x480 with 2 Axes>"
            ],
            "image/png": "[encoded data removed]"
          },
          "metadata": {}
        }
      ],
      "source": [
        "# plot confusion matrix\n",
        "ax=sns.heatmap(confusion_matrix(y_test, y_pred_RF), annot=True, cmap=\"Blues\")\n",
        "ax.set(xlabel='Predicted label', ylabel='True label', title=\"Confusion Matrix\")\n",
        "print(classification_report(y_test, y_pred_RF))\n",
        "\n",
        "# modelaccuracy score: f1-score and jaccard score\n",
        "F1_RF = f1_score(y_test, y_pred_RF, average='weighted').round(2)\n",
        "\n",
        "# print model accuracy scores\n",
        "print('f1 score:', F1_RF)"
      ]
    },
    {
      "cell_type": "markdown",
      "metadata": {
        "id": "BQx5VXTMDL0n"
      },
      "source": [
        "### **Importance of Each Feature in the Random Forest Model**"
      ]
    },
    {
      "cell_type": "code",
      "source": [
        "# Map feature importance values to feature names\n",
        "feature_names = X.columns\n",
        "feature_importances = pd.Series(abs(best_RF.feature_importances_), index=feature_names)\n",
        "\n",
        "# Print the feature importance values\n",
        "print(feature_importances.sort_values(ascending=False))\n",
        "\n",
        "# Sort feature importance values in descending order\n",
        "feature_importances = feature_importances.sort_values(ascending=True)\n",
        "\n",
        "# Plot feature importance barh chart\n",
        "plt.figure(figsize=(5, 3))\n",
        "plt.barh(feature_importances.index, feature_importances.values)\n",
        "plt.xlabel('Importance')\n",
        "plt.ylabel('Feature')\n",
        "plt.title('Feature Importance')"
      ],
      "metadata": {
        "colab": {
          "base_uri": "https://localhost:8080/",
          "height": 593
        },
        "id": "MLEvzBw-Z42l",
        "outputId": "5eff8489-9c0c-4041-fec7-66d5bf0b2b9f"
      },
      "execution_count": 24,
      "outputs": [
        {
          "output_type": "stream",
          "name": "stdout",
          "text": [
            "cp          0.177014\n",
            "thal        0.176584\n",
            "ca          0.116455\n",
            "oldpeak     0.114823\n",
            "thalach     0.105999\n",
            "exang       0.085835\n",
            "age         0.060857\n",
            "slope       0.046531\n",
            "chol        0.041242\n",
            "trestbps    0.037221\n",
            "sex         0.027546\n",
            "restecg     0.009244\n",
            "fbs         0.000651\n",
            "dtype: float64\n"
          ]
        },
        {
          "output_type": "execute_result",
          "data": {
            "text/plain": [
              "Text(0.5, 1.0, 'Feature Importance')"
            ]
          },
          "metadata": {},
          "execution_count": 24
        },
        {
          "output_type": "display_data",
          "data": {
            "text/plain": [
              "<Figure size 500x300 with 1 Axes>"
            ],
            "image/png": "[encoded data removed]"
          },
          "metadata": {}
        }
      ]
    },
    {
      "cell_type": "markdown",
      "metadata": {
        "id": "WpszSRfTkNDE"
      },
      "source": [
        "### **XGBOOST (XGB)**"
      ]
    },
    {
      "cell_type": "code",
      "source": [
        "# import XGB classifier package \n",
        "from xgboost.sklearn import XGBClassifier\n",
        "XGB = XGBClassifier(random_state=100)"
      ],
      "metadata": {
        "id": "7-MPrlNympQu"
      },
      "execution_count": 25,
      "outputs": []
    },
    {
      "cell_type": "markdown",
      "metadata": {
        "id": "fHK1Q1HIkNCj"
      },
      "source": [
        "### **XGBoost Hyperparameters Tuning With GridSearch**"
      ]
    },
    {
      "cell_type": "code",
      "source": [
        "# define hyparameters for XGB classifier\n",
        "hyperparameters = {'n_estimators': list(range(50,100,10)),\n",
        "                   'max_depth': list(range(2,10,2)),\n",
        "                   'learning_rate': [0.01,0.1,1.0],\n",
        "                   }\n",
        "# Create the grid search object \n",
        "GS_XGB = GridSearchCV(XGB, hyperparameters, cv=5, scoring='accuracy')"
      ],
      "metadata": {
        "id": "dm34Zolm0nXI"
      },
      "execution_count": 26,
      "outputs": []
    },
    {
      "cell_type": "code",
      "source": [
        "GS_XGB.fit(X_train, y_train)\n",
        "\n",
        "# display best hyparameters for random forest classifier\n",
        "best_XGB = GS_XGB.best_estimator_\n",
        "print(GS_XGB.best_params_, '\\n') \n",
        "\n",
        "# predicting the test data with the best hyperparameters\n",
        "y_pred_XGB = best_XGB.predict(X_test)\n",
        "\n",
        "print('Predicted y values:   ', y_pred_XGB[0:10].round())\n",
        "print('Actual y test values: ', y_test[0:10].values)"
      ],
      "metadata": {
        "colab": {
          "base_uri": "https://localhost:8080/"
        },
        "id": "nTK7-O8cnfqL",
        "outputId": "47044263-178d-43d7-ff20-0570009976f4"
      },
      "execution_count": 27,
      "outputs": [
        {
          "output_type": "stream",
          "name": "stdout",
          "text": [
            "{'learning_rate': 0.1, 'max_depth': 2, 'n_estimators': 90} \n",
            "\n",
            "Predicted y values:    [1 0 1 0 1 0 0 0 1 1]\n",
            "Actual y test values:  [1 0 1 0 1 0 0 1 1 1]\n"
          ]
        }
      ]
    },
    {
      "cell_type": "markdown",
      "metadata": {
        "id": "NZbIBAyKkNDE"
      },
      "source": [
        "### **XGBoost Classifier Accuracy Evaluation**"
      ]
    },
    {
      "cell_type": "code",
      "source": [
        "# plot confusion matrix\n",
        "ax=sns.heatmap(confusion_matrix(y_test, y_pred_XGB), annot=True, cmap=\"Blues\")\n",
        "ax.set(xlabel='Predicted label', ylabel='True label', title=\"Confusion Matrix\")\n",
        "print(classification_report(y_test, y_pred_XGB))\n",
        "\n",
        "# modelaccuracy score: f1-score\n",
        "F1_XGB = f1_score(y_test, y_pred_XGB, average='weighted').round(2)\n",
        "\n",
        "# print model accuracy scores\n",
        "print('f1 score:', F1_XGB)"
      ],
      "metadata": {
        "colab": {
          "base_uri": "https://localhost:8080/",
          "height": 646
        },
        "id": "-N4SeEpQz7de",
        "outputId": "39c6cdbf-7ddd-4801-b9d0-4d53d6a78385"
      },
      "execution_count": 28,
      "outputs": [
        {
          "output_type": "stream",
          "name": "stdout",
          "text": [
            "              precision    recall  f1-score   support\n",
            "\n",
            "           0       0.83      0.88      0.86        34\n",
            "           1       0.83      0.77      0.80        26\n",
            "\n",
            "    accuracy                           0.83        60\n",
            "   macro avg       0.83      0.83      0.83        60\n",
            "weighted avg       0.83      0.83      0.83        60\n",
            "\n",
            "f1 score: 0.83\n"
          ]
        },
        {
          "output_type": "display_data",
          "data": {
            "text/plain": [
              "<Figure size 640x480 with 2 Axes>"
            ],
            "image/png": "[encoded data removed]"
          },
          "metadata": {}
        }
      ]
    },
    {
      "cell_type": "markdown",
      "source": [
        "### **Features Importance in the XGBoost Model**"
      ],
      "metadata": {
        "id": "8kTjKRMY4NV8"
      }
    },
    {
      "cell_type": "code",
      "source": [
        "# Map feature importance values to feature names\n",
        "feature_names = X.columns\n",
        "feature_importances = pd.Series(abs(best_XGB.feature_importances_), index=feature_names)\n",
        "\n",
        "# Print the feature importance values\n",
        "print(feature_importances.sort_values(ascending=False))\n",
        "\n",
        "# Sort feature importance values in descending order\n",
        "feature_importances = feature_importances.sort_values(ascending=True)\n",
        "\n",
        "# Plot feature importance barh chart\n",
        "plt.figure(figsize=(5, 3))\n",
        "plt.barh(feature_importances.index, feature_importances.values)\n",
        "plt.xlabel('Importance')\n",
        "plt.ylabel('Feature')\n",
        "plt.title('Feature Importance')"
      ],
      "metadata": {
        "colab": {
          "base_uri": "https://localhost:8080/",
          "height": 593
        },
        "id": "S4gAja5yfeYC",
        "outputId": "a4e1becb-0b70-4309-c766-5ed6d5ac0bba"
      },
      "execution_count": 29,
      "outputs": [
        {
          "output_type": "stream",
          "name": "stdout",
          "text": [
            "cp          0.300006\n",
            "thal        0.190390\n",
            "ca          0.094288\n",
            "exang       0.070812\n",
            "thalach     0.056447\n",
            "oldpeak     0.047990\n",
            "chol        0.044945\n",
            "sex         0.044004\n",
            "slope       0.042893\n",
            "age         0.039991\n",
            "trestbps    0.037507\n",
            "restecg     0.030727\n",
            "fbs         0.000000\n",
            "dtype: float32\n"
          ]
        },
        {
          "output_type": "execute_result",
          "data": {
            "text/plain": [
              "Text(0.5, 1.0, 'Feature Importance')"
            ]
          },
          "metadata": {},
          "execution_count": 29
        },
        {
          "output_type": "display_data",
          "data": {
            "text/plain": [
              "<Figure size 500x300 with 1 Axes>"
            ],
            "image/png": "[encoded data removed]"
          },
          "metadata": {}
        }
      ]
    },
    {
      "cell_type": "markdown",
      "source": [
        "### **SUPPORT VECTOR MACHINE (SVM)**"
      ],
      "metadata": {
        "id": "xyzAmHwvFNLK"
      }
    },
    {
      "cell_type": "code",
      "source": [
        "# import support vector machine package \n",
        "from sklearn import svm\n",
        "SVM = svm.SVC(random_state=100)"
      ],
      "metadata": {
        "id": "WfUbp1iTFNLL"
      },
      "execution_count": 30,
      "outputs": []
    },
    {
      "cell_type": "markdown",
      "source": [
        "### **SVM Hyperparameters Tuning With GridSearch**"
      ],
      "metadata": {
        "id": "NHuzGUBwFNLM"
      }
    },
    {
      "cell_type": "code",
      "source": [
        "# define hyparameters for SVM\n",
        "hyperparameters = {'kernel': ['linear'],\n",
        "                  'C': [0.01, 0.1, 1.0],\n",
        "                  'gamma': [0.01,0.1,1.0]\n",
        "                  }\n",
        "# Create the grid search object \n",
        "GS_SVM = GridSearchCV(SVM, hyperparameters, cv=5, scoring='accuracy')"
      ],
      "metadata": {
        "id": "kTDI-KdDFNLM"
      },
      "execution_count": 31,
      "outputs": []
    },
    {
      "cell_type": "code",
      "source": [
        "# fitting the data\n",
        "GS_SVM.fit(X_train, y_train)\n",
        "\n",
        "# display best hyparameters for support vector machine\n",
        "best_SVM = GS_SVM.best_estimator_\n",
        "print(GS_SVM.best_params_, '\\n') \n",
        "\n",
        "# predicting the test data with the best hyperparameters\n",
        "y_pred_SVM = best_SVM.predict(X_test)\n",
        "\n",
        "print('Predicted y values:   ', y_pred_SVM[0:10])\n",
        "print('Actual y test values: ', y_test[0:10].values)"
      ],
      "metadata": {
        "id": "bUMkQtjOFNLN",
        "colab": {
          "base_uri": "https://localhost:8080/"
        },
        "outputId": "1ffa823e-e90b-4f87-d542-ab6792f8440a"
      },
      "execution_count": 32,
      "outputs": [
        {
          "output_type": "stream",
          "name": "stdout",
          "text": [
            "{'C': 0.01, 'gamma': 0.01, 'kernel': 'linear'} \n",
            "\n",
            "Predicted y values:    [1 0 1 0 1 0 0 1 1 1]\n",
            "Actual y test values:  [1 0 1 0 1 0 0 1 1 1]\n"
          ]
        }
      ]
    },
    {
      "cell_type": "markdown",
      "source": [
        "### **SVM Model Accuracy Evaluation**"
      ],
      "metadata": {
        "id": "BOQtRe0VEuCy"
      }
    },
    {
      "cell_type": "code",
      "source": [
        "# plot confusion matrix\n",
        "ax=sns.heatmap(confusion_matrix(y_test, y_pred_SVM), annot=True, cmap=\"Blues\")\n",
        "ax.set(xlabel='Predicted label', ylabel='True label', title=\"Confusion Matrix\")\n",
        "print(classification_report(y_test, y_pred_SVM))\n",
        "\n",
        "# modelaccuracy score: f1-score\n",
        "F1_SVM = f1_score(y_test, y_pred_SVM, average='weighted').round(2)\n",
        "\n",
        "# print model accuracy scores\n",
        "print('f1 score:', F1_SVM)"
      ],
      "metadata": {
        "id": "tz64U4TZEuCz",
        "colab": {
          "base_uri": "https://localhost:8080/",
          "height": 646
        },
        "outputId": "48121236-1a80-4ad3-ee45-f3825afba5f4"
      },
      "execution_count": 33,
      "outputs": [
        {
          "output_type": "stream",
          "name": "stdout",
          "text": [
            "              precision    recall  f1-score   support\n",
            "\n",
            "           0       0.89      0.94      0.91        34\n",
            "           1       0.92      0.85      0.88        26\n",
            "\n",
            "    accuracy                           0.90        60\n",
            "   macro avg       0.90      0.89      0.90        60\n",
            "weighted avg       0.90      0.90      0.90        60\n",
            "\n",
            "f1 score: 0.9\n"
          ]
        },
        {
          "output_type": "display_data",
          "data": {
            "text/plain": [
              "<Figure size 640x480 with 2 Axes>"
            ],
            "image/png": "[encoded data removed]"
          },
          "metadata": {}
        }
      ]
    },
    {
      "cell_type": "markdown",
      "source": [
        "### **Importance of Each Feature in the Support Vector Machine Model**"
      ],
      "metadata": {
        "id": "JqWDC0itEuC0"
      }
    },
    {
      "cell_type": "code",
      "source": [
        "# Map feature importance values to feature names\n",
        "feature_names = X.columns\n",
        "feature_importances = pd.Series(abs(best_SVM.coef_[0]), index=feature_names)\n",
        "\n",
        "# Print the feature importance values\n",
        "print(feature_importances.sort_values(ascending=False))\n",
        "\n",
        "# Sort feature importance values in descending order\n",
        "feature_importances = feature_importances.sort_values(ascending=True)\n",
        "\n",
        "# Plot feature importance barh chart\n",
        "plt.figure(figsize=(5, 3))\n",
        "plt.barh(feature_importances.index, feature_importances.values)\n",
        "plt.xlabel('Importance')\n",
        "plt.ylabel('Feature')\n",
        "plt.title('Feature Importance')"
      ],
      "metadata": {
        "id": "ciY5OgBaEuC0",
        "colab": {
          "base_uri": "https://localhost:8080/",
          "height": 593
        },
        "outputId": "f677a978-71a3-4e51-f05c-ccdc481c1721"
      },
      "execution_count": 34,
      "outputs": [
        {
          "output_type": "stream",
          "name": "stdout",
          "text": [
            "thal        0.335386\n",
            "ca          0.280004\n",
            "cp          0.255562\n",
            "exang       0.244002\n",
            "thalach     0.176539\n",
            "oldpeak     0.141049\n",
            "sex         0.118502\n",
            "slope       0.097375\n",
            "chol        0.090480\n",
            "trestbps    0.064133\n",
            "fbs         0.053011\n",
            "restecg     0.040756\n",
            "age         0.021463\n",
            "dtype: float64\n"
          ]
        },
        {
          "output_type": "execute_result",
          "data": {
            "text/plain": [
              "Text(0.5, 1.0, 'Feature Importance')"
            ]
          },
          "metadata": {},
          "execution_count": 34
        },
        {
          "output_type": "display_data",
          "data": {
            "text/plain": [
              "<Figure size 500x300 with 1 Axes>"
            ],
            "image/png": "[encoded data removed]"
          },
          "metadata": {}
        }
      ]
    },
    {
      "cell_type": "markdown",
      "source": [
        "### **GAUSSIAN NAIVE BAYES (GNB)**"
      ],
      "metadata": {
        "id": "HDZxsaDewkJb"
      }
    },
    {
      "cell_type": "code",
      "source": [
        "# import multinomial naive bayes package \n",
        "from sklearn.naive_bayes import GaussianNB\n",
        "GNB = GaussianNB()"
      ],
      "metadata": {
        "id": "b9ZaZMNbwkJl"
      },
      "execution_count": 35,
      "outputs": []
    },
    {
      "cell_type": "markdown",
      "source": [
        "### **NB Hyperparameters Tuning With GridSearch**"
      ],
      "metadata": {
        "id": "oBTdbb2vwkJl"
      }
    },
    {
      "cell_type": "code",
      "source": [
        "# define hyparameters for NB\n",
        "hyperparameters = {}\n",
        "\n",
        "# Create the grid search object \n",
        "GS_GNB = GridSearchCV(GNB, hyperparameters, cv=5, scoring='accuracy')"
      ],
      "metadata": {
        "id": "XXg_3NoswkJl"
      },
      "execution_count": 36,
      "outputs": []
    },
    {
      "cell_type": "code",
      "source": [
        "# fitting the data\n",
        "GS_GNB.fit(X_train, y_train)\n",
        "\n",
        "# display best hyparameters for NB\n",
        "best_GNB = GS_GNB.best_estimator_\n",
        "print(best_GNB, '\\n') \n",
        "\n",
        "# predicting the test data with the best hyperparameters\n",
        "y_pred_GNB = best_GNB.predict(X_test)\n",
        "\n",
        "print('Predicted y values:   ', y_pred_GNB[0:10])\n",
        "print('Actual y test values: ', y_test[0:10].values)"
      ],
      "metadata": {
        "id": "TDZeCp9swkJl",
        "colab": {
          "base_uri": "https://localhost:8080/"
        },
        "outputId": "6260173e-b485-4f27-cf6a-1fd349748b7a"
      },
      "execution_count": 37,
      "outputs": [
        {
          "output_type": "stream",
          "name": "stdout",
          "text": [
            "GaussianNB() \n",
            "\n",
            "Predicted y values:    [1 0 1 0 1 0 0 1 1 1]\n",
            "Actual y test values:  [1 0 1 0 1 0 0 1 1 1]\n"
          ]
        }
      ]
    },
    {
      "cell_type": "code",
      "source": [
        "# plot confusion matrix\n",
        "ax=sns.heatmap(confusion_matrix(y_test, y_pred_GNB), annot=True, cmap=\"Blues\")\n",
        "ax.set(xlabel='Predicted label', ylabel='True label', title=\"Confusion Matrix\")\n",
        "print(classification_report(y_test, y_pred_GNB))\n",
        "\n",
        "# modelaccuracy score: f1-score\n",
        "F1_GNB = f1_score(y_test, y_pred_GNB, average='weighted').round(2)\n",
        "\n",
        "# print model accuracy scores\n",
        "print('f1 score:', F1_GNB)"
      ],
      "metadata": {
        "id": "1hJqoPaxwkJm",
        "colab": {
          "base_uri": "https://localhost:8080/",
          "height": 646
        },
        "outputId": "30a7a354-ebe7-4974-e4d6-15cb12192b65"
      },
      "execution_count": 38,
      "outputs": [
        {
          "output_type": "stream",
          "name": "stdout",
          "text": [
            "              precision    recall  f1-score   support\n",
            "\n",
            "           0       0.88      0.85      0.87        34\n",
            "           1       0.81      0.85      0.83        26\n",
            "\n",
            "    accuracy                           0.85        60\n",
            "   macro avg       0.85      0.85      0.85        60\n",
            "weighted avg       0.85      0.85      0.85        60\n",
            "\n",
            "f1 score: 0.85\n"
          ]
        },
        {
          "output_type": "display_data",
          "data": {
            "text/plain": [
              "<Figure size 640x480 with 2 Axes>"
            ],
            "image/png": "[encoded data removed]"
          },
          "metadata": {}
        }
      ]
    },
    {
      "cell_type": "markdown",
      "source": [
        "### **Importance of Each Feature in the Gaussian Naive Bayes Model**"
      ],
      "metadata": {
        "id": "S8tkvlTKrH1k"
      }
    },
    {
      "cell_type": "code",
      "source": [
        "# Calculate feature importance using permutation importance\n",
        "result = permutation_importance(best_GNB, X_train, y_train)\n",
        "\n",
        "# Map feature importance values to feature names\n",
        "feature_names = X.columns\n",
        "feature_importances = pd.Series(abs(result.importances_mean.round(4)), index=feature_names)\n",
        "\n",
        "# Print the feature importance values\n",
        "feature_importances = feature_importances.sort_values(ascending=True)\n",
        "\n",
        "# Sort feature importance values in descending order\n",
        "feature_importances = feature_importances.sort_values(ascending=True)\n",
        "\n",
        "# Plot feature importance bar chart\n",
        "plt.figure(figsize=(5, 3))\n",
        "plt.barh(feature_importances.index, feature_importances.values)\n",
        "plt.xlabel('Importance')\n",
        "plt.ylabel('Feature')\n",
        "plt.title('Feature Importance')"
      ],
      "metadata": {
        "colab": {
          "base_uri": "https://localhost:8080/",
          "height": 350
        },
        "id": "e5O426R84bbk",
        "outputId": "bd515b15-161a-41a8-e4d9-fcc11381a096"
      },
      "execution_count": 39,
      "outputs": [
        {
          "output_type": "execute_result",
          "data": {
            "text/plain": [
              "Text(0.5, 1.0, 'Feature Importance')"
            ]
          },
          "metadata": {},
          "execution_count": 39
        },
        {
          "output_type": "display_data",
          "data": {
            "text/plain": [
              "<Figure size 500x300 with 1 Axes>"
            ],
            "image/png": "[encoded data removed]"
          },
          "metadata": {}
        }
      ]
    },
    {
      "cell_type": "markdown",
      "source": [
        "### **ARTIFICAL NEURAL NETWORK(ANN)**"
      ],
      "metadata": {
        "id": "DR5yaiP7uDLN"
      }
    },
    {
      "cell_type": "code",
      "source": [
        "# install sckikeras library\n",
        "!pip install scikeras"
      ],
      "metadata": {
        "colab": {
          "base_uri": "https://localhost:8080/"
        },
        "id": "vrV7BG2RHOfK",
        "outputId": "b49463f2-e125-4995-b0fb-339dc46347bf"
      },
      "execution_count": 40,
      "outputs": [
        {
          "output_type": "stream",
          "name": "stdout",
          "text": [
            "Looking in indexes: https://pypi.org/simple, https://us-python.pkg.dev/colab-wheels/public/simple/\n",
            "Collecting scikeras\n",
            "  Downloading scikeras-0.10.0-py3-none-any.whl (27 kB)\n",
            "Requirement already satisfied: packaging>=0.21 in /usr/local/lib/python3.9/dist-packages (from scikeras) (23.1)\n",
            "Requirement already satisfied: scikit-learn>=1.0.0 in /usr/local/lib/python3.9/dist-packages (from scikeras) (1.2.2)\n",
            "Requirement already satisfied: numpy>=1.17.3 in /usr/local/lib/python3.9/dist-packages (from scikit-learn>=1.0.0->scikeras) (1.22.4)\n",
            "Requirement already satisfied: scipy>=1.3.2 in /usr/local/lib/python3.9/dist-packages (from scikit-learn>=1.0.0->scikeras) (1.10.1)\n",
            "Requirement already satisfied: joblib>=1.1.1 in /usr/local/lib/python3.9/dist-packages (from scikit-learn>=1.0.0->scikeras) (1.2.0)\n",
            "Requirement already satisfied: threadpoolctl>=2.0.0 in /usr/local/lib/python3.9/dist-packages (from scikit-learn>=1.0.0->scikeras) (3.1.0)\n",
            "Installing collected packages: scikeras\n",
            "Successfully installed scikeras-0.10.0\n"
          ]
        }
      ]
    },
    {
      "cell_type": "code",
      "source": [
        "# import ANN algorithm package\n",
        "from keras.models import Sequential\n",
        "from keras.layers import Dense\n",
        "from scikeras.wrappers import KerasClassifier"
      ],
      "metadata": {
        "id": "AXXFR_ciuDLY"
      },
      "execution_count": 41,
      "outputs": []
    },
    {
      "cell_type": "code",
      "source": [
        "# Define the architecture of an ANN model\n",
        "def create_model(hidden_layers=1, neurons=12):\n",
        "  model = Sequential()\n",
        "  model.add(Dense(neurons, input_dim=X_train.shape[1], activation='relu'))\n",
        "  for i in range(hidden_layers):\n",
        "    model.add(Dense(neurons, activation='relu'))\n",
        "  model.add(Dense(1, activation='sigmoid'))\n",
        "  model.compile(loss='binary_crossentropy', optimizer='adam', metrics=['accuracy'])\n",
        "  return model\n",
        "\n",
        "# Create the Keras classifier for use in grid search\n",
        "ANN = KerasClassifier(model=create_model,\n",
        "                      hidden_layers='hidden_layers', \n",
        "                      neurons='neurons',\n",
        "                      verbose=0\n",
        "                      )"
      ],
      "metadata": {
        "id": "v2zgg6zGPfcS"
      },
      "execution_count": 42,
      "outputs": []
    },
    {
      "cell_type": "markdown",
      "source": [
        "### **ANN Hyperparameters Tuning With GridSearch**"
      ],
      "metadata": {
        "id": "D38B8z6WuDLY"
      }
    },
    {
      "cell_type": "code",
      "source": [
        "# Define the grid search parameters\n",
        "hyperparameters = {'batch_size': list(range(24,32,4)),\n",
        "                   'epochs': list(range(50,100,20)),\n",
        "                   'hidden_layers': list(range(1,3,1)),\n",
        "                   'neurons': list(range(12,24,4))\n",
        "                   }\n",
        "# Create the grid search object                  \n",
        "GS_ANN = GridSearchCV(ANN, hyperparameters, scoring='accuracy', cv=5, n_jobs=-1)"
      ],
      "metadata": {
        "id": "LiKlIJ-aPuQR"
      },
      "execution_count": 43,
      "outputs": []
    },
    {
      "cell_type": "code",
      "source": [
        "# fitting the data\n",
        "GS_ANN.fit(X_train, y_train)\n",
        "\n",
        "# print the best hyperparameters\n",
        "print(GS_ANN.best_params_) \n",
        "best_ANN = GS_ANN.best_estimator_ \n",
        "\n",
        "# predicting the test data with the best hyperparameters\n",
        "y_pred_ANN = best_ANN.predict(X_test)\n",
        "\n",
        "print('Predicted y values:   ', y_pred_ANN[0:10].round(2))\n",
        "print('Actual y test values: ', y_test[0:10].values)"
      ],
      "metadata": {
        "colab": {
          "base_uri": "https://localhost:8080/"
        },
        "outputId": "6c9fed4a-c76c-4a18-aebb-48d3ac9050ee",
        "id": "dDaCg_geSwfo"
      },
      "execution_count": 44,
      "outputs": [
        {
          "output_type": "stream",
          "name": "stdout",
          "text": [
            "{'batch_size': 24, 'epochs': 50, 'hidden_layers': 2, 'neurons': 12}\n",
            "Predicted y values:    [1 0 1 0 1 0 0 1 1 1]\n",
            "Actual y test values:  [1 0 1 0 1 0 0 1 1 1]\n"
          ]
        }
      ]
    },
    {
      "cell_type": "markdown",
      "source": [
        "### **ANN Model Accuracy Evaluation**"
      ],
      "metadata": {
        "id": "zb-p1U4yuDLZ"
      }
    },
    {
      "cell_type": "code",
      "source": [
        "# plot confusion matrix\n",
        "ax=sns.heatmap(confusion_matrix(y_test, y_pred_ANN), annot=True, cmap=\"Blues\")\n",
        "ax.set(xlabel='Predicted label', ylabel='True label', title=\"Confusion Matrix\")\n",
        "print(classification_report(y_test, y_pred_ANN))\n",
        "\n",
        "# modelaccuracy score: f1-score and jaccard score\n",
        "F1_ANN = f1_score(y_test, y_pred_ANN, average='weighted').round(2)\n",
        "\n",
        "# print model accuracy scores\n",
        "print('f1 score:', F1_ANN)\n"
      ],
      "metadata": {
        "colab": {
          "base_uri": "https://localhost:8080/",
          "height": 646
        },
        "outputId": "1042c8cc-654a-4609-8786-efa8f92b4bda",
        "id": "EHD9yA-xSwfp"
      },
      "execution_count": 45,
      "outputs": [
        {
          "output_type": "stream",
          "name": "stdout",
          "text": [
            "              precision    recall  f1-score   support\n",
            "\n",
            "           0       0.90      0.82      0.86        34\n",
            "           1       0.79      0.88      0.84        26\n",
            "\n",
            "    accuracy                           0.85        60\n",
            "   macro avg       0.85      0.85      0.85        60\n",
            "weighted avg       0.86      0.85      0.85        60\n",
            "\n",
            "f1 score: 0.85\n"
          ]
        },
        {
          "output_type": "display_data",
          "data": {
            "text/plain": [
              "<Figure size 640x480 with 2 Axes>"
            ],
            "image/png": "[encoded data removed]"
          },
          "metadata": {}
        }
      ]
    },
    {
      "cell_type": "markdown",
      "source": [
        "### **Importance of Each Feature in the Artificial Neural Network Model**"
      ],
      "metadata": {
        "id": "mgulNv03_6Rp"
      }
    },
    {
      "cell_type": "code",
      "source": [
        "# Calculate feature importance using permutation importance\n",
        "result = permutation_importance(best_ANN, X_train, y_train)\n",
        "\n",
        "# Map feature importance values to feature names\n",
        "feature_names = X.columns\n",
        "feature_importances = pd.Series(abs(result.importances_mean.round(4)), index=feature_names)\n",
        "\n",
        "# Print the feature importance values\n",
        "feature_importances = feature_importances.sort_values(ascending=True)\n",
        "\n",
        "# Sort feature importance values in descending order\n",
        "feature_importances = feature_importances.sort_values(ascending=True)\n",
        "\n",
        "# Plot feature importance bar chart\n",
        "plt.figure(figsize=(5, 3))\n",
        "plt.barh(feature_importances.index, feature_importances.values)\n",
        "plt.xlabel('Importance')\n",
        "plt.ylabel('Feature')\n",
        "plt.title('Feature Importance')"
      ],
      "metadata": {
        "id": "wQ0g9XqHuDLZ",
        "colab": {
          "base_uri": "https://localhost:8080/",
          "height": 350
        },
        "outputId": "7dcaf187-34b2-486c-bf41-ccf605d8481f"
      },
      "execution_count": 46,
      "outputs": [
        {
          "output_type": "execute_result",
          "data": {
            "text/plain": [
              "Text(0.5, 1.0, 'Feature Importance')"
            ]
          },
          "metadata": {},
          "execution_count": 46
        },
        {
          "output_type": "display_data",
          "data": {
            "text/plain": [
              "<Figure size 500x300 with 1 Axes>"
            ],
            "image/png": "[encoded data removed]"
          },
          "metadata": {}
        }
      ]
    },
    {
      "cell_type": "markdown",
      "source": [
        "## **MODELS ACCURACY REPORT**"
      ],
      "metadata": {
        "id": "E17VlKr-KEF7"
      }
    },
    {
      "cell_type": "code",
      "source": [
        "# Models accuracy report\n",
        "\n",
        "metrics = [['Logistic Regression', F1_LR], \n",
        "           ['Support Vector Machine', F1_SVM], \n",
        "           ['Gaussian Naive Bayes', F1_GNB],\n",
        "           ['Random Forest', F1_RF],\n",
        "           ['Artificial Neural Network', F1_ANN]]\n",
        "\n",
        "metrics_df = pd.DataFrame(metrics, columns = ['Algorithm','F1-score']).round(2)\n",
        "metrics_df.set_index('Algorithm', inplace =  True)\n",
        "metrics_df.sort_values('F1-score', ascending=False, inplace=True)\n",
        "\n",
        "metrics_df"
      ],
      "metadata": {
        "id": "8BXz9AVmIzLU",
        "colab": {
          "base_uri": "https://localhost:8080/",
          "height": 238
        },
        "outputId": "8f8bc92e-fbbe-46aa-91ea-8c67f6fb199a"
      },
      "execution_count": 47,
      "outputs": [
        {
          "output_type": "execute_result",
          "data": {
            "text/plain": [
              "                           F1-score\n",
              "Algorithm                          \n",
              "Support Vector Machine         0.90\n",
              "Random Forest                  0.90\n",
              "Logistic Regression            0.87\n",
              "Gaussian Naive Bayes           0.85\n",
              "Artificial Neural Network      0.85"
            ],
            "text/html": [
              "\n",
              "  <div id=\"df-263f32e3-0900-4a6d-a499-ef2611b2b306\">\n",
              "    <div class=\"colab-df-container\">\n",
              "      <div>\n",
              "<style scoped>\n",
              "    .dataframe tbody tr th:only-of-type {\n",
              "        vertical-align: middle;\n",
              "    }\n",
              "\n",
              "    .dataframe tbody tr th {\n",
              "        vertical-align: top;\n",
              "    }\n",
              "\n",
              "    .dataframe thead th {\n",
              "        text-align: right;\n",
              "    }\n",
              "</style>\n",
              "<table border=\"1\" class=\"dataframe\">\n",
              "  <thead>\n",
              "    <tr style=\"text-align: right;\">\n",
              "      <th></th>\n",
              "      <th>F1-score</th>\n",
              "    </tr>\n",
              "    <tr>\n",
              "      <th>Algorithm</th>\n",
              "      <th></th>\n",
              "    </tr>\n",
              "  </thead>\n",
              "  <tbody>\n",
              "    <tr>\n",
              "      <th>Support Vector Machine</th>\n",
              "      <td>0.90</td>\n",
              "    </tr>\n",
              "    <tr>\n",
              "      <th>Random Forest</th>\n",
              "      <td>0.90</td>\n",
              "    </tr>\n",
              "    <tr>\n",
              "      <th>Logistic Regression</th>\n",
              "      <td>0.87</td>\n",
              "    </tr>\n",
              "    <tr>\n",
              "      <th>Gaussian Naive Bayes</th>\n",
              "      <td>0.85</td>\n",
              "    </tr>\n",
              "    <tr>\n",
              "      <th>Artificial Neural Network</th>\n",
              "      <td>0.85</td>\n",
              "    </tr>\n",
              "  </tbody>\n",
              "</table>\n",
              "</div>\n",
              "      <button class=\"colab-df-convert\" onclick=\"convertToInteractive('df-263f32e3-0900-4a6d-a499-ef2611b2b306')\"\n",
              "              title=\"Convert this dataframe to an interactive table.\"\n",
              "              style=\"display:none;\">\n",
              "        \n",
              "  <svg xmlns=\"http://www.w3.org/2000/svg\" height=\"24px\"viewBox=\"0 0 24 24\"\n",
              "       width=\"24px\">\n",
              "    <path d=\"M0 0h24v24H0V0z\" fill=\"none\"/>\n",
              "    <path d=\"M18.56 5.44l.94 2.06.94-2.06 2.06-.94-2.06-.94-.94-2.06-.94 2.06-2.06.94zm-11 1L8.5 8.5l.94-2.06 2.06-.94-2.06-.94L8.5 2.5l-.94 2.06-2.06.94zm10 10l.94 2.06.94-2.06 2.06-.94-2.06-.94-.94-2.06-.94 2.06-2.06.94z\"/><path d=\"M17.41 7.96l-1.37-1.37c-.4-.4-.92-.59-1.43-.59-.52 0-1.04.2-1.43.59L10.3 9.45l-7.72 7.72c-.78.78-.78 2.05 0 2.83L4 21.41c.39.39.9.59 1.41.59.51 0 1.02-.2 1.41-.59l7.78-7.78 2.81-2.81c.8-.78.8-2.07 0-2.86zM5.41 20L4 18.59l7.72-7.72 1.47 1.35L5.41 20z\"/>\n",
              "  </svg>\n",
              "      </button>\n",
              "      \n",
              "  <style>\n",
              "    .colab-df-container {\n",
              "      display:flex;\n",
              "      flex-wrap:wrap;\n",
              "      gap: 12px;\n",
              "    }\n",
              "\n",
              "    .colab-df-convert {\n",
              "      background-color: #E8F0FE;\n",
              "      border: none;\n",
              "      border-radius: 50%;\n",
              "      cursor: pointer;\n",
              "      display: none;\n",
              "      fill: #1967D2;\n",
              "      height: 32px;\n",
              "      padding: 0 0 0 0;\n",
              "      width: 32px;\n",
              "    }\n",
              "\n",
              "    .colab-df-convert:hover {\n",
              "      background-color: #E2EBFA;\n",
              "      box-shadow: 0px 1px 2px rgba(60, 64, 67, 0.3), 0px 1px 3px 1px rgba(60, 64, 67, 0.15);\n",
              "      fill: #174EA6;\n",
              "    }\n",
              "\n",
              "    [theme=dark] .colab-df-convert {\n",
              "      background-color: #3B4455;\n",
              "      fill: #D2E3FC;\n",
              "    }\n",
              "\n",
              "    [theme=dark] .colab-df-convert:hover {\n",
              "      background-color: #434B5C;\n",
              "      box-shadow: 0px 1px 3px 1px rgba(0, 0, 0, 0.15);\n",
              "      filter: drop-shadow(0px 1px 2px rgba(0, 0, 0, 0.3));\n",
              "      fill: #FFFFFF;\n",
              "    }\n",
              "  </style>\n",
              "\n",
              "      <script>\n",
              "        const buttonEl =\n",
              "          document.querySelector('#df-263f32e3-0900-4a6d-a499-ef2611b2b306 button.colab-df-convert');\n",
              "        buttonEl.style.display =\n",
              "          google.colab.kernel.accessAllowed ? 'block' : 'none';\n",
              "\n",
              "        async function convertToInteractive(key) {\n",
              "          const element = document.querySelector('#df-263f32e3-0900-4a6d-a499-ef2611b2b306');\n",
              "          const dataTable =\n",
              "            await google.colab.kernel.invokeFunction('convertToInteractive',\n",
              "                                                     [key], {});\n",
              "          if (!dataTable) return;\n",
              "\n",
              "          const docLinkHtml = 'Like what you see? Visit the ' +\n",
              "            '<a target=\"_blank\" href=https://colab.research.google.com/notebooks/data_table.ipynb>data table notebook</a>'\n",
              "            + ' to learn more about interactive tables.';\n",
              "          element.innerHTML = '';\n",
              "          dataTable['output_type'] = 'display_data';\n",
              "          await google.colab.output.renderOutput(dataTable, element);\n",
              "          const docLink = document.createElement('div');\n",
              "          docLink.innerHTML = docLinkHtml;\n",
              "          element.appendChild(docLink);\n",
              "        }\n",
              "      </script>\n",
              "    </div>\n",
              "  </div>\n",
              "  "
            ]
          },
          "metadata": {},
          "execution_count": 47
        }
      ]
    }
  ]
}