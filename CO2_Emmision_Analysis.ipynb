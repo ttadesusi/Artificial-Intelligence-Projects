{
  "nbformat": 4,
  "nbformat_minor": 0,
  "metadata": {
    "colab": {
      "provenance": [],
      "mount_file_id": "1S3vIo_Hs4KOGIFeH9qKj6RWT6xBuZ60b",
      "authorship_tag": "ABX9TyNauowg6ClOcesr1Yybq4gW",
      "include_colab_link": true
    },
    "kernelspec": {
      "name": "python3",
      "display_name": "Python 3"
    },
    "language_info": {
      "name": "python"
    }
  },
  "cells": [
    {
      "cell_type": "markdown",
      "metadata": {
        "id": "view-in-github",
        "colab_type": "text"
      },
      "source": [
        "<a href=\"https://colab.research.google.com/github/ttadesusi/CO2-Emission-Prediction-from-Light-Vehicles-in-Canada/blob/main/CO2_Emmision_Analysis.ipynb\" target=\"_parent\"><img src=\"https://colab.research.google.com/assets/colab-badge.svg\" alt=\"Open In Colab\"/></a>"
      ]
    },
    {
      "cell_type": "markdown",
      "source": [
        "# **CO2 EMMISSION ANALYSIS OF NEW LIGHT-DUTY VEHICLES IN CANADA**\n",
        "\n",
        "\n",
        "\n",
        "---"
      ],
      "metadata": {
        "id": "tukuAg9uDXp_"
      }
    },
    {
      "cell_type": "markdown",
      "source": [
        "## Understanding the Data\n",
        "*Dataset: FuelConsumption.csv*\n",
        "\n",
        "*This dataset contains model-specific fuel consumption ratings and estimated carbon dioxide emissions for new light-duty vehicles for retail sale in Canada. \n",
        "The dataset attributes are:*\n",
        "* MODELYEAR\n",
        "* MAKE \n",
        "* MODEL\n",
        "* VEHICLE CLASS\n",
        "* ENGINE SIZE\n",
        "* CYLINDERS\n",
        "* TRANSMISSION\n",
        "* FUEL CONSUMPTION in CITY(L/100 km)\n",
        "* FUEL CONSUMPTION in HWY (L/100 km)\n",
        "* FUEL CONSUMPTION COMB (L/100 km)\n",
        "* CO2 EMISSIONS (g/km) \n"
      ],
      "metadata": {
        "id": "Qi9hT5A_FBPy"
      }
    },
    {
      "cell_type": "code",
      "execution_count": 1,
      "metadata": {
        "id": "rqUBibYWCNho"
      },
      "outputs": [],
      "source": [
        "# Import packages\n",
        "\n",
        "import pandas as pd   # dataframe library\n",
        "import numpy as np    # array library\n",
        "\n",
        "import matplotlib.pyplot as plt\n",
        "import seaborn as sns\n",
        "%matplotlib inline"
      ]
    },
    {
      "cell_type": "markdown",
      "source": [
        "## Data Acquisition"
      ],
      "metadata": {
        "id": "H0K87NZBSzoh"
      }
    },
    {
      "cell_type": "code",
      "source": [
        "# Read a csv dataset from a link into pandas dataframe\n",
        "\n",
        "data_link = \"https://cf-courses-data.s3.us.cloud-object-storage.appdomain.cloud/IBMDeveloperSkillsNetwork-ML0101EN-SkillsNetwork/labs/Module%202/data/FuelConsumptionCo2.csv\"\n",
        "df = pd.read_csv(data_link)"
      ],
      "metadata": {
        "id": "qI0dVOfRJ-D9"
      },
      "execution_count": 2,
      "outputs": []
    },
    {
      "cell_type": "code",
      "source": [
        "# Show top 5 rows in the dataset\n",
        "df.head()"
      ],
      "metadata": {
        "colab": {
          "base_uri": "https://localhost:8080/",
          "height": 322
        },
        "id": "fr7TWWfELH89",
        "outputId": "d5930299-e264-42e5-b60f-fca871850db2"
      },
      "execution_count": 3,
      "outputs": [
        {
          "output_type": "execute_result",
          "data": {
            "text/plain": [
              "   MODELYEAR   MAKE       MODEL VEHICLECLASS  ENGINESIZE  CYLINDERS  \\\n",
              "0       2014  ACURA         ILX      COMPACT         2.0          4   \n",
              "1       2014  ACURA         ILX      COMPACT         2.4          4   \n",
              "2       2014  ACURA  ILX HYBRID      COMPACT         1.5          4   \n",
              "3       2014  ACURA     MDX 4WD  SUV - SMALL         3.5          6   \n",
              "4       2014  ACURA     RDX AWD  SUV - SMALL         3.5          6   \n",
              "\n",
              "  TRANSMISSION FUELTYPE  FUELCONSUMPTION_CITY  FUELCONSUMPTION_HWY  \\\n",
              "0          AS5        Z                   9.9                  6.7   \n",
              "1           M6        Z                  11.2                  7.7   \n",
              "2          AV7        Z                   6.0                  5.8   \n",
              "3          AS6        Z                  12.7                  9.1   \n",
              "4          AS6        Z                  12.1                  8.7   \n",
              "\n",
              "   FUELCONSUMPTION_COMB  FUELCONSUMPTION_COMB_MPG  CO2EMISSIONS  \n",
              "0                   8.5                        33           196  \n",
              "1                   9.6                        29           221  \n",
              "2                   5.9                        48           136  \n",
              "3                  11.1                        25           255  \n",
              "4                  10.6                        27           244  "
            ],
            "text/html": [
              "\n",
              "  <div id=\"df-826a7d4d-6e67-48ae-8192-a6c8f4d741a0\">\n",
              "    <div class=\"colab-df-container\">\n",
              "      <div>\n",
              "<style scoped>\n",
              "    .dataframe tbody tr th:only-of-type {\n",
              "        vertical-align: middle;\n",
              "    }\n",
              "\n",
              "    .dataframe tbody tr th {\n",
              "        vertical-align: top;\n",
              "    }\n",
              "\n",
              "    .dataframe thead th {\n",
              "        text-align: right;\n",
              "    }\n",
              "</style>\n",
              "<table border=\"1\" class=\"dataframe\">\n",
              "  <thead>\n",
              "    <tr style=\"text-align: right;\">\n",
              "      <th></th>\n",
              "      <th>MODELYEAR</th>\n",
              "      <th>MAKE</th>\n",
              "      <th>MODEL</th>\n",
              "      <th>VEHICLECLASS</th>\n",
              "      <th>ENGINESIZE</th>\n",
              "      <th>CYLINDERS</th>\n",
              "      <th>TRANSMISSION</th>\n",
              "      <th>FUELTYPE</th>\n",
              "      <th>FUELCONSUMPTION_CITY</th>\n",
              "      <th>FUELCONSUMPTION_HWY</th>\n",
              "      <th>FUELCONSUMPTION_COMB</th>\n",
              "      <th>FUELCONSUMPTION_COMB_MPG</th>\n",
              "      <th>CO2EMISSIONS</th>\n",
              "    </tr>\n",
              "  </thead>\n",
              "  <tbody>\n",
              "    <tr>\n",
              "      <th>0</th>\n",
              "      <td>2014</td>\n",
              "      <td>ACURA</td>\n",
              "      <td>ILX</td>\n",
              "      <td>COMPACT</td>\n",
              "      <td>2.0</td>\n",
              "      <td>4</td>\n",
              "      <td>AS5</td>\n",
              "      <td>Z</td>\n",
              "      <td>9.9</td>\n",
              "      <td>6.7</td>\n",
              "      <td>8.5</td>\n",
              "      <td>33</td>\n",
              "      <td>196</td>\n",
              "    </tr>\n",
              "    <tr>\n",
              "      <th>1</th>\n",
              "      <td>2014</td>\n",
              "      <td>ACURA</td>\n",
              "      <td>ILX</td>\n",
              "      <td>COMPACT</td>\n",
              "      <td>2.4</td>\n",
              "      <td>4</td>\n",
              "      <td>M6</td>\n",
              "      <td>Z</td>\n",
              "      <td>11.2</td>\n",
              "      <td>7.7</td>\n",
              "      <td>9.6</td>\n",
              "      <td>29</td>\n",
              "      <td>221</td>\n",
              "    </tr>\n",
              "    <tr>\n",
              "      <th>2</th>\n",
              "      <td>2014</td>\n",
              "      <td>ACURA</td>\n",
              "      <td>ILX HYBRID</td>\n",
              "      <td>COMPACT</td>\n",
              "      <td>1.5</td>\n",
              "      <td>4</td>\n",
              "      <td>AV7</td>\n",
              "      <td>Z</td>\n",
              "      <td>6.0</td>\n",
              "      <td>5.8</td>\n",
              "      <td>5.9</td>\n",
              "      <td>48</td>\n",
              "      <td>136</td>\n",
              "    </tr>\n",
              "    <tr>\n",
              "      <th>3</th>\n",
              "      <td>2014</td>\n",
              "      <td>ACURA</td>\n",
              "      <td>MDX 4WD</td>\n",
              "      <td>SUV - SMALL</td>\n",
              "      <td>3.5</td>\n",
              "      <td>6</td>\n",
              "      <td>AS6</td>\n",
              "      <td>Z</td>\n",
              "      <td>12.7</td>\n",
              "      <td>9.1</td>\n",
              "      <td>11.1</td>\n",
              "      <td>25</td>\n",
              "      <td>255</td>\n",
              "    </tr>\n",
              "    <tr>\n",
              "      <th>4</th>\n",
              "      <td>2014</td>\n",
              "      <td>ACURA</td>\n",
              "      <td>RDX AWD</td>\n",
              "      <td>SUV - SMALL</td>\n",
              "      <td>3.5</td>\n",
              "      <td>6</td>\n",
              "      <td>AS6</td>\n",
              "      <td>Z</td>\n",
              "      <td>12.1</td>\n",
              "      <td>8.7</td>\n",
              "      <td>10.6</td>\n",
              "      <td>27</td>\n",
              "      <td>244</td>\n",
              "    </tr>\n",
              "  </tbody>\n",
              "</table>\n",
              "</div>\n",
              "      <button class=\"colab-df-convert\" onclick=\"convertToInteractive('df-826a7d4d-6e67-48ae-8192-a6c8f4d741a0')\"\n",
              "              title=\"Convert this dataframe to an interactive table.\"\n",
              "              style=\"display:none;\">\n",
              "        \n",
              "  <svg xmlns=\"http://www.w3.org/2000/svg\" height=\"24px\"viewBox=\"0 0 24 24\"\n",
              "       width=\"24px\">\n",
              "    <path d=\"M0 0h24v24H0V0z\" fill=\"none\"/>\n",
              "    <path d=\"M18.56 5.44l.94 2.06.94-2.06 2.06-.94-2.06-.94-.94-2.06-.94 2.06-2.06.94zm-11 1L8.5 8.5l.94-2.06 2.06-.94-2.06-.94L8.5 2.5l-.94 2.06-2.06.94zm10 10l.94 2.06.94-2.06 2.06-.94-2.06-.94-.94-2.06-.94 2.06-2.06.94z\"/><path d=\"M17.41 7.96l-1.37-1.37c-.4-.4-.92-.59-1.43-.59-.52 0-1.04.2-1.43.59L10.3 9.45l-7.72 7.72c-.78.78-.78 2.05 0 2.83L4 21.41c.39.39.9.59 1.41.59.51 0 1.02-.2 1.41-.59l7.78-7.78 2.81-2.81c.8-.78.8-2.07 0-2.86zM5.41 20L4 18.59l7.72-7.72 1.47 1.35L5.41 20z\"/>\n",
              "  </svg>\n",
              "      </button>\n",
              "      \n",
              "  <style>\n",
              "    .colab-df-container {\n",
              "      display:flex;\n",
              "      flex-wrap:wrap;\n",
              "      gap: 12px;\n",
              "    }\n",
              "\n",
              "    .colab-df-convert {\n",
              "      background-color: #E8F0FE;\n",
              "      border: none;\n",
              "      border-radius: 50%;\n",
              "      cursor: pointer;\n",
              "      display: none;\n",
              "      fill: #1967D2;\n",
              "      height: 32px;\n",
              "      padding: 0 0 0 0;\n",
              "      width: 32px;\n",
              "    }\n",
              "\n",
              "    .colab-df-convert:hover {\n",
              "      background-color: #E2EBFA;\n",
              "      box-shadow: 0px 1px 2px rgba(60, 64, 67, 0.3), 0px 1px 3px 1px rgba(60, 64, 67, 0.15);\n",
              "      fill: #174EA6;\n",
              "    }\n",
              "\n",
              "    [theme=dark] .colab-df-convert {\n",
              "      background-color: #3B4455;\n",
              "      fill: #D2E3FC;\n",
              "    }\n",
              "\n",
              "    [theme=dark] .colab-df-convert:hover {\n",
              "      background-color: #434B5C;\n",
              "      box-shadow: 0px 1px 3px 1px rgba(0, 0, 0, 0.15);\n",
              "      filter: drop-shadow(0px 1px 2px rgba(0, 0, 0, 0.3));\n",
              "      fill: #FFFFFF;\n",
              "    }\n",
              "  </style>\n",
              "\n",
              "      <script>\n",
              "        const buttonEl =\n",
              "          document.querySelector('#df-826a7d4d-6e67-48ae-8192-a6c8f4d741a0 button.colab-df-convert');\n",
              "        buttonEl.style.display =\n",
              "          google.colab.kernel.accessAllowed ? 'block' : 'none';\n",
              "\n",
              "        async function convertToInteractive(key) {\n",
              "          const element = document.querySelector('#df-826a7d4d-6e67-48ae-8192-a6c8f4d741a0');\n",
              "          const dataTable =\n",
              "            await google.colab.kernel.invokeFunction('convertToInteractive',\n",
              "                                                     [key], {});\n",
              "          if (!dataTable) return;\n",
              "\n",
              "          const docLinkHtml = 'Like what you see? Visit the ' +\n",
              "            '<a target=\"_blank\" href=https://colab.research.google.com/notebooks/data_table.ipynb>data table notebook</a>'\n",
              "            + ' to learn more about interactive tables.';\n",
              "          element.innerHTML = '';\n",
              "          dataTable['output_type'] = 'display_data';\n",
              "          await google.colab.output.renderOutput(dataTable, element);\n",
              "          const docLink = document.createElement('div');\n",
              "          docLink.innerHTML = docLinkHtml;\n",
              "          element.appendChild(docLink);\n",
              "        }\n",
              "      </script>\n",
              "    </div>\n",
              "  </div>\n",
              "  "
            ]
          },
          "metadata": {},
          "execution_count": 3
        }
      ]
    },
    {
      "cell_type": "markdown",
      "source": [
        "## Descriptive Summary"
      ],
      "metadata": {
        "id": "PxprfRLYTSjS"
      }
    },
    {
      "cell_type": "code",
      "source": [
        "# summary statistics\n",
        "\n",
        "df.describe().transpose()"
      ],
      "metadata": {
        "colab": {
          "base_uri": "https://localhost:8080/",
          "height": 300
        },
        "id": "2iPBnkRqSl_N",
        "outputId": "ab882b0f-ac86-493b-d5b6-e3133fcc4991"
      },
      "execution_count": 4,
      "outputs": [
        {
          "output_type": "execute_result",
          "data": {
            "text/plain": [
              "                           count         mean        std     min      25%  \\\n",
              "MODELYEAR                 1067.0  2014.000000   0.000000  2014.0  2014.00   \n",
              "ENGINESIZE                1067.0     3.346298   1.415895     1.0     2.00   \n",
              "CYLINDERS                 1067.0     5.794752   1.797447     3.0     4.00   \n",
              "FUELCONSUMPTION_CITY      1067.0    13.296532   4.101253     4.6    10.25   \n",
              "FUELCONSUMPTION_HWY       1067.0     9.474602   2.794510     4.9     7.50   \n",
              "FUELCONSUMPTION_COMB      1067.0    11.580881   3.485595     4.7     9.00   \n",
              "FUELCONSUMPTION_COMB_MPG  1067.0    26.441425   7.468702    11.0    21.00   \n",
              "CO2EMISSIONS              1067.0   256.228679  63.372304   108.0   207.00   \n",
              "\n",
              "                             50%      75%     max  \n",
              "MODELYEAR                 2014.0  2014.00  2014.0  \n",
              "ENGINESIZE                   3.4     4.30     8.4  \n",
              "CYLINDERS                    6.0     8.00    12.0  \n",
              "FUELCONSUMPTION_CITY        12.6    15.55    30.2  \n",
              "FUELCONSUMPTION_HWY          8.8    10.85    20.5  \n",
              "FUELCONSUMPTION_COMB        10.9    13.35    25.8  \n",
              "FUELCONSUMPTION_COMB_MPG    26.0    31.00    60.0  \n",
              "CO2EMISSIONS               251.0   294.00   488.0  "
            ],
            "text/html": [
              "\n",
              "  <div id=\"df-27bea9a8-5562-4c95-a304-299c3ad91964\">\n",
              "    <div class=\"colab-df-container\">\n",
              "      <div>\n",
              "<style scoped>\n",
              "    .dataframe tbody tr th:only-of-type {\n",
              "        vertical-align: middle;\n",
              "    }\n",
              "\n",
              "    .dataframe tbody tr th {\n",
              "        vertical-align: top;\n",
              "    }\n",
              "\n",
              "    .dataframe thead th {\n",
              "        text-align: right;\n",
              "    }\n",
              "</style>\n",
              "<table border=\"1\" class=\"dataframe\">\n",
              "  <thead>\n",
              "    <tr style=\"text-align: right;\">\n",
              "      <th></th>\n",
              "      <th>count</th>\n",
              "      <th>mean</th>\n",
              "      <th>std</th>\n",
              "      <th>min</th>\n",
              "      <th>25%</th>\n",
              "      <th>50%</th>\n",
              "      <th>75%</th>\n",
              "      <th>max</th>\n",
              "    </tr>\n",
              "  </thead>\n",
              "  <tbody>\n",
              "    <tr>\n",
              "      <th>MODELYEAR</th>\n",
              "      <td>1067.0</td>\n",
              "      <td>2014.000000</td>\n",
              "      <td>0.000000</td>\n",
              "      <td>2014.0</td>\n",
              "      <td>2014.00</td>\n",
              "      <td>2014.0</td>\n",
              "      <td>2014.00</td>\n",
              "      <td>2014.0</td>\n",
              "    </tr>\n",
              "    <tr>\n",
              "      <th>ENGINESIZE</th>\n",
              "      <td>1067.0</td>\n",
              "      <td>3.346298</td>\n",
              "      <td>1.415895</td>\n",
              "      <td>1.0</td>\n",
              "      <td>2.00</td>\n",
              "      <td>3.4</td>\n",
              "      <td>4.30</td>\n",
              "      <td>8.4</td>\n",
              "    </tr>\n",
              "    <tr>\n",
              "      <th>CYLINDERS</th>\n",
              "      <td>1067.0</td>\n",
              "      <td>5.794752</td>\n",
              "      <td>1.797447</td>\n",
              "      <td>3.0</td>\n",
              "      <td>4.00</td>\n",
              "      <td>6.0</td>\n",
              "      <td>8.00</td>\n",
              "      <td>12.0</td>\n",
              "    </tr>\n",
              "    <tr>\n",
              "      <th>FUELCONSUMPTION_CITY</th>\n",
              "      <td>1067.0</td>\n",
              "      <td>13.296532</td>\n",
              "      <td>4.101253</td>\n",
              "      <td>4.6</td>\n",
              "      <td>10.25</td>\n",
              "      <td>12.6</td>\n",
              "      <td>15.55</td>\n",
              "      <td>30.2</td>\n",
              "    </tr>\n",
              "    <tr>\n",
              "      <th>FUELCONSUMPTION_HWY</th>\n",
              "      <td>1067.0</td>\n",
              "      <td>9.474602</td>\n",
              "      <td>2.794510</td>\n",
              "      <td>4.9</td>\n",
              "      <td>7.50</td>\n",
              "      <td>8.8</td>\n",
              "      <td>10.85</td>\n",
              "      <td>20.5</td>\n",
              "    </tr>\n",
              "    <tr>\n",
              "      <th>FUELCONSUMPTION_COMB</th>\n",
              "      <td>1067.0</td>\n",
              "      <td>11.580881</td>\n",
              "      <td>3.485595</td>\n",
              "      <td>4.7</td>\n",
              "      <td>9.00</td>\n",
              "      <td>10.9</td>\n",
              "      <td>13.35</td>\n",
              "      <td>25.8</td>\n",
              "    </tr>\n",
              "    <tr>\n",
              "      <th>FUELCONSUMPTION_COMB_MPG</th>\n",
              "      <td>1067.0</td>\n",
              "      <td>26.441425</td>\n",
              "      <td>7.468702</td>\n",
              "      <td>11.0</td>\n",
              "      <td>21.00</td>\n",
              "      <td>26.0</td>\n",
              "      <td>31.00</td>\n",
              "      <td>60.0</td>\n",
              "    </tr>\n",
              "    <tr>\n",
              "      <th>CO2EMISSIONS</th>\n",
              "      <td>1067.0</td>\n",
              "      <td>256.228679</td>\n",
              "      <td>63.372304</td>\n",
              "      <td>108.0</td>\n",
              "      <td>207.00</td>\n",
              "      <td>251.0</td>\n",
              "      <td>294.00</td>\n",
              "      <td>488.0</td>\n",
              "    </tr>\n",
              "  </tbody>\n",
              "</table>\n",
              "</div>\n",
              "      <button class=\"colab-df-convert\" onclick=\"convertToInteractive('df-27bea9a8-5562-4c95-a304-299c3ad91964')\"\n",
              "              title=\"Convert this dataframe to an interactive table.\"\n",
              "              style=\"display:none;\">\n",
              "        \n",
              "  <svg xmlns=\"http://www.w3.org/2000/svg\" height=\"24px\"viewBox=\"0 0 24 24\"\n",
              "       width=\"24px\">\n",
              "    <path d=\"M0 0h24v24H0V0z\" fill=\"none\"/>\n",
              "    <path d=\"M18.56 5.44l.94 2.06.94-2.06 2.06-.94-2.06-.94-.94-2.06-.94 2.06-2.06.94zm-11 1L8.5 8.5l.94-2.06 2.06-.94-2.06-.94L8.5 2.5l-.94 2.06-2.06.94zm10 10l.94 2.06.94-2.06 2.06-.94-2.06-.94-.94-2.06-.94 2.06-2.06.94z\"/><path d=\"M17.41 7.96l-1.37-1.37c-.4-.4-.92-.59-1.43-.59-.52 0-1.04.2-1.43.59L10.3 9.45l-7.72 7.72c-.78.78-.78 2.05 0 2.83L4 21.41c.39.39.9.59 1.41.59.51 0 1.02-.2 1.41-.59l7.78-7.78 2.81-2.81c.8-.78.8-2.07 0-2.86zM5.41 20L4 18.59l7.72-7.72 1.47 1.35L5.41 20z\"/>\n",
              "  </svg>\n",
              "      </button>\n",
              "      \n",
              "  <style>\n",
              "    .colab-df-container {\n",
              "      display:flex;\n",
              "      flex-wrap:wrap;\n",
              "      gap: 12px;\n",
              "    }\n",
              "\n",
              "    .colab-df-convert {\n",
              "      background-color: #E8F0FE;\n",
              "      border: none;\n",
              "      border-radius: 50%;\n",
              "      cursor: pointer;\n",
              "      display: none;\n",
              "      fill: #1967D2;\n",
              "      height: 32px;\n",
              "      padding: 0 0 0 0;\n",
              "      width: 32px;\n",
              "    }\n",
              "\n",
              "    .colab-df-convert:hover {\n",
              "      background-color: #E2EBFA;\n",
              "      box-shadow: 0px 1px 2px rgba(60, 64, 67, 0.3), 0px 1px 3px 1px rgba(60, 64, 67, 0.15);\n",
              "      fill: #174EA6;\n",
              "    }\n",
              "\n",
              "    [theme=dark] .colab-df-convert {\n",
              "      background-color: #3B4455;\n",
              "      fill: #D2E3FC;\n",
              "    }\n",
              "\n",
              "    [theme=dark] .colab-df-convert:hover {\n",
              "      background-color: #434B5C;\n",
              "      box-shadow: 0px 1px 3px 1px rgba(0, 0, 0, 0.15);\n",
              "      filter: drop-shadow(0px 1px 2px rgba(0, 0, 0, 0.3));\n",
              "      fill: #FFFFFF;\n",
              "    }\n",
              "  </style>\n",
              "\n",
              "      <script>\n",
              "        const buttonEl =\n",
              "          document.querySelector('#df-27bea9a8-5562-4c95-a304-299c3ad91964 button.colab-df-convert');\n",
              "        buttonEl.style.display =\n",
              "          google.colab.kernel.accessAllowed ? 'block' : 'none';\n",
              "\n",
              "        async function convertToInteractive(key) {\n",
              "          const element = document.querySelector('#df-27bea9a8-5562-4c95-a304-299c3ad91964');\n",
              "          const dataTable =\n",
              "            await google.colab.kernel.invokeFunction('convertToInteractive',\n",
              "                                                     [key], {});\n",
              "          if (!dataTable) return;\n",
              "\n",
              "          const docLinkHtml = 'Like what you see? Visit the ' +\n",
              "            '<a target=\"_blank\" href=https://colab.research.google.com/notebooks/data_table.ipynb>data table notebook</a>'\n",
              "            + ' to learn more about interactive tables.';\n",
              "          element.innerHTML = '';\n",
              "          dataTable['output_type'] = 'display_data';\n",
              "          await google.colab.output.renderOutput(dataTable, element);\n",
              "          const docLink = document.createElement('div');\n",
              "          docLink.innerHTML = docLinkHtml;\n",
              "          element.appendChild(docLink);\n",
              "        }\n",
              "      </script>\n",
              "    </div>\n",
              "  </div>\n",
              "  "
            ]
          },
          "metadata": {},
          "execution_count": 4
        }
      ]
    },
    {
      "cell_type": "code",
      "source": [
        "print(df.info(), \"\\n\")  # display attributes (column) data type and number of non-empty cells\n",
        "print(\"Number of rows (observations) is\", df.shape[0], \"and\", \"Number of columns (attributes)\" , \"df.shape[1]\")  # Number of rows and column\n"
      ],
      "metadata": {
        "colab": {
          "base_uri": "https://localhost:8080/"
        },
        "id": "Si7WQyILU1L4",
        "outputId": "7efef0f8-8e50-4202-8dd6-0269f9d21390"
      },
      "execution_count": 5,
      "outputs": [
        {
          "output_type": "stream",
          "name": "stdout",
          "text": [
            "<class 'pandas.core.frame.DataFrame'>\n",
            "RangeIndex: 1067 entries, 0 to 1066\n",
            "Data columns (total 13 columns):\n",
            " #   Column                    Non-Null Count  Dtype  \n",
            "---  ------                    --------------  -----  \n",
            " 0   MODELYEAR                 1067 non-null   int64  \n",
            " 1   MAKE                      1067 non-null   object \n",
            " 2   MODEL                     1067 non-null   object \n",
            " 3   VEHICLECLASS              1067 non-null   object \n",
            " 4   ENGINESIZE                1067 non-null   float64\n",
            " 5   CYLINDERS                 1067 non-null   int64  \n",
            " 6   TRANSMISSION              1067 non-null   object \n",
            " 7   FUELTYPE                  1067 non-null   object \n",
            " 8   FUELCONSUMPTION_CITY      1067 non-null   float64\n",
            " 9   FUELCONSUMPTION_HWY       1067 non-null   float64\n",
            " 10  FUELCONSUMPTION_COMB      1067 non-null   float64\n",
            " 11  FUELCONSUMPTION_COMB_MPG  1067 non-null   int64  \n",
            " 12  CO2EMISSIONS              1067 non-null   int64  \n",
            "dtypes: float64(4), int64(4), object(5)\n",
            "memory usage: 108.5+ KB\n",
            "None \n",
            "\n",
            "Number of rows (observations) is 1067 and Number of columns (attributes) df.shape[1]\n"
          ]
        }
      ]
    },
    {
      "cell_type": "markdown",
      "source": [
        "### Skewness and Kurtosis\n",
        "\n",
        "*Skewness is a measure of the asymmetry of a data distribution, while kurtosis is a measure of the peakedness of a data distribution. Both measures can help identify underlying patterns in data that can indicate potential outliers or errors in data collection.*"
      ],
      "metadata": {
        "id": "dBSTK8NTexfI"
      }
    },
    {
      "cell_type": "code",
      "source": [
        "print(df.skew(), \"\\n\") #skewness\n",
        "print(df.kurtosis())  #kurtosis"
      ],
      "metadata": {
        "colab": {
          "base_uri": "https://localhost:8080/"
        },
        "id": "DXu0BtqfWjfh",
        "outputId": "bdb20505-82d9-465c-8ff4-7aadb241f307"
      },
      "execution_count": 6,
      "outputs": [
        {
          "output_type": "stream",
          "name": "stdout",
          "text": [
            "MODELYEAR                   0.000000\n",
            "ENGINESIZE                  0.567842\n",
            "CYLINDERS                   0.795754\n",
            "FUELCONSUMPTION_CITY        0.900629\n",
            "FUELCONSUMPTION_HWY         1.263859\n",
            "FUELCONSUMPTION_COMB        1.032592\n",
            "FUELCONSUMPTION_COMB_MPG    0.585409\n",
            "CO2EMISSIONS                0.519515\n",
            "dtype: float64 \n",
            "\n",
            "MODELYEAR                   0.000000\n",
            "ENGINESIZE                 -0.538022\n",
            "CYLINDERS                   0.478801\n",
            "FUELCONSUMPTION_CITY        0.951412\n",
            "FUELCONSUMPTION_HWY         1.889409\n",
            "FUELCONSUMPTION_COMB        1.230031\n",
            "FUELCONSUMPTION_COMB_MPG    0.747321\n",
            "CO2EMISSIONS               -0.109553\n",
            "dtype: float64\n"
          ]
        },
        {
          "output_type": "stream",
          "name": "stderr",
          "text": [
            "<ipython-input-6-71227260a831>:1: FutureWarning: Dropping of nuisance columns in DataFrame reductions (with 'numeric_only=None') is deprecated; in a future version this will raise TypeError.  Select only valid columns before calling the reduction.\n",
            "  print(df.skew(), \"\\n\") #skewness\n",
            "<ipython-input-6-71227260a831>:2: FutureWarning: Dropping of nuisance columns in DataFrame reductions (with 'numeric_only=None') is deprecated; in a future version this will raise TypeError.  Select only valid columns before calling the reduction.\n",
            "  print(df.kurtosis())  #kurtosis\n"
          ]
        }
      ]
    },
    {
      "cell_type": "markdown",
      "source": [],
      "metadata": {
        "id": "61IoL2PZLZ2k"
      }
    },
    {
      "cell_type": "markdown",
      "source": [
        "## Defining Independent (predictors) and Dependent (target or response) Variables\n",
        "\n",
        "*The dataset contains 8 columns (attributes). CO2EMISSIONS column is the target variable (Y) while other columns will be the independent variables (X). MODELYEAR column will be removed from predictor variables because it has only 1 distinct data value (2014). FUELCONSUMPTION_CITY and FUELCONSUMPTION_HWY will also be removed from the predictor variables. This is because FUELCONSUMPTION_COMB or FUELCONSUMPTION_COMB_MPG represents the average of the two variables.*"
      ],
      "metadata": {
        "id": "oYKYsxCqLaBW"
      }
    },
    {
      "cell_type": "code",
      "source": [
        "# Histogram plot to check the distribution of the data\n",
        "X = df[['ENGINESIZE','CYLINDERS','TRANSMISSION','FUELTYPE','FUELCONSUMPTION_COMB']]\n",
        "X.hist(figsize=(10,6), grid = False)"
      ],
      "metadata": {
        "colab": {
          "base_uri": "https://localhost:8080/",
          "height": 459
        },
        "id": "d40w5bOam9rL",
        "outputId": "917d56ca-fdfb-4559-9534-afc406b1ddb3"
      },
      "execution_count": 7,
      "outputs": [
        {
          "output_type": "execute_result",
          "data": {
            "text/plain": [
              "array([[<Axes: title={'center': 'ENGINESIZE'}>,\n",
              "        <Axes: title={'center': 'CYLINDERS'}>],\n",
              "       [<Axes: title={'center': 'FUELCONSUMPTION_COMB'}>, <Axes: >]],\n",
              "      dtype=object)"
            ]
          },
          "metadata": {},
          "execution_count": 7
        },
        {
          "output_type": "display_data",
          "data": {
            "text/plain": [
              "<Figure size 720x432 with 4 Axes>"
            ],
            "image/png": "[encoded data removed]"
          },
          "metadata": {
            "needs_background": "light"
          }
        }
      ]
    },
    {
      "cell_type": "code",
      "source": [
        "X.boxplot(figsize=(10,6), vert = False, grid = False)"
      ],
      "metadata": {
        "id": "9FpXqHlr0tYl",
        "colab": {
          "base_uri": "https://localhost:8080/",
          "height": 391
        },
        "outputId": "eef43dea-6de0-455e-f12a-48309d5ffeb7"
      },
      "execution_count": 8,
      "outputs": [
        {
          "output_type": "execute_result",
          "data": {
            "text/plain": [
              "<Axes: >"
            ]
          },
          "metadata": {},
          "execution_count": 8
        },
        {
          "output_type": "display_data",
          "data": {
            "text/plain": [
              "<Figure size 720x432 with 1 Axes>"
            ],
            "image/png": "[encoded data removed]"
          },
          "metadata": {
            "needs_background": "light"
          }
        }
      ]
    },
    {
      "cell_type": "markdown",
      "source": [
        "## Correlation Analysis\n",
        "\n",
        "*Correlation analysis is a statistical technique used to determine the strength and direction of the relationship between two or more variables. It is a widely used technique in business to identify and quantify relationships between different business metrics.*\n",
        "\n"
      ],
      "metadata": {
        "id": "vf82EGuI-Isc"
      }
    },
    {
      "cell_type": "markdown",
      "source": [
        "### Correlation between Continuous Variables.\n",
        "\n",
        "*Target variable (CO2EMISSIONS) will be correlated with independent variables with continuous data values e.g ENGINESIZE and FUELCONSUMPTION_COMB. The appropriate correlation technique for this type of data is pearson correlation.*\n",
        "\n"
      ],
      "metadata": {
        "id": "WogGTTRiWJNa"
      }
    },
    {
      "cell_type": "code",
      "source": [
        "# Import Pearson correlation package\n",
        "\n",
        "from scipy.stats import pearsonr"
      ],
      "metadata": {
        "id": "55G2O7-O5SKP"
      },
      "execution_count": 9,
      "outputs": []
    },
    {
      "cell_type": "code",
      "source": [
        "pearson_corr1, pearson_p1 = pearsonr(df[\"ENGINESIZE\"], df['CO2EMISSIONS'])\n",
        "pearson_corr2, pearson_p2 = pearsonr(df[\"FUELCONSUMPTION_COMB\"], df['CO2EMISSIONS'])\n",
        "\n",
        "print(\"Pearson correlation coeffient for CO2 emission and Engine size is\", pearson_corr1.round(2), \"and the p-value is\", pearson_p1)\n",
        "print(\"Pearson correlation coeffient for CO2 emission and fuel consumption is\", pearson_corr2.round(2), \"and the p-value is\", pearson_p2)"
      ],
      "metadata": {
        "id": "eqmncm6dY-Bd",
        "colab": {
          "base_uri": "https://localhost:8080/"
        },
        "outputId": "9b73b011-db49-455a-c98c-88a810854edb"
      },
      "execution_count": 10,
      "outputs": [
        {
          "output_type": "stream",
          "name": "stdout",
          "text": [
            "Pearson correlation coeffient for CO2 emission and Engine size is 0.87 and the p-value is 0.0\n",
            "Pearson correlation coeffient for CO2 emission and fuel consumption is 0.89 and the p-value is 0.0\n"
          ]
        }
      ]
    },
    {
      "cell_type": "code",
      "source": [
        "# Displaying relatioship between C02 emission and Engine size\n",
        "\n",
        "sns.scatterplot(x='ENGINESIZE', y='CO2EMISSIONS', data=df)"
      ],
      "metadata": {
        "id": "B-L1ne0udduA",
        "colab": {
          "base_uri": "https://localhost:8080/",
          "height": 297
        },
        "outputId": "6e1a412a-e404-4e15-ba1a-d569ae1e6bb1"
      },
      "execution_count": 11,
      "outputs": [
        {
          "output_type": "execute_result",
          "data": {
            "text/plain": [
              "<Axes: xlabel='ENGINESIZE', ylabel='CO2EMISSIONS'>"
            ]
          },
          "metadata": {},
          "execution_count": 11
        },
        {
          "output_type": "display_data",
          "data": {
            "text/plain": [
              "<Figure size 432x288 with 1 Axes>"
            ],
            "image/png": "[encoded data removed]"
          },
          "metadata": {
            "needs_background": "light"
          }
        }
      ]
    },
    {
      "cell_type": "code",
      "source": [
        "# Displaying relatioship between C02 emission and Fuel consumption\n",
        "\n",
        "sns.scatterplot(x='FUELCONSUMPTION_COMB', y='CO2EMISSIONS', data=df)"
      ],
      "metadata": {
        "id": "iEMCHYa4dv0I",
        "colab": {
          "base_uri": "https://localhost:8080/",
          "height": 298
        },
        "outputId": "dc25d534-b94a-4d5b-b95b-198a11e9ab23"
      },
      "execution_count": 12,
      "outputs": [
        {
          "output_type": "execute_result",
          "data": {
            "text/plain": [
              "<Axes: xlabel='FUELCONSUMPTION_COMB', ylabel='CO2EMISSIONS'>"
            ]
          },
          "metadata": {},
          "execution_count": 12
        },
        {
          "output_type": "display_data",
          "data": {
            "text/plain": [
              "<Figure size 432x288 with 1 Axes>"
            ],
            "image/png": "[encoded data removed]"
          },
          "metadata": {
            "needs_background": "light"
          }
        }
      ]
    },
    {
      "cell_type": "markdown",
      "source": [
        "### Correlation between Ordinal and Continuous Variables.\n",
        "\n",
        "*Target variable (CO2EMISSIONS) will be correlated with an independent variable with ordinal data values e.g Cylinders. The appropriate correlation technique for this type of data is spearman or kendall correlation.*\n",
        "\n"
      ],
      "metadata": {
        "id": "9b1N0fRdjrp0"
      }
    },
    {
      "cell_type": "code",
      "source": [
        "# Importing spearman and kendalls correlation package\n",
        "\n",
        "from scipy.stats import spearmanr, kendalltau"
      ],
      "metadata": {
        "id": "pIfysRTXjbaZ"
      },
      "execution_count": 13,
      "outputs": []
    },
    {
      "cell_type": "code",
      "source": [
        "spearman_corr, spearman_p = spearmanr(df[\"CYLINDERS\"], df[\"CO2EMISSIONS\"])\n",
        "kendall_corr, kendall_p = kendalltau(df[\"CYLINDERS\"], df[\"CO2EMISSIONS\"])\n",
        "\n",
        "print(\"Spearman correlation coeffient for CO2 emission and cylinder is\", spearman_corr.round(2), \"and the p-value is\", spearman_p)\n",
        "print(\"Kendall correlation coeffient for CO2 emission and cylinder is\", kendall_corr.round(2), \"and the p-value is\", kendall_p)"
      ],
      "metadata": {
        "id": "lWIuQRIPnG7o",
        "colab": {
          "base_uri": "https://localhost:8080/"
        },
        "outputId": "2013c7f2-1247-4530-b2a7-c674325744ab"
      },
      "execution_count": 14,
      "outputs": [
        {
          "output_type": "stream",
          "name": "stdout",
          "text": [
            "Spearman correlation coeffient for CO2 emission and cylinder is 0.88 and the p-value is 0.0\n",
            "Kendall correlation coeffient for CO2 emission and cylinder is 0.75 and the p-value is 7.636791331332124e-222\n"
          ]
        }
      ]
    },
    {
      "cell_type": "code",
      "source": [
        "# Displaying relatioship between C02 emission and Fuel consumption\n",
        "\n",
        "sns.scatterplot(x='CYLINDERS', y='CO2EMISSIONS', data=df)"
      ],
      "metadata": {
        "id": "l2ky99-wouhD",
        "colab": {
          "base_uri": "https://localhost:8080/",
          "height": 297
        },
        "outputId": "aa02b02c-c0bf-4237-abce-2f9f15c3b907"
      },
      "execution_count": 15,
      "outputs": [
        {
          "output_type": "execute_result",
          "data": {
            "text/plain": [
              "<Axes: xlabel='CYLINDERS', ylabel='CO2EMISSIONS'>"
            ]
          },
          "metadata": {},
          "execution_count": 15
        },
        {
          "output_type": "display_data",
          "data": {
            "text/plain": [
              "<Figure size 432x288 with 1 Axes>"
            ],
            "image/png": "[encoded data removed]"
          },
          "metadata": {
            "needs_background": "light"
          }
        }
      ]
    },
    {
      "cell_type": "markdown",
      "source": [
        "### Correlation between Categorical (non-binary) and Continuous Variables.\n",
        "\n",
        "*Target variable (CO2EMISSIONS) will be correlated with independent variables with categorical data values e.g MAKE,\tMODEL,\tVEHICLECLASS,\tENGINESIZE,\tTRANSMISSION, FUELTYPE.*\n",
        "\n",
        "*Assumming vehicle make and class do not effect or contribute to CO2 emission. We will only check if FuelType and Transmission are related to CO2 emission.*\n",
        "\n",
        "*The appropriate correlation technique for this type of data is Biserial or Point Biserial correlation.*"
      ],
      "metadata": {
        "id": "gHO4oEIewjFY"
      }
    },
    {
      "cell_type": "code",
      "source": [
        "# Importing Biserial correlation package\n",
        "\n",
        "from scipy.stats import pointbiserialr"
      ],
      "metadata": {
        "id": "v4BkgG41o7Oh"
      },
      "execution_count": 16,
      "outputs": []
    },
    {
      "cell_type": "code",
      "source": [
        "#Checking data values for Fuel Type and Transmission\n",
        "x1 = df['FUELTYPE'].value_counts()\n",
        "x2 = df['TRANSMISSION'].value_counts()\n",
        "\n",
        "print(x1)\n",
        "print()\n",
        "print(x2)"
      ],
      "metadata": {
        "id": "zaUXbjZB1_yO",
        "colab": {
          "base_uri": "https://localhost:8080/"
        },
        "outputId": "f9ec143e-121c-4ef5-f5a4-f6005a01494e"
      },
      "execution_count": 17,
      "outputs": [
        {
          "output_type": "stream",
          "name": "stdout",
          "text": [
            "X    514\n",
            "Z    434\n",
            "E     92\n",
            "D     27\n",
            "Name: FUELTYPE, dtype: int64\n",
            "\n",
            "A6     222\n",
            "AS6    189\n",
            "M6     141\n",
            "A8      87\n",
            "AS8     80\n",
            "AS7     76\n",
            "M5      48\n",
            "AV      46\n",
            "A4      45\n",
            "AM7     34\n",
            "A5      30\n",
            "A7      12\n",
            "AV6     11\n",
            "AS5     10\n",
            "M7       9\n",
            "A9       8\n",
            "AM6      6\n",
            "AV7      5\n",
            "AV8      3\n",
            "AS9      2\n",
            "AM5      2\n",
            "AS4      1\n",
            "Name: TRANSMISSION, dtype: int64\n"
          ]
        }
      ]
    },
    {
      "cell_type": "code",
      "source": [
        "# Converting to arrays for one hot encoding\n",
        "\n",
        "X = df[['ENGINESIZE','CYLINDERS','TRANSMISSION','FUELTYPE','FUELCONSUMPTION_COMB']].values\n",
        "X[0:5]"
      ],
      "metadata": {
        "id": "QYsr6nh9jVGa",
        "colab": {
          "base_uri": "https://localhost:8080/"
        },
        "outputId": "86fe7e9f-3609-4d35-ad0f-35cc0c69e56a"
      },
      "execution_count": 18,
      "outputs": [
        {
          "output_type": "execute_result",
          "data": {
            "text/plain": [
              "array([[2.0, 4, 'AS5', 'Z', 8.5],\n",
              "       [2.4, 4, 'M6', 'Z', 9.6],\n",
              "       [1.5, 4, 'AV7', 'Z', 5.9],\n",
              "       [3.5, 6, 'AS6', 'Z', 11.1],\n",
              "       [3.5, 6, 'AS6', 'Z', 10.6]], dtype=object)"
            ]
          },
          "metadata": {},
          "execution_count": 18
        }
      ]
    },
    {
      "cell_type": "code",
      "source": [
        "# Onehot encoding using label encoder to change string or categorical to numeric\n",
        "\n",
        "from sklearn import preprocessing\n",
        "le_trans = preprocessing.LabelEncoder()\n",
        "le_trans.fit(['A6','AS6','M6','A8','AS8','AS7','M5','AV','A4','AM7','A5','A7','AV6','AS5','M7','A9','AM6','AV7','AV8','AS9','AM5','AS4' ])\n",
        "X[:,2] = le_trans.transform(X[:,2]) \n",
        "\n",
        "le_fuel = preprocessing.LabelEncoder()\n",
        "le_fuel.fit(['D','E', 'X', 'Z']) \n",
        "X[:,3] = le_fuel.transform(X[:,3])\n",
        "\n",
        "X[0:5]"
      ],
      "metadata": {
        "id": "DPEgQvHb6Mo9",
        "colab": {
          "base_uri": "https://localhost:8080/"
        },
        "outputId": "59001b82-f701-4c6f-bbfe-a08c6116d6c1"
      },
      "execution_count": 19,
      "outputs": [
        {
          "output_type": "execute_result",
          "data": {
            "text/plain": [
              "array([[2.0, 4, 10, 3, 8.5],\n",
              "       [2.4, 4, 20, 3, 9.6],\n",
              "       [1.5, 4, 17, 3, 5.9],\n",
              "       [3.5, 6, 11, 3, 11.1],\n",
              "       [3.5, 6, 11, 3, 10.6]], dtype=object)"
            ]
          },
          "metadata": {},
          "execution_count": 19
        }
      ]
    },
    {
      "cell_type": "code",
      "source": [
        "# Converting the encoded X into pandas dataframe and adding headers\n",
        "\n",
        "X = pd.DataFrame(X)\n",
        "X.columns = ['ENGINESIZE','CYLINDERS','TRANSMISSION','FUELTYPE','FUELCONSUMPTION_COMB']\n",
        "X.head()"
      ],
      "metadata": {
        "id": "CXTn--GaduZ1",
        "colab": {
          "base_uri": "https://localhost:8080/",
          "height": 206
        },
        "outputId": "5128b69f-e3d1-452a-ce49-e0009a01f38a"
      },
      "execution_count": 20,
      "outputs": [
        {
          "output_type": "execute_result",
          "data": {
            "text/plain": [
              "  ENGINESIZE CYLINDERS TRANSMISSION FUELTYPE FUELCONSUMPTION_COMB\n",
              "0        2.0         4           10        3                  8.5\n",
              "1        2.4         4           20        3                  9.6\n",
              "2        1.5         4           17        3                  5.9\n",
              "3        3.5         6           11        3                 11.1\n",
              "4        3.5         6           11        3                 10.6"
            ],
            "text/html": [
              "\n",
              "  <div id=\"df-b2607a6c-683d-4b4f-9241-971a3f502c37\">\n",
              "    <div class=\"colab-df-container\">\n",
              "      <div>\n",
              "<style scoped>\n",
              "    .dataframe tbody tr th:only-of-type {\n",
              "        vertical-align: middle;\n",
              "    }\n",
              "\n",
              "    .dataframe tbody tr th {\n",
              "        vertical-align: top;\n",
              "    }\n",
              "\n",
              "    .dataframe thead th {\n",
              "        text-align: right;\n",
              "    }\n",
              "</style>\n",
              "<table border=\"1\" class=\"dataframe\">\n",
              "  <thead>\n",
              "    <tr style=\"text-align: right;\">\n",
              "      <th></th>\n",
              "      <th>ENGINESIZE</th>\n",
              "      <th>CYLINDERS</th>\n",
              "      <th>TRANSMISSION</th>\n",
              "      <th>FUELTYPE</th>\n",
              "      <th>FUELCONSUMPTION_COMB</th>\n",
              "    </tr>\n",
              "  </thead>\n",
              "  <tbody>\n",
              "    <tr>\n",
              "      <th>0</th>\n",
              "      <td>2.0</td>\n",
              "      <td>4</td>\n",
              "      <td>10</td>\n",
              "      <td>3</td>\n",
              "      <td>8.5</td>\n",
              "    </tr>\n",
              "    <tr>\n",
              "      <th>1</th>\n",
              "      <td>2.4</td>\n",
              "      <td>4</td>\n",
              "      <td>20</td>\n",
              "      <td>3</td>\n",
              "      <td>9.6</td>\n",
              "    </tr>\n",
              "    <tr>\n",
              "      <th>2</th>\n",
              "      <td>1.5</td>\n",
              "      <td>4</td>\n",
              "      <td>17</td>\n",
              "      <td>3</td>\n",
              "      <td>5.9</td>\n",
              "    </tr>\n",
              "    <tr>\n",
              "      <th>3</th>\n",
              "      <td>3.5</td>\n",
              "      <td>6</td>\n",
              "      <td>11</td>\n",
              "      <td>3</td>\n",
              "      <td>11.1</td>\n",
              "    </tr>\n",
              "    <tr>\n",
              "      <th>4</th>\n",
              "      <td>3.5</td>\n",
              "      <td>6</td>\n",
              "      <td>11</td>\n",
              "      <td>3</td>\n",
              "      <td>10.6</td>\n",
              "    </tr>\n",
              "  </tbody>\n",
              "</table>\n",
              "</div>\n",
              "      <button class=\"colab-df-convert\" onclick=\"convertToInteractive('df-b2607a6c-683d-4b4f-9241-971a3f502c37')\"\n",
              "              title=\"Convert this dataframe to an interactive table.\"\n",
              "              style=\"display:none;\">\n",
              "        \n",
              "  <svg xmlns=\"http://www.w3.org/2000/svg\" height=\"24px\"viewBox=\"0 0 24 24\"\n",
              "       width=\"24px\">\n",
              "    <path d=\"M0 0h24v24H0V0z\" fill=\"none\"/>\n",
              "    <path d=\"M18.56 5.44l.94 2.06.94-2.06 2.06-.94-2.06-.94-.94-2.06-.94 2.06-2.06.94zm-11 1L8.5 8.5l.94-2.06 2.06-.94-2.06-.94L8.5 2.5l-.94 2.06-2.06.94zm10 10l.94 2.06.94-2.06 2.06-.94-2.06-.94-.94-2.06-.94 2.06-2.06.94z\"/><path d=\"M17.41 7.96l-1.37-1.37c-.4-.4-.92-.59-1.43-.59-.52 0-1.04.2-1.43.59L10.3 9.45l-7.72 7.72c-.78.78-.78 2.05 0 2.83L4 21.41c.39.39.9.59 1.41.59.51 0 1.02-.2 1.41-.59l7.78-7.78 2.81-2.81c.8-.78.8-2.07 0-2.86zM5.41 20L4 18.59l7.72-7.72 1.47 1.35L5.41 20z\"/>\n",
              "  </svg>\n",
              "      </button>\n",
              "      \n",
              "  <style>\n",
              "    .colab-df-container {\n",
              "      display:flex;\n",
              "      flex-wrap:wrap;\n",
              "      gap: 12px;\n",
              "    }\n",
              "\n",
              "    .colab-df-convert {\n",
              "      background-color: #E8F0FE;\n",
              "      border: none;\n",
              "      border-radius: 50%;\n",
              "      cursor: pointer;\n",
              "      display: none;\n",
              "      fill: #1967D2;\n",
              "      height: 32px;\n",
              "      padding: 0 0 0 0;\n",
              "      width: 32px;\n",
              "    }\n",
              "\n",
              "    .colab-df-convert:hover {\n",
              "      background-color: #E2EBFA;\n",
              "      box-shadow: 0px 1px 2px rgba(60, 64, 67, 0.3), 0px 1px 3px 1px rgba(60, 64, 67, 0.15);\n",
              "      fill: #174EA6;\n",
              "    }\n",
              "\n",
              "    [theme=dark] .colab-df-convert {\n",
              "      background-color: #3B4455;\n",
              "      fill: #D2E3FC;\n",
              "    }\n",
              "\n",
              "    [theme=dark] .colab-df-convert:hover {\n",
              "      background-color: #434B5C;\n",
              "      box-shadow: 0px 1px 3px 1px rgba(0, 0, 0, 0.15);\n",
              "      filter: drop-shadow(0px 1px 2px rgba(0, 0, 0, 0.3));\n",
              "      fill: #FFFFFF;\n",
              "    }\n",
              "  </style>\n",
              "\n",
              "      <script>\n",
              "        const buttonEl =\n",
              "          document.querySelector('#df-b2607a6c-683d-4b4f-9241-971a3f502c37 button.colab-df-convert');\n",
              "        buttonEl.style.display =\n",
              "          google.colab.kernel.accessAllowed ? 'block' : 'none';\n",
              "\n",
              "        async function convertToInteractive(key) {\n",
              "          const element = document.querySelector('#df-b2607a6c-683d-4b4f-9241-971a3f502c37');\n",
              "          const dataTable =\n",
              "            await google.colab.kernel.invokeFunction('convertToInteractive',\n",
              "                                                     [key], {});\n",
              "          if (!dataTable) return;\n",
              "\n",
              "          const docLinkHtml = 'Like what you see? Visit the ' +\n",
              "            '<a target=\"_blank\" href=https://colab.research.google.com/notebooks/data_table.ipynb>data table notebook</a>'\n",
              "            + ' to learn more about interactive tables.';\n",
              "          element.innerHTML = '';\n",
              "          dataTable['output_type'] = 'display_data';\n",
              "          await google.colab.output.renderOutput(dataTable, element);\n",
              "          const docLink = document.createElement('div');\n",
              "          docLink.innerHTML = docLinkHtml;\n",
              "          element.appendChild(docLink);\n",
              "        }\n",
              "      </script>\n",
              "    </div>\n",
              "  </div>\n",
              "  "
            ]
          },
          "metadata": {},
          "execution_count": 20
        }
      ]
    },
    {
      "cell_type": "code",
      "source": [
        "corr1, pval1 = pointbiserialr(X['FUELTYPE'], df['CO2EMISSIONS'])\n",
        "corr2, pval2 = pointbiserialr(X['TRANSMISSION'], df['CO2EMISSIONS'])\n",
        "\n",
        "print(\"Biserial correlation coeffient for CO2 emission and Fuel is\", corr1.round(2), \"and the p-value is\", pval1)\n",
        "print(\"Biserial correlation coeffient for CO2 emission and transmission is\", corr2.round(2), \"and the p-value is\", pval2)\n"
      ],
      "metadata": {
        "id": "RzdhcECCz-4W",
        "colab": {
          "base_uri": "https://localhost:8080/"
        },
        "outputId": "4a147049-62c6-4a13-b4d2-301e8d200333"
      },
      "execution_count": 21,
      "outputs": [
        {
          "output_type": "stream",
          "name": "stdout",
          "text": [
            "Biserial correlation coeffient for CO2 emission and Fuel is 0.08 and the p-value is 0.014052252196548785\n",
            "Biserial correlation coeffient for CO2 emission and transmission is -0.3 and the p-value is 1.5481800462222164e-23\n"
          ]
        }
      ]
    },
    {
      "cell_type": "markdown",
      "source": [
        "## Feature Selection\n",
        "\n",
        "*Based on correlation analysis, the independent variables that are related with the target variable are EngineSize, No_of_Cylinders, and FuelConsumption.*"
      ],
      "metadata": {
        "id": "4ZpjmpuNL8E4"
      }
    },
    {
      "cell_type": "code",
      "source": [
        "# Defining single variable for linear regression\n",
        "\n",
        "x1 = X[['ENGINESIZE']]\n",
        "x2 = X[['CYLINDERS']]\n",
        "x3 = X[['FUELCONSUMPTION_COMB']]\n",
        "\n",
        "X = df[['ENGINESIZE','CYLINDERS','FUELCONSUMPTION_COMB']]\n",
        "Y = df['CO2EMISSIONS']"
      ],
      "metadata": {
        "id": "8P3OIzT5BUMb"
      },
      "execution_count": 22,
      "outputs": []
    },
    {
      "cell_type": "markdown",
      "source": [
        "## Model Building and Model Accuracy Measurement\n",
        "\n",
        "The following argorithms will be use on this dataset: Linear Regression, Multiple Linear Regression, and Polynomial Regression.\n"
      ],
      "metadata": {
        "id": "Poq8G3qyOkom"
      }
    },
    {
      "cell_type": "code",
      "source": [
        "# Import packages for model building and accuracy measurement\n",
        "\n",
        "from sklearn.linear_model import LinearRegression     # for Linear & Multiple Regression\n",
        "from sklearn.preprocessing import PolynomialFeatures  # for Polynomial Regression\n",
        "\n",
        "\n",
        "from sklearn.metrics import r2_score, mean_squared_error, mean_absolute_error # for measuring the accuracy of the measurement\n",
        "\n",
        "from math import sqrt "
      ],
      "metadata": {
        "id": "LJM1jIkqQH61"
      },
      "execution_count": 23,
      "outputs": []
    },
    {
      "cell_type": "markdown",
      "source": [
        "### Spliting Dataset into Train and Test **Data**\n",
        "80% Train Data \\\n",
        "20% Test Data"
      ],
      "metadata": {
        "id": "xF_Y9UaAec2T"
      }
    },
    {
      "cell_type": "code",
      "source": [
        "# Importing split package\n",
        "from sklearn.model_selection import train_test_split  \n",
        "\n",
        "# Splitting dataset\n",
        "x1_train, x1_test, y1_train, y1_test = train_test_split(x1, Y, test_size=0.2, random_state=10)  # data split for engine size\n",
        "x2_train, x2_test, y2_train, y2_test = train_test_split(x2, Y, test_size=0.2, random_state=22)  # data split for no of cylinders\n",
        "x3_train, x3_test, y3_train, y3_test = train_test_split(x3, Y, test_size=0.2, random_state=1)   # data split for fuel consumption\n",
        "\n",
        "print(\"Number of x1 train samples:\",x1_train.shape[0], \"and number of x1 test samples :\", x1_test.shape[0], '\\n')\n",
        "print(\"Number of x2 train samples:\",x2_train.shape[0], \"and number of x2 test samples :\", x2_test.shape[0], '\\n')\n",
        "print(\"Number of x1 train samples:\",x3_train.shape[0], \"and number of x3 test samples :\", x3_test.shape[0])"
      ],
      "metadata": {
        "id": "4ObiL7zDUtRb",
        "colab": {
          "base_uri": "https://localhost:8080/"
        },
        "outputId": "a6bb4241-7078-48ea-fa2f-a9ae34e6cead"
      },
      "execution_count": 24,
      "outputs": [
        {
          "output_type": "stream",
          "name": "stdout",
          "text": [
            "Number of x1 train samples: 853 and number of x1 test samples : 214 \n",
            "\n",
            "Number of x2 train samples: 853 and number of x2 test samples : 214 \n",
            "\n",
            "Number of x1 train samples: 853 and number of x3 test samples : 214\n"
          ]
        }
      ]
    },
    {
      "cell_type": "markdown",
      "source": [
        "### Linear Regression"
      ],
      "metadata": {
        "id": "OeSU04VwPF_n"
      }
    },
    {
      "cell_type": "code",
      "source": [
        "# Fitting a Linear Model on train data\n",
        "lr1 = LinearRegression()\n",
        "lr1.fit(x1_train,y1_train)\n",
        "\n",
        "lr2 = LinearRegression()\n",
        "lr2.fit(x2_train,y2_train)\n",
        "\n",
        "lr3 = LinearRegression()\n",
        "lr3.fit(x3_train,y3_train)\n",
        "\n",
        "# Making prediction on test data\n",
        "y1_pred = lr1.predict(x1_test)\n",
        "y2_pred = lr2.predict(x2_test)\n",
        "y3_pred = lr3.predict(x3_test)\n",
        "\n",
        "# Displaying model parameters\n",
        "print('y1 intercept:', lr1.intercept_, 'and', 'y1 cofficient:', lr1.coef_, '\\n')\n",
        "print('y2 intercept:', lr2.intercept_, 'and', 'y2 cofficient:', lr2.coef_, '\\n')\n",
        "print('y3 intercept:', lr3.intercept_, 'and', 'y3 cofficient:', lr3.coef_)"
      ],
      "metadata": {
        "id": "GBq9j48mOizE",
        "colab": {
          "base_uri": "https://localhost:8080/"
        },
        "outputId": "5a3f27cf-fe28-4b20-98fb-c2ca829ffda6"
      },
      "execution_count": 25,
      "outputs": [
        {
          "output_type": "stream",
          "name": "stdout",
          "text": [
            "y1 intercept: 124.10132175538084 and y1 cofficient: [39.39918757] \n",
            "\n",
            "y2 intercept: 85.40187576752157 and y2 cofficient: [29.5080983] \n",
            "\n",
            "y3 intercept: 67.21269924070313 and y3 cofficient: [16.33711954]\n"
          ]
        }
      ]
    },
    {
      "cell_type": "code",
      "source": [
        "print('The following are the accuracy values of the ML model that uses engine size as the only predictor')\n",
        "print('R-squared: %.2f'% r2_score(y1_test, y1_pred), \\\n",
        "      '|', 'MSE: %.2f'% mean_squared_error(y1_test, y1_pred), \\\n",
        "      '|','RMSE:%.2f'% sqrt(mean_squared_error(y1_test, y1_pred)), \\\n",
        "      '|','MAE: %.2f'% (mean_absolute_error(y1_test, y1_pred)), '\\n')\n",
        "\n",
        "print('The following are the accuracy values of the ML model that uses no of cylinders as the only predictor')\n",
        "print('R-squared: %.2f'% r2_score(y2_test, y2_pred), \\\n",
        "      '|', 'MSE: %.2f'% mean_squared_error(y2_test, y2_pred), \\\n",
        "      '|','RMSE:%.2f'% sqrt(mean_squared_error(y2_test, y2_pred)), \\\n",
        "      '|','MAE: %.2f'% (mean_absolute_error(y2_test, y2_pred)), '\\n')\n",
        "\n",
        "print('The following are the accuracy values of the ML model that uses fuel consumption as the only predictor')\n",
        "print('R-squared: %.2f'% r2_score(y3_test, y3_pred), \\\n",
        "      '|', 'MSE: %.2f'% mean_squared_error(y3_test, y3_pred), \\\n",
        "      '|','RMSE:%.2f'% sqrt(mean_squared_error(y3_test, y3_pred)), \\\n",
        "      '|','MAE: %.2f'% (mean_absolute_error(y3_test, y3_pred)))\n",
        "     \n",
        "     "
      ],
      "metadata": {
        "id": "OZB7KMV6oCQI",
        "colab": {
          "base_uri": "https://localhost:8080/"
        },
        "outputId": "f9545c97-c2cd-4eec-fdf0-9a47c6c82fbf"
      },
      "execution_count": 26,
      "outputs": [
        {
          "output_type": "stream",
          "name": "stdout",
          "text": [
            "The following are the accuracy values of the ML model that uses engine size as the only predictor\n",
            "R-squared: 0.72 | MSE: 1177.13 | RMSE:34.31 | MAE: 26.08 \n",
            "\n",
            "The following are the accuracy values of the ML model that uses no of cylinders as the only predictor\n",
            "R-squared: 0.71 | MSE: 1123.26 | RMSE:33.52 | MAE: 25.47 \n",
            "\n",
            "The following are the accuracy values of the ML model that uses fuel consumption as the only predictor\n",
            "R-squared: 0.79 | MSE: 857.80 | RMSE:29.29 | MAE: 20.50\n"
          ]
        }
      ]
    },
    {
      "cell_type": "code",
      "source": [
        "# Displaying linear regression model fitting using Engine Size as Independent variable\n",
        "\n",
        "width=8\n",
        "height=8\n",
        "\n",
        "plt.figure(figsize=(width, height))\n",
        "\n",
        "ax1 = sns.kdeplot(y1_test, color=\"r\", label=\"Actual Value for CO2 Emission\")\n",
        "ax = sns.kdeplot(y1_pred, color=\"b\", label=\"Fitted Value for CO2 Emission\" , ax = ax1)\n",
        "\n",
        "\n",
        "plt.title('Actual vs Predicted Values for CO2 Emission')\n",
        "plt.xlabel('CO2 Emission')\n",
        "plt.ylabel('Proportion of Emission')\n",
        "plt.legend()\n",
        "\n",
        "plt.show()\n",
        "plt.close()"
      ],
      "metadata": {
        "id": "JykhNmgMZiTa",
        "colab": {
          "base_uri": "https://localhost:8080/",
          "height": 513
        },
        "outputId": "2af576e1-2fac-4c37-9706-7d75933c08ca"
      },
      "execution_count": 27,
      "outputs": [
        {
          "output_type": "display_data",
          "data": {
            "text/plain": [
              "<Figure size 576x576 with 1 Axes>"
            ],
            "image/png": "[encoded data removed]"
          },
          "metadata": {
            "needs_background": "light"
          }
        }
      ]
    },
    {
      "cell_type": "code",
      "source": [
        "# Displaying linear regression model fitting using no of Cylinders as Independent variable\n",
        "\n",
        "width=8\n",
        "height=8\n",
        "\n",
        "plt.figure(figsize=(width, height))\n",
        "\n",
        "ax1 = sns.kdeplot(y2_test, color=\"r\", label=\"Actual Value for CO2 Emission\")\n",
        "ax = sns.kdeplot(y2_pred, color=\"b\", label=\"Fitted Value for CO2 Emission\", ax = ax1)\n",
        "\n",
        "\n",
        "plt.title('Actual vs Predicted Values for CO2 Emission')\n",
        "plt.xlabel('CO2 Emission')\n",
        "plt.ylabel('Proportion of Emission')\n",
        "plt.legend()\n",
        "\n",
        "plt.show()\n",
        "plt.close()"
      ],
      "metadata": {
        "id": "tbHHGnMpdKcn",
        "colab": {
          "base_uri": "https://localhost:8080/",
          "height": 513
        },
        "outputId": "8e23770a-52c6-4a6e-b5b5-b164c8d3b7e6"
      },
      "execution_count": 28,
      "outputs": [
        {
          "output_type": "display_data",
          "data": {
            "text/plain": [
              "<Figure size 576x576 with 1 Axes>"
            ],
            "image/png": "[encoded data removed]"
          },
          "metadata": {
            "needs_background": "light"
          }
        }
      ]
    },
    {
      "cell_type": "code",
      "source": [
        "# Displaying linear regression model fitting using Fuel Consumption as Independent variable\n",
        "\n",
        "width=8\n",
        "height=8\n",
        "\n",
        "plt.figure(figsize=(width, height))\n",
        "\n",
        "ax1 = sns.kdeplot(y3_test, color=\"r\", label=\"Actual Value for CO2 Emission\")\n",
        "ax = sns.kdeplot(y3_pred, color=\"b\", label=\"Fitted Value for CO2 Emission\", ax = ax1)\n",
        "\n",
        "\n",
        "plt.title('Actual vs Predicted Values for CO2 Emission')\n",
        "plt.xlabel('CO2 Emission')\n",
        "plt.ylabel('Proportion of Emission')\n",
        "plt.legend()\n",
        "\n",
        "plt.show()\n",
        "plt.close()"
      ],
      "metadata": {
        "id": "4nZTzdL3lBtO",
        "colab": {
          "base_uri": "https://localhost:8080/",
          "height": 513
        },
        "outputId": "3ffbb2d0-ddc0-47c0-9bef-571b230ffc4e"
      },
      "execution_count": 29,
      "outputs": [
        {
          "output_type": "display_data",
          "data": {
            "text/plain": [
              "<Figure size 576x576 with 1 Axes>"
            ],
            "image/png": "[encoded data removed]"
          },
          "metadata": {
            "needs_background": "light"
          }
        }
      ]
    },
    {
      "cell_type": "markdown",
      "source": [
        "### Multiple Linear Regression"
      ],
      "metadata": {
        "id": "WtDXgdMUv7Bm"
      }
    },
    {
      "cell_type": "code",
      "source": [
        "# Splitting dataset\n",
        "\n",
        "X_train, X_test, Y_train, Y_test = train_test_split(X, Y, test_size=0.2, random_state=10)  # data split for all the 3 independent variables and target variable\n",
        "\n",
        "print(\"Number of train samples:\",X_train.shape[0], \"and number of test samples :\", X_test.shape[0], '\\n')"
      ],
      "metadata": {
        "id": "GtGLhz_Cqld2",
        "colab": {
          "base_uri": "https://localhost:8080/"
        },
        "outputId": "702590eb-cd9b-41ff-f3e8-43a1ff6515af"
      },
      "execution_count": 30,
      "outputs": [
        {
          "output_type": "stream",
          "name": "stdout",
          "text": [
            "Number of train samples: 853 and number of test samples : 214 \n",
            "\n"
          ]
        }
      ]
    },
    {
      "cell_type": "code",
      "source": [
        "# Fitting a Linear Model on train data\n",
        "lr = LinearRegression()\n",
        "lr.fit(X_train,Y_train)\n",
        "\n",
        "# Making prediction on test data\n",
        "Y_pred1 = lr.predict(X_test)\n",
        "\n",
        "# Displaying model parameters\n",
        "print('Intercept:', lr.intercept_, 'and', 'Cofficients:', lr.coef_)"
      ],
      "metadata": {
        "id": "Ha_HDW6Rwm8S",
        "colab": {
          "base_uri": "https://localhost:8080/"
        },
        "outputId": "81aac2f3-f593-4361-f7f2-a1a6f127c5ef"
      },
      "execution_count": 31,
      "outputs": [
        {
          "output_type": "stream",
          "name": "stdout",
          "text": [
            "Intercept: 67.51291399733583 and Cofficients: [11.88860558  7.31675476  9.16732461]\n"
          ]
        }
      ]
    },
    {
      "cell_type": "code",
      "source": [
        "# Displaying multiple linear regression model fitting using 3 Independent variable\n",
        "\n",
        "width=8\n",
        "height=8\n",
        "\n",
        "plt.figure(figsize=(width, height))\n",
        "\n",
        "ax1 = sns.kdeplot(Y_test, color=\"r\", label=\"Actual Value for CO2 Emission\")\n",
        "ax = sns.kdeplot(Y_pred1, color=\"b\", label=\"Fitted Value for CO2 Emission\" , ax = ax1)\n",
        "\n",
        "\n",
        "plt.title('Actual vs Predicted Values for CO2 Emission')\n",
        "plt.xlabel('CO2 Emission')\n",
        "plt.ylabel('Proportion of Emission')\n",
        "plt.legend()\n",
        "\n",
        "plt.show()\n",
        "plt.close()"
      ],
      "metadata": {
        "id": "60xnRAz4xLCY",
        "colab": {
          "base_uri": "https://localhost:8080/",
          "height": 513
        },
        "outputId": "d9eccc09-6501-4eed-9881-ee24f90bd2af"
      },
      "execution_count": 32,
      "outputs": [
        {
          "output_type": "display_data",
          "data": {
            "text/plain": [
              "<Figure size 576x576 with 1 Axes>"
            ],
            "image/png": "[encoded data removed]"
          },
          "metadata": {
            "needs_background": "light"
          }
        }
      ]
    },
    {
      "cell_type": "code",
      "source": [
        "print('The following are the accuracy values of the multiple linear regression  model')\n",
        "print('R-squared: %.2f'% r2_score(Y_test, Y_pred1), \\\n",
        "      '|', 'MSE: %.2f'% mean_squared_error(Y_test, Y_pred1), \\\n",
        "      '|','RMSE:%.2f'% sqrt(mean_squared_error(Y_test, Y_pred1)), \\\n",
        "      '|','MAE: %.2f'% (mean_absolute_error(Y_test, Y_pred1)))\n"
      ],
      "metadata": {
        "id": "ecQeIiCkxV1P",
        "colab": {
          "base_uri": "https://localhost:8080/"
        },
        "outputId": "d31e9648-4a40-45c4-83c6-463c59212d9f"
      },
      "execution_count": 33,
      "outputs": [
        {
          "output_type": "stream",
          "name": "stdout",
          "text": [
            "The following are the accuracy values of the multiple linear regression  model\n",
            "R-squared: 0.87 | MSE: 526.69 | RMSE:22.95 | MAE: 16.91\n"
          ]
        }
      ]
    },
    {
      "cell_type": "markdown",
      "source": [
        "### Polynomial Regression"
      ],
      "metadata": {
        "id": "vpAfprxjyjnp"
      }
    },
    {
      "cell_type": "code",
      "source": [
        "# Fitting a Polynomial Model on train data\n",
        "\n",
        "pr = PolynomialFeatures(degree = 3)\n",
        "Xpr_train = pr.fit_transform(X_train)\n",
        "Xpr_test = pr.fit_transform(X_test)\n",
        "\n",
        "lr.fit(Xpr_train, Y_train)\n",
        "\n",
        "# # Making prediction on test data\n",
        "Y_pred2 = lr.predict(Xpr_test)"
      ],
      "metadata": {
        "id": "6vs0mpJ_x-ZL"
      },
      "execution_count": 34,
      "outputs": []
    },
    {
      "cell_type": "code",
      "source": [
        "print('The following are the accuracy values of the polynomial regression  model')\n",
        "print('R-squared: %.2f'% r2_score(Y_test, Y_pred2), \\\n",
        "      '|', 'MSE: %.2f'% mean_squared_error(Y_test, Y_pred2), \\\n",
        "      '|','RMSE:%.2f'% sqrt(mean_squared_error(Y_test, Y_pred2)), \\\n",
        "      '|','MAE: %.2f'% (mean_absolute_error(Y_test, Y_pred2)))\n"
      ],
      "metadata": {
        "id": "YoF-coi54Bke",
        "colab": {
          "base_uri": "https://localhost:8080/"
        },
        "outputId": "0356bd2a-8568-4a27-cb02-1baaf80020e5"
      },
      "execution_count": 35,
      "outputs": [
        {
          "output_type": "stream",
          "name": "stdout",
          "text": [
            "The following are the accuracy values of the polynomial regression  model\n",
            "R-squared: 0.92 | MSE: 318.58 | RMSE:17.85 | MAE: 11.72\n"
          ]
        }
      ]
    },
    {
      "cell_type": "code",
      "source": [
        "# Displaying polynomial regression model fitting using 3 Independent variable\n",
        "\n",
        "width=8\n",
        "height=8\n",
        "\n",
        "plt.figure(figsize=(width, height))\n",
        "\n",
        "ax1 = sns.kdeplot(Y_test, color=\"r\", label=\"Actual Value for CO2 Emission\")\n",
        "ax = sns.kdeplot(Y_pred2, color=\"b\", label=\"Fitted Value for CO2 Emission\" , ax = ax1)\n",
        "\n",
        "\n",
        "plt.title('Actual vs Predicted Values for CO2 Emission')\n",
        "plt.xlabel('CO2 Emission')\n",
        "plt.ylabel('Proportion of Emission')\n",
        "plt.legend()\n",
        "\n",
        "plt.show()\n",
        "plt.close()"
      ],
      "metadata": {
        "id": "qvLpBqjhzsN3",
        "colab": {
          "base_uri": "https://localhost:8080/",
          "height": 513
        },
        "outputId": "a47a646d-eaa6-46ba-9c83-331d3bb352df"
      },
      "execution_count": 36,
      "outputs": [
        {
          "output_type": "display_data",
          "data": {
            "text/plain": [
              "<Figure size 576x576 with 1 Axes>"
            ],
            "image/png": "[encoded data removed]"
          },
          "metadata": {
            "needs_background": "light"
          }
        }
      ]
    },
    {
      "cell_type": "markdown",
      "source": [
        "### Decision Tree Regression"
      ],
      "metadata": {
        "id": "ONVwYCOHo0GK"
      }
    },
    {
      "cell_type": "code",
      "source": [
        "# Importing DecisionTree Regression Package\n",
        "\n",
        "from sklearn.tree import DecisionTreeRegressor"
      ],
      "metadata": {
        "id": "mxTTp_5hRwe4"
      },
      "execution_count": 37,
      "outputs": []
    },
    {
      "cell_type": "code",
      "source": [
        "# Fitting a DecisionTree Regression Tree Model on train data\n",
        "regTree = DecisionTreeRegressor()\n",
        "regTree.fit(X_train,Y_train)\n",
        "\n",
        "# Making prediction on test data\n",
        "Y_pred3 = regTree.predict(X_test)"
      ],
      "metadata": {
        "id": "KWaF_FZyR4uK"
      },
      "execution_count": 38,
      "outputs": []
    },
    {
      "cell_type": "code",
      "source": [
        "print('The following are the accuracy values of the DecisionTree regression  model')\n",
        "print('R-squared: %.2f'% r2_score(Y_test, Y_pred3), \\\n",
        "      '|', 'MSE: %.2f'% mean_squared_error(Y_test, Y_pred3), \\\n",
        "      '|','RMSE:%.2f'% sqrt(mean_squared_error(Y_test, Y_pred3)), \\\n",
        "      '|','MAE: %.2f'% (mean_absolute_error(Y_test, Y_pred3)))"
      ],
      "metadata": {
        "colab": {
          "base_uri": "https://localhost:8080/"
        },
        "id": "auVZGhYiaFyh",
        "outputId": "b670393b-2307-4e0c-fade-939238ac6ce8"
      },
      "execution_count": 39,
      "outputs": [
        {
          "output_type": "stream",
          "name": "stdout",
          "text": [
            "The following are the accuracy values of the DecisionTree regression  model\n",
            "R-squared: 0.96 | MSE: 176.96 | RMSE:13.30 | MAE: 3.17\n"
          ]
        }
      ]
    },
    {
      "cell_type": "code",
      "source": [
        "# Displaying Decision Tree Regression model fitting using 3 Independent variable\n",
        "\n",
        "width=8\n",
        "height=8\n",
        "\n",
        "plt.figure(figsize=(width, height))\n",
        "\n",
        "ax1 = sns.kdeplot(Y_test, color=\"r\", label=\"Actual Value for CO2 Emission\")\n",
        "ax = sns.kdeplot(Y_pred3, color=\"b\", label=\"Fitted Value for CO2 Emission\" , ax = ax1)\n",
        "\n",
        "\n",
        "plt.title('Actual vs Predicted Values for CO2 Emission')\n",
        "plt.xlabel('CO2 Emission')\n",
        "plt.ylabel('Proportion of Emission')\n",
        "plt.legend()\n",
        "\n",
        "plt.show()\n",
        "plt.close()"
      ],
      "metadata": {
        "colab": {
          "base_uri": "https://localhost:8080/",
          "height": 513
        },
        "id": "JjFw7lLLaDbH",
        "outputId": "ee28141a-1a23-4779-d95a-1ee1d3aa0fd3"
      },
      "execution_count": 40,
      "outputs": [
        {
          "output_type": "display_data",
          "data": {
            "text/plain": [
              "<Figure size 576x576 with 1 Axes>"
            ],
            "image/png": "[encoded data removed]"
          },
          "metadata": {
            "needs_background": "light"
          }
        }
      ]
    },
    {
      "cell_type": "markdown",
      "source": [
        "### Random Forest Regressor"
      ],
      "metadata": {
        "id": "qz6wqpGbOk4k"
      }
    },
    {
      "cell_type": "code",
      "source": [
        "# Importing RandomForest Regression Package\n",
        "\n",
        "from sklearn.ensemble import RandomForestRegressor"
      ],
      "metadata": {
        "id": "CWt12gxSPZLi"
      },
      "execution_count": 41,
      "outputs": []
    },
    {
      "cell_type": "code",
      "source": [
        "# Fitting a Ramdom Forest Regression Tree Model on train data\n",
        "rfReg = RandomForestRegressor()\n",
        "rfReg.fit(X_train,Y_train)\n",
        "\n",
        "# Making prediction on test data\n",
        "Y_pred4 = rfReg.predict(X_test)"
      ],
      "metadata": {
        "id": "ZWjr_3zSQCGj"
      },
      "execution_count": 42,
      "outputs": []
    },
    {
      "cell_type": "code",
      "source": [
        "print('The following are the accuracy values of the RandomForest Regressor model')\n",
        "print('R-squared: %.2f'% r2_score(Y_test, Y_pred4), \\\n",
        "      '|', 'MSE: %.2f'% mean_squared_error(Y_test, Y_pred4), \\\n",
        "      '|','RMSE:%.2f'% sqrt(mean_squared_error(Y_test, Y_pred4)), \\\n",
        "      '|','MAE: %.2f'% (mean_absolute_error(Y_test, Y_pred4)))"
      ],
      "metadata": {
        "colab": {
          "base_uri": "https://localhost:8080/"
        },
        "id": "pFyFne4TR-S-",
        "outputId": "07001576-161a-4b62-9b2f-9ea53028693d"
      },
      "execution_count": 43,
      "outputs": [
        {
          "output_type": "stream",
          "name": "stdout",
          "text": [
            "The following are the accuracy values of the RandomForest Regressor model\n",
            "R-squared: 0.96 | MSE: 180.67 | RMSE:13.44 | MAE: 4.13\n"
          ]
        }
      ]
    },
    {
      "cell_type": "code",
      "source": [
        "# Displaying Ramdom Forest Regression model fitting using 3 Independent variable\n",
        "\n",
        "width=8\n",
        "height=8\n",
        "\n",
        "plt.figure(figsize=(width, height))\n",
        "\n",
        "ax1 = sns.kdeplot(Y_test, color=\"r\", label=\"Actual Value for CO2 Emission\")\n",
        "ax = sns.kdeplot(Y_pred3, color=\"b\", label=\"Fitted Value for CO2 Emission\" , ax = ax1)\n",
        "\n",
        "\n",
        "plt.title('Actual vs Predicted Values for CO2 Emission')\n",
        "plt.xlabel('CO2 Emission')\n",
        "plt.ylabel('Proportion of Emission')\n",
        "plt.legend()\n",
        "\n",
        "plt.show()\n",
        "plt.close()"
      ],
      "metadata": {
        "colab": {
          "base_uri": "https://localhost:8080/",
          "height": 513
        },
        "id": "D0OOVF3tTOoK",
        "outputId": "29ce40d3-db6c-4049-aee4-8433879db29a"
      },
      "execution_count": 44,
      "outputs": [
        {
          "output_type": "display_data",
          "data": {
            "text/plain": [
              "<Figure size 576x576 with 1 Axes>"
            ],
            "image/png": "[encoded data removed]"
          },
          "metadata": {
            "needs_background": "light"
          }
        }
      ]
    },
    {
      "cell_type": "markdown",
      "source": [
        "### Comparing Model Accuracy with Cross Validation"
      ],
      "metadata": {
        "id": "ZxtrH1zuTxjr"
      }
    },
    {
      "cell_type": "code",
      "source": [
        "# Importing cross validation package\n",
        "from sklearn.model_selection import cross_val_score, KFold\n",
        "\n",
        "# Randomizing and splitting data with KFold\n",
        "kf = KFold(5, shuffle=True, random_state=2)\n",
        "\n",
        "models = [LinearRegression(), DecisionTreeRegressor(), RandomForestRegressor()]\n",
        "\n",
        "def compare_models_cross_validation():\n",
        "  for model in models:\n",
        "    cvscore = cross_val_score(model, X, Y, cv=kf)\n",
        "    mean_cvscore = cvscore.mean()\n",
        "    print('Accuracy of the', model,'is',mean_cvscore.round(2),'\\n')\n",
        "\n"
      ],
      "metadata": {
        "id": "Ap41g5NRT40G"
      },
      "execution_count": 45,
      "outputs": []
    },
    {
      "cell_type": "code",
      "source": [
        "compare_models_cross_validation()"
      ],
      "metadata": {
        "colab": {
          "base_uri": "https://localhost:8080/"
        },
        "id": "wwcusUXTAS9K",
        "outputId": "5bffd172-8bb0-4d78-8fca-7d5410d00568"
      },
      "execution_count": 46,
      "outputs": [
        {
          "output_type": "stream",
          "name": "stdout",
          "text": [
            "Accuracy of the LinearRegression() is 0.86 \n",
            "\n",
            "Accuracy of the DecisionTreeRegressor() is 0.95 \n",
            "\n",
            "Accuracy of the RandomForestRegressor() is 0.96 \n",
            "\n"
          ]
        }
      ]
    },
    {
      "cell_type": "markdown",
      "source": [
        "## Comparing the values of predicted and actual CO emission - using the Multilinear Regression, Polynomial Regression and Decision Tree Regression on the Test Data"
      ],
      "metadata": {
        "id": "ZVjV7fyX6v1-"
      }
    },
    {
      "cell_type": "code",
      "source": [
        "# Converting X test data to pandas dataframe and reset the index or row number.\n",
        "X_test = pd.DataFrame(X_test)\n",
        "X_test.reset_index(drop = True, inplace = True)\n",
        "\n",
        "# Converting Y test data to pandas dataframe and reset the index or row number.\n",
        "Y_test = pd.DataFrame(Y_test)\n",
        "Y_test.reset_index(drop = True, inplace = True)\n",
        "\n",
        "# Converting Y predicted data to pandas dataframe and reset the index or row number.\n",
        "Y_pred1 = pd.DataFrame(Y_pred1)\n",
        "Y_pred1.columns = ['MultiReg_CO2EMISSION']\n",
        "\n",
        "Y_pred2 = pd.DataFrame(Y_pred2)\n",
        "Y_pred2.columns = ['PolyReg_CO2EMISSION']\n",
        "\n",
        "Y_pred3 = pd.DataFrame(Y_pred3)\n",
        "Y_pred3.columns = ['RegTree_CO2EMISSION']\n",
        "\n",
        "Y_pred4 = pd.DataFrame(Y_pred4)\n",
        "Y_pred4.columns = ['RamForest_CO2EMISSION']\n",
        "\n",
        "# Combining X, Y, and predicted Y \n",
        "df_new = pd.concat([X_test, Y_test, Y_pred1.round(), \\\n",
        "                                    Y_pred2.round(), \\\n",
        "                                    Y_pred3.round(), \\\n",
        "                                    Y_pred4.round()], axis = 1)\n",
        "\n",
        "# Printing first 5 rows                     \n",
        "df_new.head()   "
      ],
      "metadata": {
        "id": "Lo15Qj_F4kEm",
        "colab": {
          "base_uri": "https://localhost:8080/",
          "height": 206
        },
        "outputId": "ebf85bc3-5862-43c3-eb0c-b599fa07b0af"
      },
      "execution_count": 47,
      "outputs": [
        {
          "output_type": "execute_result",
          "data": {
            "text/plain": [
              "   ENGINESIZE  CYLINDERS  FUELCONSUMPTION_COMB  CO2EMISSIONS  \\\n",
              "0         1.6          4                   7.6           175   \n",
              "1         3.0          6                  11.5           264   \n",
              "2         3.2          6                  11.6           267   \n",
              "3         2.0          4                  10.0           230   \n",
              "4         3.5          6                  10.4           239   \n",
              "\n",
              "   MultiReg_CO2EMISSION  PolyReg_CO2EMISSION  RegTree_CO2EMISSION  \\\n",
              "0                 185.0                178.0                175.0   \n",
              "1                 253.0                263.0                264.0   \n",
              "2                 256.0                263.0                267.0   \n",
              "3                 212.0                223.0                230.0   \n",
              "4                 248.0                247.0                239.0   \n",
              "\n",
              "   RamForest_CO2EMISSION  \n",
              "0                  175.0  \n",
              "1                  264.0  \n",
              "2                  267.0  \n",
              "3                  230.0  \n",
              "4                  239.0  "
            ],
            "text/html": [
              "\n",
              "  <div id=\"df-28d60e49-9b22-4019-8f9b-1085d2f533b1\">\n",
              "    <div class=\"colab-df-container\">\n",
              "      <div>\n",
              "<style scoped>\n",
              "    .dataframe tbody tr th:only-of-type {\n",
              "        vertical-align: middle;\n",
              "    }\n",
              "\n",
              "    .dataframe tbody tr th {\n",
              "        vertical-align: top;\n",
              "    }\n",
              "\n",
              "    .dataframe thead th {\n",
              "        text-align: right;\n",
              "    }\n",
              "</style>\n",
              "<table border=\"1\" class=\"dataframe\">\n",
              "  <thead>\n",
              "    <tr style=\"text-align: right;\">\n",
              "      <th></th>\n",
              "      <th>ENGINESIZE</th>\n",
              "      <th>CYLINDERS</th>\n",
              "      <th>FUELCONSUMPTION_COMB</th>\n",
              "      <th>CO2EMISSIONS</th>\n",
              "      <th>MultiReg_CO2EMISSION</th>\n",
              "      <th>PolyReg_CO2EMISSION</th>\n",
              "      <th>RegTree_CO2EMISSION</th>\n",
              "      <th>RamForest_CO2EMISSION</th>\n",
              "    </tr>\n",
              "  </thead>\n",
              "  <tbody>\n",
              "    <tr>\n",
              "      <th>0</th>\n",
              "      <td>1.6</td>\n",
              "      <td>4</td>\n",
              "      <td>7.6</td>\n",
              "      <td>175</td>\n",
              "      <td>185.0</td>\n",
              "      <td>178.0</td>\n",
              "      <td>175.0</td>\n",
              "      <td>175.0</td>\n",
              "    </tr>\n",
              "    <tr>\n",
              "      <th>1</th>\n",
              "      <td>3.0</td>\n",
              "      <td>6</td>\n",
              "      <td>11.5</td>\n",
              "      <td>264</td>\n",
              "      <td>253.0</td>\n",
              "      <td>263.0</td>\n",
              "      <td>264.0</td>\n",
              "      <td>264.0</td>\n",
              "    </tr>\n",
              "    <tr>\n",
              "      <th>2</th>\n",
              "      <td>3.2</td>\n",
              "      <td>6</td>\n",
              "      <td>11.6</td>\n",
              "      <td>267</td>\n",
              "      <td>256.0</td>\n",
              "      <td>263.0</td>\n",
              "      <td>267.0</td>\n",
              "      <td>267.0</td>\n",
              "    </tr>\n",
              "    <tr>\n",
              "      <th>3</th>\n",
              "      <td>2.0</td>\n",
              "      <td>4</td>\n",
              "      <td>10.0</td>\n",
              "      <td>230</td>\n",
              "      <td>212.0</td>\n",
              "      <td>223.0</td>\n",
              "      <td>230.0</td>\n",
              "      <td>230.0</td>\n",
              "    </tr>\n",
              "    <tr>\n",
              "      <th>4</th>\n",
              "      <td>3.5</td>\n",
              "      <td>6</td>\n",
              "      <td>10.4</td>\n",
              "      <td>239</td>\n",
              "      <td>248.0</td>\n",
              "      <td>247.0</td>\n",
              "      <td>239.0</td>\n",
              "      <td>239.0</td>\n",
              "    </tr>\n",
              "  </tbody>\n",
              "</table>\n",
              "</div>\n",
              "      <button class=\"colab-df-convert\" onclick=\"convertToInteractive('df-28d60e49-9b22-4019-8f9b-1085d2f533b1')\"\n",
              "              title=\"Convert this dataframe to an interactive table.\"\n",
              "              style=\"display:none;\">\n",
              "        \n",
              "  <svg xmlns=\"http://www.w3.org/2000/svg\" height=\"24px\"viewBox=\"0 0 24 24\"\n",
              "       width=\"24px\">\n",
              "    <path d=\"M0 0h24v24H0V0z\" fill=\"none\"/>\n",
              "    <path d=\"M18.56 5.44l.94 2.06.94-2.06 2.06-.94-2.06-.94-.94-2.06-.94 2.06-2.06.94zm-11 1L8.5 8.5l.94-2.06 2.06-.94-2.06-.94L8.5 2.5l-.94 2.06-2.06.94zm10 10l.94 2.06.94-2.06 2.06-.94-2.06-.94-.94-2.06-.94 2.06-2.06.94z\"/><path d=\"M17.41 7.96l-1.37-1.37c-.4-.4-.92-.59-1.43-.59-.52 0-1.04.2-1.43.59L10.3 9.45l-7.72 7.72c-.78.78-.78 2.05 0 2.83L4 21.41c.39.39.9.59 1.41.59.51 0 1.02-.2 1.41-.59l7.78-7.78 2.81-2.81c.8-.78.8-2.07 0-2.86zM5.41 20L4 18.59l7.72-7.72 1.47 1.35L5.41 20z\"/>\n",
              "  </svg>\n",
              "      </button>\n",
              "      \n",
              "  <style>\n",
              "    .colab-df-container {\n",
              "      display:flex;\n",
              "      flex-wrap:wrap;\n",
              "      gap: 12px;\n",
              "    }\n",
              "\n",
              "    .colab-df-convert {\n",
              "      background-color: #E8F0FE;\n",
              "      border: none;\n",
              "      border-radius: 50%;\n",
              "      cursor: pointer;\n",
              "      display: none;\n",
              "      fill: #1967D2;\n",
              "      height: 32px;\n",
              "      padding: 0 0 0 0;\n",
              "      width: 32px;\n",
              "    }\n",
              "\n",
              "    .colab-df-convert:hover {\n",
              "      background-color: #E2EBFA;\n",
              "      box-shadow: 0px 1px 2px rgba(60, 64, 67, 0.3), 0px 1px 3px 1px rgba(60, 64, 67, 0.15);\n",
              "      fill: #174EA6;\n",
              "    }\n",
              "\n",
              "    [theme=dark] .colab-df-convert {\n",
              "      background-color: #3B4455;\n",
              "      fill: #D2E3FC;\n",
              "    }\n",
              "\n",
              "    [theme=dark] .colab-df-convert:hover {\n",
              "      background-color: #434B5C;\n",
              "      box-shadow: 0px 1px 3px 1px rgba(0, 0, 0, 0.15);\n",
              "      filter: drop-shadow(0px 1px 2px rgba(0, 0, 0, 0.3));\n",
              "      fill: #FFFFFF;\n",
              "    }\n",
              "  </style>\n",
              "\n",
              "      <script>\n",
              "        const buttonEl =\n",
              "          document.querySelector('#df-28d60e49-9b22-4019-8f9b-1085d2f533b1 button.colab-df-convert');\n",
              "        buttonEl.style.display =\n",
              "          google.colab.kernel.accessAllowed ? 'block' : 'none';\n",
              "\n",
              "        async function convertToInteractive(key) {\n",
              "          const element = document.querySelector('#df-28d60e49-9b22-4019-8f9b-1085d2f533b1');\n",
              "          const dataTable =\n",
              "            await google.colab.kernel.invokeFunction('convertToInteractive',\n",
              "                                                     [key], {});\n",
              "          if (!dataTable) return;\n",
              "\n",
              "          const docLinkHtml = 'Like what you see? Visit the ' +\n",
              "            '<a target=\"_blank\" href=https://colab.research.google.com/notebooks/data_table.ipynb>data table notebook</a>'\n",
              "            + ' to learn more about interactive tables.';\n",
              "          element.innerHTML = '';\n",
              "          dataTable['output_type'] = 'display_data';\n",
              "          await google.colab.output.renderOutput(dataTable, element);\n",
              "          const docLink = document.createElement('div');\n",
              "          docLink.innerHTML = docLinkHtml;\n",
              "          element.appendChild(docLink);\n",
              "        }\n",
              "      </script>\n",
              "    </div>\n",
              "  </div>\n",
              "  "
            ]
          },
          "metadata": {},
          "execution_count": 47
        }
      ]
    }
  ]
}